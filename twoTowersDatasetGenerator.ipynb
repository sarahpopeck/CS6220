{
 "cells": [
  {
   "cell_type": "code",
   "execution_count": null,
   "id": "f9a9f965",
   "metadata": {},
   "outputs": [],
   "source": [
    "import pandas as pd\n",
    "import matplotlib.pyplot as plt\n",
    "import re\n",
    "from ast import literal_eval"
   ]
  },
  {
   "cell_type": "markdown",
   "id": "9280a63f",
   "metadata": {},
   "source": [
    "# EDA"
   ]
  },
  {
   "cell_type": "code",
   "execution_count": null,
   "id": "c9416db8",
   "metadata": {},
   "outputs": [
    {
     "name": "stdout",
     "output_type": "stream",
     "text": [
      "                          Metric    Count\n",
      "0              Unique US Queries    29844\n",
      "1  US Judged Query-Product Pairs   601354\n",
      "2             Unique US Products  1215854\n"
     ]
    }
   ],
   "source": [
    "\n",
    "# Load raw ESCI data\n",
    "df_examples = pd.read_parquet(\"Shopping_queries_dataset_examples.parquet\")\n",
    "df_products = pd.read_parquet(\"Shopping_queries_dataset_products.parquet\")\n",
    "\n",
    "# Filter to U.S. data\n",
    "df_examples_us = df_examples[\n",
    "    (df_examples['product_locale'] == 'us') &\n",
    "    (df_examples['small_version'] == 1)\n",
    "]\n",
    "\n",
    "df_products_us = df_products[\n",
    "    (df_products['product_locale'] == 'us')\n",
    "]\n",
    "\n",
    "# Summary stats\n",
    "summary = {\n",
    "    \"Metric\": [\"Unique US Queries\", \"US Judged Query-Product Pairs\", \"Unique US Products\"],\n",
    "    \"Count\": [\n",
    "        df_examples_us['query'].nunique(),\n",
    "        len(df_examples_us),\n",
    "        df_products_us['product_id'].nunique()\n",
    "    ]\n",
    "}\n",
    "summary_df = pd.DataFrame(summary)\n",
    "print(summary_df)\n"
   ]
  },
  {
   "cell_type": "code",
   "execution_count": 3,
   "id": "7e80caed",
   "metadata": {},
   "outputs": [
    {
     "data": {
      "application/vnd.microsoft.datawrangler.viewer.v0+json": {
       "columns": [
        {
         "name": "index",
         "rawType": "int64",
         "type": "integer"
        },
        {
         "name": "product_id",
         "rawType": "object",
         "type": "string"
        },
        {
         "name": "product_title",
         "rawType": "object",
         "type": "string"
        },
        {
         "name": "product_description",
         "rawType": "object",
         "type": "unknown"
        },
        {
         "name": "product_bullet_point",
         "rawType": "object",
         "type": "unknown"
        },
        {
         "name": "product_brand",
         "rawType": "object",
         "type": "unknown"
        },
        {
         "name": "product_color",
         "rawType": "object",
         "type": "unknown"
        },
        {
         "name": "product_locale",
         "rawType": "object",
         "type": "string"
        }
       ],
       "ref": "35a01041-6965-4b50-b2b0-94d26704accd",
       "rows": [
        [
         "0",
         "B079VKKJN7",
         "11 Degrees de los Hombres Playera con Logo, Negro, L",
         "Esta playera con el logo de la marca Carrier de 11 Degrees viene en negro, con el logo de la marca en el pecho y un pequeño texto en la parte posterior. La camiseta tiene cuello redondo y manga corta.",
         "11 Degrees Negro Playera con logo\nA estrenar y genuina. Somos un vendedor autorizado de 11 Degrees.\nVer descripción del producto para obtener más información.",
         "11 Degrees",
         "Negro",
         "es"
        ],
        [
         "1",
         "B079Y9VRKS",
         "Camiseta Eleven Degrees Core TS White (M)",
         null,
         null,
         "11 Degrees",
         "Blanco",
         "es"
        ],
        [
         "2",
         "B07DP4LM9H",
         "11 Degrees de los Hombres Core Pull Over Hoodie, Azul, S",
         "La sudadera con capucha Core Pull Over de 11 Grados viene en color azul marino, con una capucha ajustable con cordones. Con un bolsillo en la parte delantera, esta sudadera con capucha para hombre tiene un logotipo de goma en la parte delantera y ojales de marca.",
         "11 Degrees Azul Core Pull Over Hoodie\nA estrenar y genuina. Somos un vendedor autorizado de 11 Degrees.\nVer descripción del producto para obtener más información.",
         "11 Degrees",
         "Azul",
         "es"
        ],
        [
         "3",
         "B07G37B9HP",
         "11 Degrees Poli Panel Track Pant XL Black",
         null,
         null,
         "11 Degrees",
         null,
         "es"
        ],
        [
         "4",
         "B07LCTGDHY",
         "11 Degrees Gorra Trucker Negro OSFA (Talla única para Todos sexos)",
         null,
         null,
         "11 Degrees",
         "Negro (",
         "es"
        ],
        [
         "5",
         "B07MSD1JH3",
         "11 Degrees de los Hombres Optum Poly Joggers, Negro, XL",
         "Los Optum Poly Joggers de 11 grados vienen con tobillos elásticos con cremallera y un logotipo de goma en el muslo. En color negro, estos joggers para hombre cuentan con cordón elástico en la cintura y bolsillos laterales abiertos. Estos corredores también se divierten marcando ambas piernas.",
         "11 Degrees Negro Optum Poly Joggers\nA estrenar y genuina. Somos un vendedor autorizado de 11 Degrees.\nVer descripción del producto para obtener más información.",
         "11 Degrees",
         "Negro",
         "es"
        ],
        [
         "6",
         "B07QKLGMHM",
         "11 Degrees Core Zip Poly Top S Black",
         "El Chándal ha sido diseñado con mangas largas con puños y una cremallera con cierre completo. El icónico logo de 11 Degrees se encuentra ubicado en la parte izquierda del pecho.Corte estándarTejido suave de poliésterCremallera con cierre enteroManga larga con puñosLogo de 11 Degrees100% poliésterLavar a máquina según las instrucciones de la etiqueta",
         null,
         "11 Degrees",
         "Negro",
         "es"
        ],
        [
         "7",
         "B07S1VM815",
         "11 Degrees Camiseta De Núcleo M Hot Red",
         null,
         null,
         "11 Degrees",
         null,
         "es"
        ],
        [
         "8",
         "B07T1HCDXG",
         "11 Degrees Trucker Cap - Black & White",
         null,
         null,
         "11 Degrees",
         "Black & White",
         "es"
        ],
        [
         "9",
         "B07VCV1LSQ",
         "11 Degrees Chaqueta Espacial S Black",
         "La chaqueta Space Puffer de 11 Degrees viene con bolsillos con cremallera, con un logotipo de goma en el pecho. Esta chaqueta, que viene en color negro, tiene un cierre de cremallera y una capucha elástica. Esta chaqueta también tiene puños y dobladillo elásticos.",
         "11 Degrees Negro Chaqueta acolchada\nA estrenar y genuina. Somos un vendedor autorizado de 11 Degrees.\nVer descripción del producto para obtener más información.",
         "11 Degrees",
         "Negro",
         "es"
        ],
        [
         "10",
         "B07VQVZYYS",
         "11 Degrees Chaqueta Espacial S Blk Wht",
         "La chaqueta Space Puffer de 11 Degrees viene en color negro / blanco, con cierre de cremallera y capucha elástica. Esta chaqueta también tiene puños y dobladillo elásticos. Con bolsillos con cremallera, esta chaqueta tiene un logotipo impreso en el pecho.",
         "11 Degrees Negro Chaqueta acolchada\nA estrenar y genuina. Somos un vendedor autorizado de 11 Degrees.\nVer descripción del producto para obtener más información.",
         "11 Degrees",
         "Negro",
         "es"
        ],
        [
         "11",
         "B07X4JVQQJ",
         "11 Degrees de los Hombres Pantalones de chándal Ajustados con Texto de Odin, Negro, S",
         "Los Joggers Odin Text Skinny Fit de 11 Degrees vienen con cinturilla y puños elásticos, con ojales y cordones de marca. Vienen en color negro, estos joggers para hombres cuentan con bolsillos traseros abiertos con un pequeño logotipo. Con un logotipo en la parte superior de la pierna izquierda, estos joggers lucen una marca impresa en la parte inferior de las piernas.",
         "11 Degrees Negro Pantalones de chándal ajustados con texto de Odin\nA estrenar y genuina. Somos un vendedor autorizado de 11 Degrees.\nVer descripción del producto para obtener más información.",
         "11 Degrees",
         "Negro",
         "es"
        ],
        [
         "12",
         "B07X7H1P3C",
         "11 Degrees de los Hombres Odin Text Hoodie, Negro, S",
         null,
         null,
         "11 Degrees",
         null,
         "es"
        ],
        [
         "13",
         "B07XC2WNW4",
         "11 Degrees 11º Odin Long Sleeve Logo Top Camiseta para Hombre - algodón Talla: M",
         "Ajuste normal. <br />Estilo No. 11D020-001 <br />Cuello redondo. <br />Mangas largas. <br />Logotipo grande 11D. <br />100% algodón.",
         "Corte regular.\nEstilo n.º 11D020-001\nCuello redondo.\nMangas largas.\nLogotipo grande 11D.",
         "11 Degrees",
         "Negro (",
         "es"
        ],
        [
         "14",
         "B081234FR2",
         "11 Degrees de los Hombres Joggers Pitillo de Doble Cintura con vellón, Negro, M",
         "Los pantalones de chándal pitillo de doble cintura de 11 grados vienen en color negro / dorado, con un logotipo impreso en la parte delantera y un logotipo en el bolsillo trasero. Con bolsillos abiertos, estos joggers cuentan con una cintura con cordón y tobillos elásticos. Estos joggers ajustados lucen una pretina interior elástica de marca.",
         "11 Degrees Negro Joggers pitillo de doble cintura con vellón\nA estrenar y genuina. Somos un vendedor autorizado de 11 Degrees.\nVer descripción del producto para obtener más información.",
         "11 Degrees",
         "Negro",
         "es"
        ],
        [
         "15",
         "B00AHS1QXU",
         "Durex Preservativos Saboreame con Sabores Afrutados - Pack 144 Condones",
         null,
         "PRESERVATIVOS DE SABORES AFRUTADOS: Estos preservativos tienen aroma y sabor afrutado para una diversión extra\nPERÍMETRO AJUSTADO: Anchura nominal de 53 mm para un mayor ajuste y comfort\nCONDONES LUBRICADOS: Lubricación de silicona para una experiencia más suave\nPRESERVATIVOS DE GROSOR MEDIO:PRESERVATIVOS DE GROSOR MEDIO: Elige el tuyo; todos somos diferentes, pero el preservativo adecuado debe hacerte sentir cómodo y seguro siempre\nFORMA RECTA: Preservativos de paredes rectas y depósito",
         "Durex",
         "Pleasurefruits",
         "es"
        ],
        [
         "16",
         "B00DAGWUZ4",
         "Preservativos Pasante sensibles, Pack de 144 (500666)",
         null,
         "Condón\nEmocionante\nEstimulante",
         "Pasante",
         null,
         "es"
        ],
        [
         "17",
         "B00YADAQDO",
         "CONTROL ADAPTA SENSO 144 UNID",
         "El especial diseño de Control Adapta Senso permite una perfecta adaptabilidad, haciendo tu relación sexual más satisfactoria. Su espesor aún más fino permite además aumentar la sensibilidad durante la relac",
         "CONTROL ADAPTA SENSO 144 UNID DE LA MARCA CONTROL\nEl especial dise&ntilde;o de Control Adapta Sens\no permite una perfecta adaptabilidad, haciendo tu\nSOMOS MUY DISCRETOS, ENTREGA URGENTE EN 24/48 HORAS",
         "Control",
         null,
         "es"
        ],
        [
         "18",
         "B0101081M2",
         "144 Preservativos Confortex Natural",
         "<br>  <br> ﻿Confortex Fresa caja de 144 preservativos   <br>Fabricados con látex de caucho natural. Clasicos Fresa, color rojo Condones lubricados Normativas InterNacionales Ancho nominal: 52 mm.   <br>Caducidad de 3 a 4 años  <br>Longitud 190mm  <br>",
         "Confortex Fresa caja de 144 preservativos  Fabricados con látex de caucho natural. Clasicos Fresa, color rojo Condones lubricados Normativas InterNacionales Ancho nominal: 52 mm.  Caducidad de 3 a 4 años Longitud 190mm",
         "144 Preservativos Confortex Natural",
         null,
         "es"
        ],
        [
         "19",
         "B01016YTBI",
         "144 Unilatex Fresa",
         "<br> <br> Caducidad: de 3 a 4 años﻿ <br>Unilatex Fresa 144 Unid. <br>Presevativos de olor y sabor a fresa. <br>",
         "Caducidad: de 3 a 4 años﻿ Unilatex Fresa 144 Unid. Presevativos de olor y sabor a fresa.",
         "144 Unilatex Fresa",
         null,
         "es"
        ],
        [
         "20",
         "B0142THLU6",
         "CONTROL ADAPTA FRESA 144 UNITS",
         "Bienvenido a la gama Originals, la opción idónea para quienes buscan vivir la pasión de la forma más natural. Esta gama con divertidos y exclusivos diseños, cuenta con cinco variedades de preservativos para satisfacer los gustos de cada consumidor: preservativos retardantes, lubricados, más largos… y todos, con la exclusiva forma Adapta, ergonómica y muy fácil de colocar LA RELACIÓN MÁS NATURAL. Con forma Adapta. Permite una perfecta adaptabilidad,  haciendo la relación sexual más  satisfactoria. Liso, anatómico, transparente,  lubricado y con depósito. Anchura nominal 54 mm. Sabor a Fresa. Siente grandes experiencias con Control! Envase de 144 unidades.",
         "CONTROL ADAPTA FRESA 144 UNITS DE LA MARCA CONTROL\nBienvenido a la gama Originals, la opci&oacute;n\nid&oacute;nea para quienes buscan vivir la pasi&oa\nSOMOS MUY DISCRETOS, ENTREGA URGENTE EN 24/48 HORAS",
         "CONTROL",
         null,
         "es"
        ],
        [
         "21",
         "B01NAHI56M",
         "Dreamlove Unilatex Preservativos Naturales - 144 Unidadeses",
         null,
         "Unilatex - Preservativos Naturales 144 Uds\nProducto para adultos\nContiene 144 unidad(es).",
         "DREAMLOVE",
         null,
         "es"
        ],
        [
         "22",
         "B00H29V4HA",
         "Abeil Edredón \"dulzura infinita\" Poliéster Blanco 400g/m², Cama 180 - 240 x 260 cm",
         null,
         "Contenido del paquete: 1.\nColor: Blanco\nDescripción del producto: Cubre 100% de microfibra de poliéster contacto \" piel de melocotón \". Relleno: 100% poliéster - 60% poliéster Cyclafill / 40% poliéster Airfill. Tamaño: 240 x 260 cm. Gramaje de relleno: 400 g/m² poliéster.\nTacto piel de melocotón.\nMezcla óptima de las dos fibras diferentes para el calor y un hinchado óptimo. Este edredón trae calor y suavidad.",
         "Abeil",
         "Blanco",
         "es"
        ],
        [
         "23",
         "B01BDK1NQK",
         "Catherine Lansfield Cityscape, Gris, 260 x 240 cm + 50 x 110 x 2 cm",
         null,
         "Dimensiones: 260 x 240 cm + 50 x 110 x 2 cm\n100% algodón\nLavable a máquina a 40º C",
         "Catherine Lansfield",
         "Gris",
         "es"
        ],
        [
         "24",
         "B01N41QMNC",
         "Catherine Lansfield Floral Bouquet - Funda nórdica y funda de almohada cama, 240 x 260 cm, color gris",
         null,
         "Hogar; textil; cama\n260 x 240 + 2 x 50x 110\n100% Algodón\n2 pillowcases 50x110",
         "Catherine Lansfield",
         "Gris",
         "es"
        ],
        [
         "25",
         "B01NA6E68R",
         "Catherine Lansfield Stars & Stripes - Funda nórdica y funda de almohada cama, 240 x 260 cm, Cama 180, Azul",
         null,
         "Hogar; textil; cama\n260 x 240 + 2 x 50x 110\n100% Algodón\n2 pillowcases 50x110",
         "Catherine Lansfield",
         "Azul",
         "es"
        ],
        [
         "26",
         "B0725CQXRW",
         "Amazon Basics Everyday - Juego de fundas de edredón nórdico y de almohada (100% algodón) Tapioca - 260 x 240 cm y 2 fundas 65 x 65 cm",
         null,
         "Incluye 1 funda de edredón y 2 fundas de almohada.\nFunda de edredón: 260 x 240 cm; fundas de almohada: 65 x 65 cm\nIncluye 1 funda de edredón y 2 fundas de almohada.\nFabricado en 100% algodón.\nLavar en lavadora con colores similares (hasta 40 ⁰C).",
         "Amazon Basics",
         "Tapioca",
         "es"
        ],
        [
         "27",
         "B074C63SXB",
         "Douceur d 'Intérieur Juego de Ropa de Cama, algodón, Multicolor, 240 x 260 cm",
         null,
         "Con diseño de impresión 42 hebras lugar\nSe recomienda lavar a máquina a 40 °\nMáxima recomendada de hierro ha 150 °\n260 x 240 cm\n1 piezas, 260 x 240 cm) y 2 fundas de almohada (cm)",
         "Douceur d'Intérieur",
         "Multicolor",
         "es"
        ],
        [
         "28",
         "B0797DSJV3",
         "COTTON ART Funda Nordica LOMBA Cama de 180 (260 X 240cm) Cierre con Cremallera.",
         "Funda nórdica COLOR GRIS. Tejido microfibra, poliéster 100% TACTO PÉTALO. IMPRESIÓN DIGITAL: Ultima tecnología del mercado textil mundial que consigue acabados extra suaves, impresión de alta definición y alta garantía y solidez de color en el lavado.Tacto suave tipo satinado. Apertura por los pies de la cama. Cierre con cremallera. Es apta para camas de 190 y de 200 cm de largo, ya que mide 240 cm. No incluye sábana bajera. Lavado a máquina con un programa suave a máx.40ºC. Se recomienda lavar del revés. No usar lejía. No lavar en seco. NO NECESITA PLANCHA. Si en este momento no tenemos de la medida que necesita consultenos disponibildad.",
         "Funda nórdica color GRIS. Cierre con CEMALLERA en la parte inferior asegurando un ajuste perfecto.\nIncluye: Funda nórdica Cama de 180 ( 260 ancho X 240cm largo )+ 2 FUNDAS DE ALMOHADA (45X110 cm). Los accesorios que aparecen en la foto no están incluidos.\nComposición: tejido microfibra 100% poliéster TACTO PÉTALO. Acabado satén EXTRA SUAVE. Tejido hipoalergénico, duradero y resistente a la decoloración. Garantía ANTI PEELING. No hace bolitas.\nIMPRESIÓN DIGITAL: Ultima tecnología del mercado textil mundial que consigue acabados extra suaves, impresión de alta definición y alta garantía y solidez de color en el lavado.\nLavado máquina programa suave máx. 40ºC. No usar lejia. No lavar en seco. Planchado fácil con temperatura muy baja.",
         "COTTON ART",
         "Azul",
         "es"
        ],
        [
         "29",
         "B07H3VHPT7",
         "Amazon Basics - Juego de funda nórdica 100% algodón supersuave - 260 x 240 cm / 65 x 65 cm, Blanco",
         null,
         "Incluye 1 funda nórdica (260 x 240 cm) y 1 funda de almohada (65 x 65 cm)\nColor: Blanco\nHecho con 100% algodón para una mayor comodidad, limpieza y transpirabilidad\nMuy suave para un sueño profundo y satisfactorio\nJuego combinado, para que puedas cuidar el estilo de tu cama con facilidad",
         "Amazon Basics",
         "Blanco",
         "es"
        ],
        [
         "30",
         "B07H431DTH",
         "Amazon Basics - Juego de funda nórdica 100% algodón - 260 x 240 cm / 65 x 65 cm, Blanco",
         null,
         "Incluye 1 funda nórdica (260 x 240 cm) y 2 fundas de almohada (65 x 65 cm)\nColor: Blanco\nHecho con 100% algodón para una mayor comodidad, limpieza y transpirabilidad\nMuy suave para un sueño profundo y satisfactorio\nJuego combinado, para que puedas cuidar el estilo de tu cama con facilidad",
         "Amazon Basics",
         "Blanco",
         "es"
        ],
        [
         "31",
         "B07H4RFM8Q",
         "Amazon Basics - Juego de funda nórdica ligera de algodón - 260 x 240 cm / 65 x 65 cm, Medallón",
         null,
         "Incluye 1 funda nórdica (260 x 240 cm) y 2 fundas de almohada (65 x 65 cm)\nColor: Medallón\nHecho con 100% algodón para una mayor comodidad, limpieza y transpirabilidad\nMuy suave para un sueño profundo y satisfactorio\nJuego combinado, para que puedas cuidar el estilo de tu cama con facilidad",
         "Amazon Basics",
         "Medallón",
         "es"
        ],
        [
         "32",
         "B07KYVLBKD",
         "Amazon Basics - Juego de fundas de edredón y almohada de microfibra premium (260 x 240 cm / 65 x 65 cm), franja gris gabana",
         null,
         "100% microfibra de poliéster cepillado (120 g/m²); más grueso que la microfibra estándar\nIncluye funda de edredón y 2 fundas de almohada\nNo se arruga; cierre con cremallera en la funda nórdica y la funda de almohada\nLavar a máquina en caliente y secar en secadora a baja temperatura; usar solo lejía sin cloro\nCombina con las sábanas ajustable y encimera de microfibra premium de Amazon Basics",
         "Amazon Basics",
         "Grey Cabana Stripe",
         "es"
        ],
        [
         "33",
         "B07Q1ZY63Q",
         "TODAY Cyclades Paros HC4 - Juego de Funda nórdica de 240 x 260 cm y 2 Fundas de Almohada, 100% algodón",
         null,
         "Con este juego direcciona las Cyclades y su perfume de vacaciones.\nTamaño: 1 funda de edredón de 240 x 260 cm y 2 fundas de almohada de 63 x 63 cm, apto para cama de matrimonio.\nModelo Paros - Reversible.\n100% algodón de 57 hilos, tejido denso.\nLo más pequeño: con ranuras para facilitar la colocación del edredón y cierre de botones ocultos para un acabado limpio.",
         "TODAY",
         "Azul Y Blanco",
         "es"
        ],
        [
         "34",
         "B009OWJ3RQ",
         "Carburador Stage6 R/T, Dellorto Vhst, 28 mm, HD: 122, ND: S45, Aguja: D54, Control Deslizante: 45, mischrohr: aq266",
         "La exclusiva se creó en colaboración con el fabricante italiano Carburador Dellorto Para Stage6 R/T Versión. óptico a reconocer en la pintura, que no se ha utilizado en el interior de la cámara de flotador negra. la cámara de flotador es completamente de aluminio, que gran ventaja en el uso de sistemas de succión, que el sobre el resultado de rueda trasera. un por los bucles de la cámara de flotador se por lo tanto Evita. ideal en combinación con el Stage6 subframes y los Stage6 R/T de aspiración espaciadores. del también está disponible en la versión R/T maximiza la bedüsung. son las Carburador Con Un Paso De 24, 26 y 28 mm. Disponible como individuales Carburador o como kit con un medias de una mezcla de Viton suaves de aspiración. la succión del surtidor es sólo en uso con el Stage6 R/T de manguera de aspiración Spacer paneles y se vende por separado. 24 mm (HD 110, ND S42, D56 Aguja, control deslizante 45, mezclas Aq264) 26 mm (HD 116, Nd: S40, aguja D44, control deslizante 45, mezclas Aq265) 28 mm (HD 122, Nd S45, aguja D54, control deslizante de 45, mezclas Aq266)... mayor descripción y a los vehículos http://www.amazon.heavytuned.de/data137934.pdf",
         "0",
         "Unbekannt",
         null,
         "es"
        ],
        [
         "35",
         "B012NTBJJG",
         "Hauptdüsenset Maxtuned für Dellorto Vergaser M5 - Größe 70-94 (Set 2)",
         "<p>Ideales Hauptd&uuml:senset zum Abstimmen des Vergasers. Im Set sind diese D&uuml:sen um einiges preiswerter als beim Einzelkauf! Passend f&uuml:r alle 19mm, 21mm DellOrto, BGM, Motoforce und MXT Vergaser mit 5mm Hauptd&uuml:se oder bei PHBL / VHS Vergasern 5mm Nebend&uuml:se. <br><br> Hier Kauft ihr das 5mm Set Set 2 :&nbsp:70, 74, 78, 82, 84, 86, 88, 90, 92, 94<br><br> Unser Tipp: Fangt am besten mit einer relativ gro&szlig:en Hauptd&uuml:se an. Sollte der Motor dann stottern d&uuml:st Ihr solange runter, bis der Motor ruhig l&auml:uft. Damit verhindert Ihr einen Zylinderschaden durch Abmagern des Gemisches!</p> <p><br><br> Insgesamt f&uuml:hren wir 4 verschiedene Hauptd&uuml:sensets!<br> Set 1 : 50, 52, 55, 58, 60, 62, 65, 68, 70, 72<br> Set 2 : 70, 74, 78, 82, 84, 86, 88, 90, 92, 94<br> Set 3 : 90, 92, 95, 98, 102, 105, 108, 110, 112, 115<br> Set Maxi : 60, 65, 70, 75, 80, 85, 90, 95, 100, 105, 110, 115, 120, 125, 130<br><br> <strong>Bitte achtet vor dem Kauf darauf, welcher Vergaser in eurem Fahrzeug verbaut ist ! Diese D&uuml:sen passen NUR auf die oben genannten Vergaser ! Die Fahrzeuge in der Modellliste haben vom Werk aus teilweise andere Typen verbaut, daher bitte Vergaser pr&uuml:fen!</strong></p>...<br/> <strong>Längere Beschreibung und passende Fahrzeuge unter http://www.amazon.heavytuned.de/data1477416.pdf</strong>",
         "Ideales Hauptdüsenset zum Abstimmen des Vergasers\nPassend für alle 19mm, 21mm DellOrto, BGM, Motoforce und MXT Vergaser mit 5mm Hauptdüse oder bei PHBL / VHS Vergasern 5mm Nebendüse.\nInsgesamt führen wir 4 verschiedene Hauptdüsensets! Set 1 : 50, 52, 55, 58, 60, 62, 65, 68, 70, 72 Set 2 : 70, 74, 78, 82, 84, 86, 88, 90, 92, 94 Set 3 : 90, 92, 95, 98, 102, 105, 108, 110, 112, 115 Set Maxi : 60, 65, 70, 75, 80, 85, 90, 95, 100, 105, 110\nHier Kauft ihr das 5mm Set Maxi : 60, 65, 70, 75, 80, 85, 90, 95, 100, 105, 110, 115, 120, 125, 130\nAprilia Area 51 50",
         "Maxtuned",
         null,
         "es"
        ],
        [
         "36",
         "B0148RBS1A",
         "Carburador Dellorto PHBH 28 BS",
         "CARBURADOR DELLORTO PHBH 28 BS (MONTAJE FLEXIBLE - SIN ACEITE - STARTER MANUAL) (REF 3302)<br /> CARBURADOR DELLORTO PHBH 28 BS (MONTAJE FLEXIBLE - SIN ACEITE - STARTER MANUAL) (REF 3302)<br />",
         "Para motores de 2 tiempos\nVenturi 28 mm\nMontaje flexible.\nPalanca de arranque\nPara motos y scooters.",
         "DELLORTO",
         null,
         "es"
        ],
        [
         "37",
         "B0196GHDX0",
         "Carburador YSN PHBH 28 BS",
         "Carburador para adaptaciones que puede sustituir a los modelos dellorto.",
         null,
         "YSN",
         null,
         "es"
        ],
        [
         "38",
         "B01MA1M0DY",
         "GOOFIT Carburador 28 Moto reemplazo para 4 Tiempos 125cc 150cc Motor ATV Quad Go Kart Pit Bike Ciclomotor y Scooter Plata",
         "<b>ACERCA DE GOOFIT</b><br>Establecido en 1998, tiene 20 años de cultura de marca. más de 200 empleados, ventas anuales de más de US $ 50 millones y aumentando gradualmente. Nuestra empresa se encuentra en Yongkang, que tiene la reputación de la ciudad del hardware. Está cerca de Yiwu, que es la base de exportación de materias primas más grande de China. Nuestra empresa se dedica a diseñar, desarrollar y producir accesorios para motocicletas mientras se mantienen productos antiguos de alta calidad. Continuaremos actualizando nuevos productos. Nuestra compañía es un líder de fabricante y exportador. Todas nuestras piezas cumplen con los estándares internacionales de certificación ISO y son muy apreciadas en varios mercados de todo el mundo.<br><br> <b>ACERCA DE LA CALIDAD</b><br>Solo podemos garantizar la alta calidad de los productos vendidos por GOOFIT.GOOFIT ES es el único vendedor autorizado de productos GOOFIT auténticos (distintos de Amazon) en la plataforma de Amazon. Las ofertas de otros vendedores son intentos de estafa, falsificación de productos o reventa no autorizada.<br><br><b>FUNCIÓN</b><br><b>Tamaño:</b>Carburador ;Manguito carburador 28mm;Filtro aire moto 50mm<br><b>Material:</b>Hecho de metal de alta,mantener la forma y el color, resistente a la corrosión y duradero<br><b>Paquete incluido:</b><br>1 x carburador, x \"GOOFIT\" marca llavero<br><b>Modelo de ajuste:</b><br>4 Tiempos KOSO PWK28 125cc 150cc Motor ATV Quad Go Kart Pit Bike Ciclomotor y Scooter<br><br><b>darse cuenta:</b> Por favor, confirme que el tamaño del producto cumple con sus requisitos antes de comprar.",
         "1. Tamaño: carburador de motocicleta; colector de carburador de 28 mm; filtro de aire de 50 mm\n2. Material: alto metal hecho, alta calidad, mantiene la forma y el color, protección contra la corrosión\n3. Adecuado para ciclomotor KOSO PWK28 de 4 tiempos 125cc 150cc ATV Quad Go Kart Pit Bike y Scooter Cafe Racer\n4. Característica: rendimiento de frenado óptimo, el diseño específico de la aplicación reduce el ruido que causa la vibración\n5. Recordatorio / Nota: Para asegurarse de comprar el producto correcto, lea atentamente la descripción del producto o el tamaño de la imagen. Gracias por su atención. Si tiene alguna pregunta o necesita ayuda, comuníquese con nosotros antes o después de la compra. haga todo lo posible para ofrecerle una solución.",
         "GOOFIT",
         "Plata",
         "es"
        ],
        [
         "39",
         "B071V8T7YX",
         "Motorize - Aprilia RS 125 del cable del acelerador del acelerador de 28 mm Dellorto",
         null,
         null,
         null,
         null,
         "es"
        ],
        [
         "40",
         "B071Y67719",
         "Hrph 20 Piezas Carburetor Jet Principal Kit Set Slow/Pilot Jet para PWK Keihin OKO CVK",
         null,
         null,
         "Hrph",
         null,
         "es"
        ],
        [
         "41",
         "B07733WCK9",
         "GOOFIT Carburador 28 Moto Filtro Aire 50mm Pit Bike para 2 Tiempos PWK28 Motosierra Motocross Scooter y Ciclomotor ATV Quad Go Kart Plata",
         "<b>ACERCA DE GOOFIT</b><br>Establecido en 1998, tiene 20 años de cultura de marca. más de 200 empleados, ventas anuales de más de US $ 50 millones y aumentando gradualmente. Nuestra empresa se encuentra en Yongkang, que tiene la reputación de la ciudad del hardware. Está cerca de Yiwu, que es la base de exportación de materias primas más grande de China. Nuestra empresa se dedica a diseñar, desarrollar y producir accesorios para motocicletas mientras se mantienen productos antiguos de alta calidad. Continuaremos actualizando nuevos productos. Nuestra compañía es un líder de fabricante y exportador. Todas nuestras piezas cumplen con los estándares internacionales de certificación ISO y son muy apreciadas en varios mercados de todo el mundo.<br><br> <b>ACERCA DE LA CALIDAD</b><br>Solo podemos garantizar la alta calidad de los productos vendidos por GOOFIT.GOOFIT ES es el único vendedor autorizado de productos GOOFIT auténticos (distintos de Amazon) en la plataforma de Amazon. Las ofertas de otros vendedores son intentos de estafa, falsificación de productos o reventa no autorizada.<br><br><b>FUNCIÓN</b><br><b>Tamaño:</b>Carburador ;Manguito carburador 28mm;Filtro aire moto 50mm<br><b>Material:</b>Hecho de metal de alta,mantener la forma y el color, resistente a la corrosión y duradero<br><b>Paquete incluido:</b><br>1 x carburador,1 x \"GOOFIT\" marca llavero<br><b>Modelo de ajuste:</b><br>2 Tiempos PWK28 Motosierra Motocross Scooter y Ciclomotor ATV Quad Go Kart<br><br><b>darse cuenta:</b> Por favor, confirme que el tamaño del producto cumple con sus requisitos antes de comprar.",
         "1: Nota: el filtro de combustible de aceite tiene varios colores, y lo enviaremos al azar\n(2) Tipo de tamaño: ajuste de 28 mm en motor de 75cc - 125cc; Condición: 100% nuevo. Alta calidad y muy duradero, buenas condiciones de trabajo y fácil de instalar.\n(3) Modelo específico: bicicletas de 2 tiempos / 4 t / 2 ciclos (75cc-350cc).\n(4) Piezas de carreras universales para Scooter, ATV, motocicleta y moto de tierra Súper reemplazo de rendimiento para OKO PWK Power Jet Carburetor CARB Universal para motocicletas, scooters, moto de tierra, ATV\n(5) Recordatorio / Nota: Para asegurarse de que está comprando el producto correcto, lea cuidadosamente la descripción del producto o el tamaño de la imagen. Gracias por su atención. Si tiene algún problema o necesita ayuda, contáctenos antes o después de su compra. Haremos todo lo posible para ayudarlo con la solución.",
         "GOOFIT",
         "Plata",
         "es"
        ],
        [
         "42",
         "B0773P5J8C",
         "WACOX CARBURADOR DELLORTO PHBH 28 (BS)",
         "Carburo Dellorto phbh 28 bs.",
         "Sexo: u\nNC: NC\nUniverso: motorizado",
         "WACOX",
         null,
         "es"
        ],
        [
         "43",
         "B07GRXPZ76",
         "Carburador Dellorto PHBH 28 RD",
         "Carburador para motores de 2 tiempo alrededor de 125 cc.<br/>Ajustes optimizados para las motos todoterreno. Tambien zurdas para la Aprilia Rx 125.<br/>- Montaje flexible: este carburador se emmanche dentro de una pipa de goma 36 mm.<br/>- Sistema de Starter a cable. Basta con conectar el cable (no incluido) para controlar el Starter al manillar.<br/>- Este carburador está equipado con un acoplador de engrasado separado.<br/>- Los tornillos de ajuste son a la derecha en el carburador.<br/>- Dispone de tres circuitos independientes: circuito principal, circuito de ralentí y circuito de Starter. Cada régimen motor puede ajustarse precisamente<br/>- Lado aspiración el cuerpo del carburador a una rosca M42 x 1,25. Viene con una pieza en 60 mm, que permite la fijación a una caja de filtro de aire por simple collar de sujeción (no incluido).<br/> Hardware original Dellorto",
         "Para motores de 2 tiempos\nVenturi 28 mm\nMontaje flexible\nStarter a cable\nMotos todoterreno",
         "DELL'ORTO",
         null,
         "es"
        ],
        [
         "44",
         "B07N8SZLN2",
         "Carburador, 28 mm Carburador Carb Fits para CR80 CR80RB 1996-2002 CR85 CR85R 2003, para PE28",
         "Especificación:<br> Condición: 100% nuevo<br> Material: Aluminio<br> Color gris<br> Colector de admisión: 28 mm / 1.1in<br> Peso del paquete: aprox. 530 g / 18,7 oz<br> Mobiliario: para Honda CR80 CR80RB 1996-2002 CR85 CR85R 2003<br> <br> Lista de paquetes:<br> 1 * carburador<br>",
         "Ajuste perfecto. Carburador 100% nuevo y de alta calidad. Ajuste para Honda CR80 CR80RB 1996-2002 CR85 CR85R 2003.\nReemplace directamente el carburador de motocicleta viejo o roto, el carburador de motocicleta es más económico que otros vendedores en el mercado y puede ahorrar su dinero.\nPara mantener su equipo de potencia al aire libre funcionando con el mejor rendimiento. Fabricado y probado para ayudar a entregar una capacidad óptima del motor.\nFácil de instalar. La instalación del carburador de motocicleta no requiere el uso de otras herramientas especiales, la ranura para tarjeta perfecta lo ayuda a operar fácilmente.\nGarantía de calidad. Ofrecemos garantía de producto por 24 meses. No dude en contactarnos si tiene alguna pregunta después de recibir nuestros productos, haremos todo lo posible para resolver su problema. Puedes comprarlo sin preocupaciones.",
         "Aramox",
         "popular",
         "es"
        ],
        [
         "45",
         "B07TZRW58J",
         "TOOGOO Kit de Reparación de Carburador para Motocicleta de 28 Mm Adecuado para Piezas de Recambio de Jets Pwk Keihin Oko",
         "<b>* TOOGOO es una marca registrada.Sólo el vendedor autorizado de corrector puede vender bajo TOOGOO listados.Nuestros productos mejorarán su experiencia a la inspiración sin igual.</b> Material: metal<br />color: color de la imagen<br />Contenido del paquete:<br />20 * Juego de repuesto de carburador<br />Solo el contenido del paquete anterior, otros productos no están incluidos.<br />Nota: Los disparos de luz y diferente pantalla pueden hacer que el color del elemento de la imagen un poco diferente de lo real objeto. El error de medición permitido es +/- 1-3 cm.",
         "Tama？o: 28 mm\nTipo: Juegos de repuesto de carburador",
         "TOOGOO",
         "Color de la imagen",
         "es"
        ],
        [
         "46",
         "B07V6JXKT6",
         "KKmoon Carburador de 28 mm PWK Power Jet para Scooter, ATV, moto y dirt bike.",
         "<b>Caracteristicas:</b><br /> Este carburador es universal para scooter, ATV, motocicleta y moto.<br /> Mantenga su motor funcionando al máximo rendimiento.<br /> Reemplazo perfecto para sus partes viejas o rotas.<br /> Hecho de material de primera calidad, duradero para un uso prolongado.<br /> Construido bajo un estricto control estándar, garantiza que el carburador tenga el rendimiento más confiable.<br /><br /><b>Especificación:</b><br /> Diámetro: 28 mm, 30 mm, 32 mm, 34 mm (opcional)<br /> Material: Metal<br /> Color plata<br /> Tamaño del paquete: 16 * 12 * 10cm / 6.30 * 4.72 * 3.94in<br /> Peso del paquete: 600g / 21.16oz<br /><br /><b>Lista de paquetes:</b><br /> 1 x Juego de carburador",
         "Este carburador es universal para scooter, ATV, motocicleta y moto.\nMantenga su motor funcionando al máximo rendimiento.\nReemplazo perfecto para sus partes viejas o rotas.\nHecho de material de primera calidad, duradero para un uso prolongado.\nConstruido bajo un estricto control estándar, garantiza que el carburador tenga el rendimiento más confiable.",
         "KKmoon",
         null,
         "es"
        ],
        [
         "47",
         "B07VZ8GR5H",
         "DELL'ORTO - Carburador Dellorto PHBH 28 BS (Montaje Flexible, sin engrasado, Arranque a Palanca) (Ref. 3302)",
         "Carburador Dellorto PHBH 28 bs (montaje flexible, sin grasa, arranque a palanca) (ref. 3302)",
         null,
         "DELL'ORTO",
         null,
         "es"
        ],
        [
         "48",
         "B07WFDD671",
         "Fastpro - Carburador de aleación de aluminio para motocicleta 21 mm, 24 mm, 26 mm, 28 mm, 30 mm, 32 mm, 34 mm",
         "Características:<br>Producto de gran calidad.<br>Fácil de instalar<br>Recibirás exactamente lo que se muestra en la imagen de arriba.<br><br>Características:<br>Color: El que aparece en la imagen.<br>Material: aleación de aluminio.<br>Carburador para OKO, 21 mm, 24 mm, 26 mm, 28 mm, 30 mm, 32 mm, 34 mm.<br><br>Compatible con:<br>El de 21 mm es para 90 cc a 110 cc.<br>El de 24 mm es para 90 cc a 125 cc.<br>El de 26 mm es para 110 cc a 125 cc.<br>El de 28 mm es para 125 cc a 150 cc.<br>El de 30 mm es para 150 cc a 200 cc.<br>El de 32 mm es para 200 cc a 250 cc.<br>El de 34 mm es para 200 cc a 250 cc.<br><br>El paquete incluye:<br>1 carburador como en la imagen.<br>No se incluyen instrucciones de instalación.",
         "Carburador para OKO, 21 mm, 24 mm, 26 mm, 28 mm, 30 mm, 32 mm, 34 mm.\nEl tamaño de 21 mm es para 90 cc a 110 cc; el de 24 mm es para 90 cc a 125 cc.\nEl tamaño de 26 mm es para a 110 cc a 125 cc; el de 28 mm es para 125 cc a 150 cc.\nEl tamaño de 30 mm es para 150 cc a 200 cc; el de 32 mm es para 200 cc a 250 cc.\nEl de 34 mm es para 200 cc a 250 cc.",
         "Fastpro",
         null,
         "es"
        ],
        [
         "49",
         "B081Z4Y581",
         "Kit de Puntera para carburador VHST 28 mm Dell'Orto",
         "Dell'Orto - Kit de punta para carburador VHST 28 mm",
         null,
         "DELL ORTO",
         null,
         "es"
        ]
       ],
       "shape": {
        "columns": 7,
        "rows": 1814924
       }
      },
      "text/html": [
       "<div>\n",
       "<style scoped>\n",
       "    .dataframe tbody tr th:only-of-type {\n",
       "        vertical-align: middle;\n",
       "    }\n",
       "\n",
       "    .dataframe tbody tr th {\n",
       "        vertical-align: top;\n",
       "    }\n",
       "\n",
       "    .dataframe thead th {\n",
       "        text-align: right;\n",
       "    }\n",
       "</style>\n",
       "<table border=\"1\" class=\"dataframe\">\n",
       "  <thead>\n",
       "    <tr style=\"text-align: right;\">\n",
       "      <th></th>\n",
       "      <th>product_id</th>\n",
       "      <th>product_title</th>\n",
       "      <th>product_description</th>\n",
       "      <th>product_bullet_point</th>\n",
       "      <th>product_brand</th>\n",
       "      <th>product_color</th>\n",
       "      <th>product_locale</th>\n",
       "    </tr>\n",
       "  </thead>\n",
       "  <tbody>\n",
       "    <tr>\n",
       "      <th>0</th>\n",
       "      <td>B079VKKJN7</td>\n",
       "      <td>11 Degrees de los Hombres Playera con Logo, Ne...</td>\n",
       "      <td>Esta playera con el logo de la marca Carrier d...</td>\n",
       "      <td>11 Degrees Negro Playera con logo\\nA estrenar ...</td>\n",
       "      <td>11 Degrees</td>\n",
       "      <td>Negro</td>\n",
       "      <td>es</td>\n",
       "    </tr>\n",
       "    <tr>\n",
       "      <th>1</th>\n",
       "      <td>B079Y9VRKS</td>\n",
       "      <td>Camiseta Eleven Degrees Core TS White (M)</td>\n",
       "      <td>None</td>\n",
       "      <td>None</td>\n",
       "      <td>11 Degrees</td>\n",
       "      <td>Blanco</td>\n",
       "      <td>es</td>\n",
       "    </tr>\n",
       "    <tr>\n",
       "      <th>2</th>\n",
       "      <td>B07DP4LM9H</td>\n",
       "      <td>11 Degrees de los Hombres Core Pull Over Hoodi...</td>\n",
       "      <td>La sudadera con capucha Core Pull Over de 11 G...</td>\n",
       "      <td>11 Degrees Azul Core Pull Over Hoodie\\nA estre...</td>\n",
       "      <td>11 Degrees</td>\n",
       "      <td>Azul</td>\n",
       "      <td>es</td>\n",
       "    </tr>\n",
       "    <tr>\n",
       "      <th>3</th>\n",
       "      <td>B07G37B9HP</td>\n",
       "      <td>11 Degrees Poli Panel Track Pant XL Black</td>\n",
       "      <td>None</td>\n",
       "      <td>None</td>\n",
       "      <td>11 Degrees</td>\n",
       "      <td>None</td>\n",
       "      <td>es</td>\n",
       "    </tr>\n",
       "    <tr>\n",
       "      <th>4</th>\n",
       "      <td>B07LCTGDHY</td>\n",
       "      <td>11 Degrees Gorra Trucker Negro OSFA (Talla úni...</td>\n",
       "      <td>None</td>\n",
       "      <td>None</td>\n",
       "      <td>11 Degrees</td>\n",
       "      <td>Negro (</td>\n",
       "      <td>es</td>\n",
       "    </tr>\n",
       "    <tr>\n",
       "      <th>...</th>\n",
       "      <td>...</td>\n",
       "      <td>...</td>\n",
       "      <td>...</td>\n",
       "      <td>...</td>\n",
       "      <td>...</td>\n",
       "      <td>...</td>\n",
       "      <td>...</td>\n",
       "    </tr>\n",
       "    <tr>\n",
       "      <th>1814919</th>\n",
       "      <td>B09FJYBVKS</td>\n",
       "      <td>スポーツブラ 揺れない ヨガウェア レディース トップス 通気性 ナイトブラ スポーツブラジ...</td>\n",
       "      <td>&lt;p&gt;【注意事項】&lt;/p&gt;&lt;p&gt;※商品内容以外のアクセサリー・小物等は付属しません.&lt;/p&gt;...</td>\n",
       "      <td>シンプルのデザインで合わせやすいです。コート、半袖、シャツを合わせて、家で着てもいい、寝てい...</td>\n",
       "      <td>Doworspaw</td>\n",
       "      <td>ベージュ</td>\n",
       "      <td>jp</td>\n",
       "    </tr>\n",
       "    <tr>\n",
       "      <th>1814920</th>\n",
       "      <td>B09FTJ3S1N</td>\n",
       "      <td>ブラジャー レディース 補正ブラ Gabrioir 揺れない 大きいサイズ バストアップ美胸...</td>\n",
       "      <td>&lt;p&gt;【配送】&lt;/p&gt;&lt;p&gt;普通には2-3日後出荷できますが。出荷した後15-25日ぐらい届...</td>\n",
       "      <td>【いろんな場合に適用】軽い運動時、家事、外出、長時間移動、温泉旅行などに活用なセクシルームブ...</td>\n",
       "      <td>Gabrioir</td>\n",
       "      <td>パープル</td>\n",
       "      <td>jp</td>\n",
       "    </tr>\n",
       "    <tr>\n",
       "      <th>1814921</th>\n",
       "      <td>B09G72LDQZ</td>\n",
       "      <td>レディース ブラジャー 補正ブラ トップス Gabrioir 大きいサイズ 揺れない 脇高設...</td>\n",
       "      <td>&lt;p&gt;【配送】&lt;/p&gt;&lt;p&gt;普通には2-3日後出荷できますが。出荷した後15-25日ぐらい届...</td>\n",
       "      <td>【いろんな場合に適用】軽い運動時、家事、外出、長時間移動、温泉旅行などに活用なセクシルームブ...</td>\n",
       "      <td>Gabrioir</td>\n",
       "      <td>ベージュ</td>\n",
       "      <td>jp</td>\n",
       "    </tr>\n",
       "    <tr>\n",
       "      <th>1814922</th>\n",
       "      <td>B09GBGRTPB</td>\n",
       "      <td>ナイトブラ ノンワイヤーブラ ブラジャー レディース Gabrioir 大きいサイズ パット...</td>\n",
       "      <td>&lt;p&gt;【配送】&lt;/p&gt;&lt;p&gt;普通には2-3日後出荷できますが。出荷した後15-25日ぐらい届...</td>\n",
       "      <td>【いろんな場合に適用】軽い運動時、家事、外出、長時間移動、温泉旅行などに活用なセクシルームブ...</td>\n",
       "      <td>Gabrioir</td>\n",
       "      <td>パープル</td>\n",
       "      <td>jp</td>\n",
       "    </tr>\n",
       "    <tr>\n",
       "      <th>1814923</th>\n",
       "      <td>B09GBKN83Q</td>\n",
       "      <td>インナーキャミソール レディース ブラトップ キャミソール Gabrioir ノーワイヤー ...</td>\n",
       "      <td>&lt;p&gt;【配送】&lt;/p&gt;&lt;p&gt;普通には2-3日後出荷できますが。出荷した後15-25日ぐらい届...</td>\n",
       "      <td>【いろんな場合に適用】軽い運動時、家事、外出、長時間移動、温泉旅行などに活用なセクシルームブ...</td>\n",
       "      <td>Gabrioir</td>\n",
       "      <td>ブラック</td>\n",
       "      <td>jp</td>\n",
       "    </tr>\n",
       "  </tbody>\n",
       "</table>\n",
       "<p>1814924 rows × 7 columns</p>\n",
       "</div>"
      ],
      "text/plain": [
       "         product_id                                      product_title  \\\n",
       "0        B079VKKJN7  11 Degrees de los Hombres Playera con Logo, Ne...   \n",
       "1        B079Y9VRKS          Camiseta Eleven Degrees Core TS White (M)   \n",
       "2        B07DP4LM9H  11 Degrees de los Hombres Core Pull Over Hoodi...   \n",
       "3        B07G37B9HP          11 Degrees Poli Panel Track Pant XL Black   \n",
       "4        B07LCTGDHY  11 Degrees Gorra Trucker Negro OSFA (Talla úni...   \n",
       "...             ...                                                ...   \n",
       "1814919  B09FJYBVKS  スポーツブラ 揺れない ヨガウェア レディース トップス 通気性 ナイトブラ スポーツブラジ...   \n",
       "1814920  B09FTJ3S1N  ブラジャー レディース 補正ブラ Gabrioir 揺れない 大きいサイズ バストアップ美胸...   \n",
       "1814921  B09G72LDQZ  レディース ブラジャー 補正ブラ トップス Gabrioir 大きいサイズ 揺れない 脇高設...   \n",
       "1814922  B09GBGRTPB  ナイトブラ ノンワイヤーブラ ブラジャー レディース Gabrioir 大きいサイズ パット...   \n",
       "1814923  B09GBKN83Q  インナーキャミソール レディース ブラトップ キャミソール Gabrioir ノーワイヤー ...   \n",
       "\n",
       "                                       product_description  \\\n",
       "0        Esta playera con el logo de la marca Carrier d...   \n",
       "1                                                     None   \n",
       "2        La sudadera con capucha Core Pull Over de 11 G...   \n",
       "3                                                     None   \n",
       "4                                                     None   \n",
       "...                                                    ...   \n",
       "1814919  <p>【注意事項】</p><p>※商品内容以外のアクセサリー・小物等は付属しません.</p>...   \n",
       "1814920  <p>【配送】</p><p>普通には2-3日後出荷できますが。出荷した後15-25日ぐらい届...   \n",
       "1814921  <p>【配送】</p><p>普通には2-3日後出荷できますが。出荷した後15-25日ぐらい届...   \n",
       "1814922  <p>【配送】</p><p>普通には2-3日後出荷できますが。出荷した後15-25日ぐらい届...   \n",
       "1814923  <p>【配送】</p><p>普通には2-3日後出荷できますが。出荷した後15-25日ぐらい届...   \n",
       "\n",
       "                                      product_bullet_point product_brand  \\\n",
       "0        11 Degrees Negro Playera con logo\\nA estrenar ...    11 Degrees   \n",
       "1                                                     None    11 Degrees   \n",
       "2        11 Degrees Azul Core Pull Over Hoodie\\nA estre...    11 Degrees   \n",
       "3                                                     None    11 Degrees   \n",
       "4                                                     None    11 Degrees   \n",
       "...                                                    ...           ...   \n",
       "1814919  シンプルのデザインで合わせやすいです。コート、半袖、シャツを合わせて、家で着てもいい、寝てい...     Doworspaw   \n",
       "1814920  【いろんな場合に適用】軽い運動時、家事、外出、長時間移動、温泉旅行などに活用なセクシルームブ...      Gabrioir   \n",
       "1814921  【いろんな場合に適用】軽い運動時、家事、外出、長時間移動、温泉旅行などに活用なセクシルームブ...      Gabrioir   \n",
       "1814922  【いろんな場合に適用】軽い運動時、家事、外出、長時間移動、温泉旅行などに活用なセクシルームブ...      Gabrioir   \n",
       "1814923  【いろんな場合に適用】軽い運動時、家事、外出、長時間移動、温泉旅行などに活用なセクシルームブ...      Gabrioir   \n",
       "\n",
       "        product_color product_locale  \n",
       "0               Negro             es  \n",
       "1              Blanco             es  \n",
       "2                Azul             es  \n",
       "3                None             es  \n",
       "4             Negro (             es  \n",
       "...               ...            ...  \n",
       "1814919          ベージュ             jp  \n",
       "1814920          パープル             jp  \n",
       "1814921          ベージュ             jp  \n",
       "1814922          パープル             jp  \n",
       "1814923          ブラック             jp  \n",
       "\n",
       "[1814924 rows x 7 columns]"
      ]
     },
     "execution_count": 3,
     "metadata": {},
     "output_type": "execute_result"
    }
   ],
   "source": [
    "df_products"
   ]
  },
  {
   "cell_type": "code",
   "execution_count": null,
   "id": "021495e4",
   "metadata": {},
   "outputs": [],
   "source": [
    "\n",
    "\n",
    "\n",
    "def desc_cleaner(text):\n",
    "    if pd.isnull(text): return \"\"\n",
    "    cleaner = re.compile('<.*?>')\n",
    "    return re.sub(cleaner, '', str(text)).strip()"
   ]
  },
  {
   "cell_type": "code",
   "execution_count": 5,
   "id": "6a0833df",
   "metadata": {},
   "outputs": [],
   "source": [
    "# === Load full dataset again ===\n",
    "df_full = pd.read_csv(\"data/processed_small_cleaned.csv\")"
   ]
  },
  {
   "cell_type": "code",
   "execution_count": null,
   "id": "49cd0885",
   "metadata": {},
   "outputs": [
    {
     "name": "stdout",
     "output_type": "stream",
     "text": [
      "📊 Null Value Counts:\n",
      "example_id                   0\n",
      "query                        0\n",
      "query_id                     0\n",
      "product_id                   0\n",
      "product_locale               0\n",
      "esci_label                   0\n",
      "small_version                0\n",
      "large_version                0\n",
      "split                        0\n",
      "product_title                1\n",
      "product_description     300297\n",
      "product_bullet_point     70128\n",
      "product_brand            29656\n",
      "product_color           184957\n",
      "full_product_text            0\n",
      "relevance                    0\n",
      "dtype: int64\n",
      "\n",
      "📝 Full Product Text Length Statistics:\n",
      "count    601354.000000\n",
      "mean        184.620032\n",
      "std         152.880243\n",
      "min           0.000000\n",
      "25%          60.000000\n",
      "50%         145.000000\n",
      "75%         277.000000\n",
      "max         971.000000\n",
      "Name: full_text_len, dtype: float64\n"
     ]
    },
    {
     "data": {
      "image/png": "[encoded data removed]",
      "text/plain": [
       "<Figure size 640x480 with 1 Axes>"
      ]
     },
     "metadata": {},
     "output_type": "display_data"
    }
   ],
   "source": [
    "\n",
    "# === Load cleaned dataset ===\n",
    "df = pd.read_csv(\"data/processed_small_cleaned.csv\")\n",
    "\n",
    "# === Check null values per column ===\n",
    "null_counts = df.isnull().sum()\n",
    "print(\"📊 Null Value Counts:\")\n",
    "print(null_counts)\n",
    "\n",
    "# === Calculate length of full_product_text ===\n",
    "df['full_text_len'] = df['full_product_text'].apply(lambda x: len(str(x).split()))\n",
    "\n",
    "# === Summary statistics ===\n",
    "print(\"\\n📝 Full Product Text Length Statistics:\")\n",
    "print(df['full_text_len'].describe())\n",
    "\n",
    "# === Plot distribution ===\n",
    "\n",
    "\n",
    "plt.hist(df['full_text_len'], bins=50, edgecolor='black')\n",
    "plt.title('Distribution of Full Product Text Lengths (in words)')\n",
    "plt.xlabel('Number of Words')\n",
    "plt.ylabel('Frequency')\n",
    "plt.grid(True)\n",
    "plt.tight_layout()\n",
    "plt.show()\n"
   ]
  },
  {
   "cell_type": "markdown",
   "id": "03a85e39",
   "metadata": {},
   "source": [
    "# Dataset Generation"
   ]
  },
  {
   "cell_type": "code",
   "execution_count": null,
   "id": "208bc62d",
   "metadata": {},
   "outputs": [],
   "source": [
    "\n",
    "# === File paths ===\n",
    "example_path = \"shopping_queries_dataset_examples.parquet\"\n",
    "product_path = \"shopping_queries_dataset_products.parquet\"\n",
    "output_path = \"data/processed_small.csv\"\n",
    "\n",
    "# === Load data ===\n",
    "df_examples = pd.read_parquet(example_path)\n",
    "df_products = pd.read_parquet(product_path)\n",
    "\n",
    "# === Filter to small version and US locale ===\n",
    "df_examples = df_examples[\n",
    "    (df_examples[\"small_version\"] == 1) &\n",
    "    (df_examples[\"product_locale\"] == \"us\")\n",
    "]\n",
    "\n",
    "# === Merge with product metadata ===\n",
    "df = pd.merge(\n",
    "    df_examples,\n",
    "    df_products,\n",
    "    how='left',\n",
    "    on=[\"product_id\", \"product_locale\"]\n",
    ")\n",
    "\n",
    "# === Fill nulls in relevant columns ===\n",
    "for col in ['product_title', 'product_description', 'product_brand', 'product_bullet_point']:\n",
    "    if col in df.columns:\n",
    "        df[col] = df[col].fillna('')\n",
    "    else:\n",
    "        df[col] = ''\n",
    "\n",
    "# === Create full product text ===\n",
    "df['full_product_text'] = (\n",
    "    df['product_title'] + ' ' +\n",
    "    df['product_description'] + ' ' +\n",
    "    df['product_brand'] + ' ' +\n",
    "    df['product_bullet_point']\n",
    ").str.strip()\n",
    "\n",
    "# === Map ESCI labels to relevance scores ===\n",
    "label_map = {\"E\": 3, \"S\": 2, \"C\": 1, \"I\": 0}\n",
    "df['relevance'] = df['esci_label'].map(label_map)\n",
    "\n",
    "# === Drop rows with missing or empty text ===\n",
    "df = df[df['relevance'].notnull()]\n",
    "df = df[df['query'].str.strip() != '']\n",
    "df = df[df['full_product_text'].str.strip() != '']\n",
    "\n",
    "# === Save the processed dataset ===\n",
    "os.makedirs(\"data\", exist_ok=True)\n",
    "df.to_csv(output_path, index=False)\n",
    "print(f\"✅ Processed dataset saved to: {output_path}\")\n"
   ]
  },
  {
   "cell_type": "code",
   "execution_count": null,
   "id": "dac117bd",
   "metadata": {},
   "outputs": [],
   "source": [
    "\n",
    "\n",
    "def desc_cleaner(text):\n",
    "    if pd.isnull(text): return \"\"\n",
    "    cleaner = re.compile('<.*?>')\n",
    "    return re.sub(cleaner, '', str(text)).strip()\n",
    "\n",
    "df = pd.read_csv(\"data/processed_small.csv\")\n",
    "\n",
    "columns_to_clean = [\n",
    "    'product_title',\n",
    "    'product_description',\n",
    "    'product_bullet_point',\n",
    "    'product_brand'\n",
    "]\n",
    "\n",
    "for col in columns_to_clean:\n",
    "    if col in df.columns:\n",
    "        df[col] = df[col].apply(desc_cleaner)\n",
    "\n",
    "# Optional: regenerate full_product_text\n",
    "df['full_product_text'] = (\n",
    "    df['product_title'] + ' ' +\n",
    "    df['product_description'] + ' ' +\n",
    "    df['product_brand'] + ' ' +\n",
    "    df['product_bullet_point']\n",
    ")\n",
    "\n",
    "# Save cleaned version\n",
    "df.to_csv(\"data/processed_small_cleaned.csv\", index=False)"
   ]
  },
  {
   "cell_type": "code",
   "execution_count": 2,
   "id": "2df57330",
   "metadata": {},
   "outputs": [],
   "source": [
    "# === Load full dataset again ===\n",
    "df_full = pd.read_csv(\"data/processed_small_cleaned.csv\")\n",
    "\n",
    "# === Load training set to exclude from test ===\n",
    "df_train = pd.read_csv(\"data/train_balanced_25k.csv\")\n",
    "\n",
    "# === Remove overlaps between train and full to get test pool ===\n",
    "df_test_pool = df_full.merge(\n",
    "    df_train[[\"query\", \"product_id\"]],\n",
    "    on=[\"query\", \"product_id\"],\n",
    "    how=\"left\",\n",
    "    indicator=True\n",
    ")\n",
    "df_test_pool = df_test_pool[df_test_pool[\"_merge\"] == \"left_only\"].drop(columns=[\"_merge\"])\n",
    "\n",
    "# === Keep only E and S for evaluation ===\n",
    "df_eval_pool = df_test_pool[df_test_pool[\"relevance\"] >= 2]\n",
    "\n",
    "# === Group by query to collect all relevant products ===\n",
    "query_to_product_map = (\n",
    "    df_eval_pool\n",
    "    .groupby(\"query\")[\"product_id\"]\n",
    "    .apply(list)\n",
    "    .reset_index(name=\"relevant_product_ids\")\n",
    ")\n",
    "\n",
    "# === Sample N unique queries for evaluation ===\n",
    "df_query_test = query_to_product_map.sample(n=4000, random_state=42).reset_index(drop=True)"
   ]
  },
  {
   "cell_type": "code",
   "execution_count": 6,
   "id": "11f56517",
   "metadata": {},
   "outputs": [],
   "source": [
    "df_query_test.to_csv('data/test_4k_query_only.csv')"
   ]
  },
  {
   "cell_type": "code",
   "execution_count": 12,
   "id": "001eb482",
   "metadata": {},
   "outputs": [
    {
     "data": {
      "application/vnd.microsoft.datawrangler.viewer.v0+json": {
       "columns": [
        {
         "name": "index",
         "rawType": "int64",
         "type": "integer"
        },
        {
         "name": "query",
         "rawType": "object",
         "type": "string"
        },
        {
         "name": "relevant_product_ids",
         "rawType": "object",
         "type": "unknown"
        }
       ],
       "ref": "edf0859e-978d-465a-8598-6af4bab57839",
       "rows": [
        [
         "0",
         "boys christmas shirt",
         "['B07TZN5M43', 'B07KWVFV5C', 'B07J55N9NL', 'B07G7R2X69', 'B077FZSZJ4', 'B075RB3QWT', 'B00PKMJM3E']"
        ],
        [
         "1",
         "mickey mouse photo booth frame",
         "['B086L111MD', 'B07DJXBTZC', 'B01GRVRNKK', 'B07DCNBFL1']"
        ],
        [
         "2",
         "0.5cc syringe without needle",
         "['B08QFGYYPH', 'B08L1KD91R', 'B08FFR6L7K', 'B07SFK6Z5J', 'B07S8YF6KK', 'B07QM74NWG', 'B07PY77BHF', 'B07P26ZY8C', 'B07P25XH8Z', 'B07GX4RJF3', 'B07C71C1LH', 'B07BQDRDC2', 'B01MQYE9RO']"
        ],
        [
         "3",
         "wig for prom for balc",
         "['B07V26NHHC', 'B07T2WMMVG', 'B07SVD5SHZ', 'B07LBJ1K91', 'B07KQ35WZP', 'B07KN8PPPM', 'B07DKTLXPB', 'B01LWYZ3D1', 'B06XRB23NG', 'B06XH19X3M', 'B01GYAUOBO', 'B016GNYPUK', 'B00XY980TC', 'B008GR4L18', 'B07BXRQC4S']"
        ],
        [
         "4",
         "gray black green grey khaki bdu",
         "['B077PSR3Z4', 'B077YQKJ8S', 'B07BH3LV7P', 'B07FXJCT1Z', 'B07H3BG7Y9', 'B07LBQ8NX5', 'B07RW7V6G4', 'B07WVSHPDD', 'B07VNL78MN', 'B06XSL14S6', 'B07WZCK587', 'B07YNC4V1S', 'B08FTCVKP9', 'B08C57M2R5', 'B07RW8FLWF', 'B01N3CJX7M', 'B085773DF3', 'B00D4D2TF4', 'B0001YY43Y', 'B000BASMIG', 'B000HE99YW', 'B000K2BG1A', 'B000KCU5EE', 'B000KCY9BY', 'B000YH3PII', 'B0016A90CM', 'B00MRSJ7Z2', 'B003UAWTVK', 'B004R8RLGM', 'B004UONTK0', 'B005H3AZ7S', 'B0065KVMMY', 'B008775IU0', 'B00D4CZ4D4', 'B003KSO4B0']"
        ],
        [
         "5",
         "wig with accessory",
         "['B07P32C7QR', 'B07NDZPPCC', 'B07NDZHNRD', 'B07NDZHM9X', 'B01BHFYMEQ', 'B00ZCI2B6Q', 'B00CA6F5ZC', 'B004UUHBIA', 'B01E88BYX6']"
        ],
        [
         "6",
         "febreze warmer",
         "['B07DQ19T5F', 'B08492PZ8Y', 'B07ZV3SFP5', 'B07MBHGW3W', 'B07M6PYNWL', 'B01M23ZIMS', 'B06WVDFPGQ', 'B01HPSRYQC', 'B00NFF1056', 'B00J36F5MK', 'B008RJWAY0', 'B004V927UM', 'B003ZVCYRS']"
        ],
        [
         "7",
         "biker jeans for boys size 8",
         "['B07YXPKDZ1', 'B07SQFMH6G', 'B07RMZ9TBS', 'B07D9KM3HS', 'B07CSR1F8J', 'B07BKKQQPK', 'B07TQRQ9LM', 'B079DJ3345', 'B078QGZ5P9', 'B077R9R6M4', 'B01MTYPVAM', 'B019419ECA', 'B00WFDIWPA', 'B0018SW4DY', 'B079DJ3K64']"
        ],
        [
         "8",
         "roy's gift card",
         "['B07GH7JZ91', 'B07RZ75JW3', 'B07RTN4C77', 'B07RPCJDYK', 'B07TMHZHTJ', 'B08B3NYGBF', 'B07ZSB9QYL', 'B0829R1QM7', 'B08PW4M3ZG', 'B07Y93PHLP', 'B07GFQ5B44', 'B01CZ54L66', 'B079YMX2J6', 'B00BXLVBC6', 'B07C3FKJF7', 'B01MQQJ896', 'B01LYVEBAO', 'B074T91QTZ', 'B0719C5P56', 'B01N5TMK8I', 'B01MSBQB1P']"
        ],
        [
         "9",
         "locker shelf tall",
         "['B07DPTPBSF', 'B07ZX3Y766', 'B07V5QW6RJ', 'B07FXFHG9N', 'B087V6948T', 'B079JBV1S2', 'B00X7NR4QK', 'B072HGFJ7D', 'B00M6CUI3O', 'B00LUTMFAS', 'B00JJRML4I', 'B00I2PHXTQ', 'B002MGEFUQ', 'B078HKRLV4']"
        ],
        [
         "10",
         "wall planters for outdoor plants large",
         "['B07YFS7G6P', 'B07VKLZB9C', 'B07QW41QQ8', 'B07SJSD39Q', 'B07F16P432', 'B077H5KVSJ', 'B01JG4E4ES', 'B07GKHT2BR']"
        ],
        [
         "11",
         "1 20 volt extension cord no it's not what i",
         "['B07JVK9HXR', 'B07VVKSYCZ', 'B08CXL1CGB', 'B08GFY6MXX', 'B08GK2P4SD', 'B00004SQF4', 'B00P68L9RO', 'B06XRFD9YK', 'B073FDJ4NY', 'B073ZDH43X', 'B074759VVG']"
        ],
        [
         "12",
         "red black striped leggings",
         "['B07FGLF2R3', 'B07FFJBLBW', 'B07DWQX1KY', 'B07KQF5376', 'B07DX2CGNP', 'B07L42TYD3', 'B07RSF1DWL', 'B07N327F8P', 'B07NS9YV31', 'B0831SCWCD', 'B08778948K', 'B087CLGDHD', 'B08D619B1K', 'B08KYCH4JD', 'B07D3V6VSY', 'B07L9M5PH2', 'B08F52F7TZ', 'B07785Q68M', 'B005GQ2SD0', 'B00E58JQA8', 'B00OM80EYS', 'B0123MFY12', 'B01306OVO6', 'B00XJUJF9U', 'B01B3IV11O', 'B01G90UGJ4', 'B01IA7N3BW', 'B01KXWF5ZO', 'B06XPWQH7R', 'B018E2GWKC', 'B071NZHWJG']"
        ],
        [
         "13",
         "salt gun",
         "['B08MWZH9TX', 'B08M1B49Q3', 'B08FJFVF59', 'B08CZQ146B', 'B07YNYV4DT', 'B07ZG5VRZX', 'B08Q75DY7K', 'B07Y3YZVGW', 'B089CDCCR1', 'B08XQ43LKD', 'B09B7BV2LN', 'B09C15YFJ2', 'B08GFFXTLT', 'B07RJZNY5C', 'B002BG1XHA', 'B00L6ATCSO', 'B00STSZ77G', 'B00TXQQDW6', 'B01M173US6', 'B01NCAI8GP', 'B07FPJ8T74', 'B078CPWMK9', 'B071Z2C8FN', 'B079JF8TKW']"
        ],
        [
         "14",
         "tell me without telling me",
         "['B08Y7LYDGM', 'B08Y7MK76P', 'B009VMN3RA', '1546026223']"
        ],
        [
         "15",
         "insulated collapsible coffee mug",
         "['B08194PLRS', 'B07YDZNF72', 'B07V8MZ7Z6', 'B07RJG8GTQ', 'B07QYQFN21', 'B07QPM2338', 'B07PD71NK3', 'B07N6PD2CN', 'B07L6N6JC4', 'B01N9K7HT0', 'B01N6JFX4Y', 'B00S4LJTEK', 'B00RH7QSLO', 'B07J23Q54C']"
        ],
        [
         "16",
         "n95 mask without valve",
         "['B08C1XTW5X', 'B08CSHJ3SG', 'B08CZZRZG9', 'B08DKT412R', 'B08FBK52KY', 'B08G5B5T8T', 'B08KWFWXKJ', 'B08L92R3VF', 'B08BGBKGWN', 'B08M132NQV', 'B08M4CPZCM', 'B08NPSB6W2', 'B08NPXHRL2', 'B08NVQZNYQ', 'B08PDT7XSX', 'B08Q8HKCTW', 'B08TX4FVQD', 'B08LTFCH7T', 'B08B9RSCRG', 'B088K83L7Z', 'B00GZJC1UW', 'B01EI9A75Q', 'B07KLSSXMJ', 'B0859YZTFL', 'B086JTS3D8', 'B087996M76', 'B087D8W65K', 'B087M2T7NP', 'B087Z7DP96', 'B087Z7N4XF', 'B0881Z618L', 'B089T43M7B', 'B089344XZF', 'B08716L7MH']"
        ],
        [
         "17",
         "cold brew coffe cup",
         "['B07D53XCNV', 'B084JJQFTG', 'B07HXG7RBH', 'B0711WZ7S7', 'B00FFLY64U', 'B0776ZSV8P']"
        ],
        [
         "18",
         "cricut cutter",
         "['B06XNS3C5J', 'B07SRDMV5W', 'B072VYPWM4', 'B06X9P1GF4', 'B00ZOU0W4K', 'B00X3LLUTI', 'B009GZUPFA', 'B01GSOMVRG']"
        ],
        [
         "19",
         ".50 cc syringe without needle",
         "['B08M63N2FV', 'B07P25XH8Z', 'B08DWLNLXH', 'B089M8VJC6', 'B07SFK6Z5J', 'B07QJZMN51', 'B07PY77BHF', 'B07GX4RJF3', 'B00OAC21Y2', 'B07BQDRDC2', 'B01N7IJXO5', 'B01N01TO2O', 'B01JJYYWH4', 'B013WWFJX0', 'B07GGQP7CQ']"
        ],
        [
         "20",
         "lifeproof case iphone 7 plus",
         "['B07K39JV4M', 'B07CCGLFWM', 'B074X4SF82', 'B074J88CPY', 'B01KIHDYDE', 'B00Z7T6JKE', 'B01KIHE2BW', 'B00Z7TXGC8']"
        ],
        [
         "21",
         "frostfire pest repeller",
         "['B08B8DHWFF', 'B08CV2Q15G', 'B08CVDMCKW', 'B08K2VZNCV', 'B08KFJ7KTX', 'B08L6B87Z5', 'B08Y5KB6MF', 'B08PDNCMMN', 'B08T9N4SDY', 'B088LTVSV9', 'B092M5419Z', 'B093GWW8LN', 'B095GSBW36', 'B096NCJHBD', 'B09BKVDPTC', 'B083TCR3F3', 'B097T93QY6', 'B083414J18', 'B083FKPVF5', 'B001B1OI0A', 'B001BZNAOQ', 'B005KNVH18', 'B0168895DK', 'B0168895OE', 'B01D3S2YW2', 'B01E6DHFPE', 'B01MQCLN45', 'B019G1TXII', 'B079J32ZRH', 'B07LCKBGY8', 'B07RXTVYX6', 'B07X47PYXF', 'B07YBZ2YYW', 'B07ZH4LZYF', 'B075SBMTQL']"
        ],
        [
         "22",
         "artic cat prowler solenoid",
         "['B07MKKD1TR', 'B07GTMGQZH', 'B07CK9WLL5', 'B01KK7W45Q', 'B07KG2PF3K', 'B00N3APMY8', 'B00JGVH174', 'B01KK7UGFQ']"
        ],
        [
         "23",
         "skylight projector",
         "['B08B1D22ZT', 'B089DLRM44', 'B0897LBPFY', 'B088T7Q5C9', 'B088KG17H9', 'B088GSPBXC', 'B087M2MDMZ', 'B08B3V2DHR', 'B086V41TDZ', 'B082VVMVZX', 'B07X7T8R65', 'B07X1XBSF9', 'B07L8R5PK6', 'B07FKFQ1WC', 'B08721N779']"
        ],
        [
         "24",
         "mens medical scrubs",
         "['B07K2KYNC8', 'B07K2JTGPY', 'B078J3X744', 'B077YQF2LG', 'B077YPD43B', 'B074N9PD9M', 'B01HYANOU6', 'B002BWGENM', 'B00KBZSUYC', 'B007HGPE06', 'B004DKFWGU', 'B003158HW4', 'B002IK957Y', 'B002BZXQQM', 'B00YAQCDN2']"
        ],
        [
         "25",
         "eternity now for men calvin klein deodorant",
         "['B07W6Z2Y8W', 'B07K8QQF1Q', 'B078Y4BT53', 'B078Y36PJY', 'B072C7X3KS', 'B00803FQFI', 'B012CDEKK8', 'B001BR4LCO', 'B0017JRE0W', 'B000VOHOG8', 'B000C21050', 'B0009OAGPQ', 'B00021AJ5I', 'B00803FPZO']"
        ],
        [
         "26",
         "ruffle aprons for women",
         "['B07TSKTMM2', 'B07K2ZPMDY', 'B07JGYVS39', 'B078X9C2B1', 'B07664CXQJ', 'B07383HYZ3', 'B072LS9X85', 'B018H339DQ', 'B0181X2DDY', 'B011GVT5O8', 'B00L6CBJX8', 'B00JREXY1M', 'B00IA0ORDI', 'B00DG8C4TI']"
        ],
        [
         "27",
         "kitchen under cabinet mount",
         "['B01GGRJM4U', 'B07KXQSTCL', 'B07K987HMV', 'B07GBXPMZS', 'B07N1HH49K', 'B01LXDXOZA', 'B01BIJY5U2', 'B0797CBRS8', 'B00I4I92C2', 'B00CVTPAYO', 'B00CO72X6G', 'B009GKIC8M', 'B00153U1Z0']"
        ],
        [
         "28",
         "lenovo - ideapad 3 15\" touchscreen laptop",
         "['B08J1GY8WT', 'B08F41S84R', 'B08GNXH7F6', 'B08FXJ4S2K', 'B08FX8GTFP', 'B08FHSFJHC', 'B089Y965LG', 'B082YNLNG6', 'B088GPCCJL', 'B087Z4Z21R', 'B081GMHQLR', 'B07X2LV4FG', 'B07WD8JY7J', 'B07TWHYTSQ', 'B088T671HD']"
        ],
        [
         "29",
         "zuchini green organic",
         "['B08KT518JX', 'B07GXYF3VH', 'B000WCYD7C', 'B00B0M5TXU', 'B01KH8JUGO']"
        ],
        [
         "30",
         "ge profile stove top protector",
         "['B0968WY54M', 'B07Z3KC5VS', 'B07Z21QYQC', 'B07NZZ1NPT', 'B07N4S9J97', 'B07MN3MK34', 'B07C3WKFQ2', 'B00MOCKZBG', 'B074KNRNCF']"
        ],
        [
         "31",
         "dj monitor speakers",
         "['B07WK2Q4JR', 'B07V9V88CQ', 'B07RJTRPPW', 'B07HMLYF4J', 'B07NDBM6F2', 'B07XD585DG', 'B07HGN756J', 'B07QC3XWV2', 'B07XQQKVG4', 'B081TLWZR3', 'B091W4361H', 'B07Y46ZG5M', 'B083N8N7TB', 'B08MLB9QL5', 'B08PL1KY9K', 'B08PPRTXSD', 'B0918HRYXH', 'B07H5MW82L', 'B07XZZTZ3Q', 'B07CZ7R1Z8', 'B017TIA1RC', 'B07CXJP84G', 'B07CXTMGKW', 'B00BQOHC3C', 'B00CE0VLXO', 'B00ILALQZO', 'B00PA2F148', 'B016P9HJIA', 'B016ZHLN7K', 'B01DW36BO0', 'B00ZGOGN1U', 'B071XS3DMM', 'B073V7MKQZ', 'B075QVMBT9', 'B0778Y9FZP', 'B077N2GQXC', 'B077QMN89L', 'B07BLZX73S', 'B01M0F374X', 'B07C5L7NKV']"
        ],
        [
         "32",
         "kaleidoscope",
         "['B076H9YSN5', 'B083CW5T87', 'B07Z9MNVNC', 'B07VHFG457', 'B07KBSTBT4', 'B07C6SXP7V', 'B06XT96KMY', 'B06XZ2Q815', 'B01LX7OICH', 'B01GGD6RYW', 'B013GQUAQI', 'B00VQYKMDY', 'B000ELSZW0']"
        ],
        [
         "33",
         "glass eyes craft",
         "['B0825L67X2', 'B07YCBTJYJ', 'B07XYSJWRZ', 'B07W96FHDW', 'B07LGV1MQH', 'B07JP19XSB', 'B07GM9M387', 'B07G7BL5HR', 'B073WSWS8N', 'B01NA8I4M7', 'B01N3PPLF7', 'B07BFCXBQL']"
        ],
        [
         "34",
         "hydro flask straw lid 24 oz",
         "['B07PVR8NR4', 'B07ZY628LQ', 'B07ZSC4T7Y', 'B07NQJB657', 'B07VTNXD26', 'B07KYZ3CYG', 'B07G8GVWKV', 'B07JR64T77', 'B07CDP4JD7', 'B01KXHGWQU', 'B01GW2GVC0', 'B07KVLBZK6']"
        ],
        [
         "35",
         "spaghetti strap summer dress",
         "['B07QL6Y5QN', 'B07S1J5TXG', 'B07RKJ4VYH', 'B07R8QQPNW', 'B07QVL3TVY', 'B07QSTMGYZ', 'B07Q46LLLC', 'B07PR8D8XG', 'B07KLZ5SWT', 'B07D8RZL8R', 'B07CND5D8T', 'B07BWC128N', 'B0749RGGHT', 'B07PRJL97S']"
        ],
        [
         "36",
         "home alone 2",
         "['B07PSB1KL2', 'B079HT4L8B', 'B074TN6SVP', 'B01MQKFHEC', 'B00FKJ7SHE', 'B00AGH54XK', 'B0091VTNZC', 'B008Y6OSSM', 'B0031QNMKK', 'B000I9U8IM', 'B0184MKY2Y']"
        ],
        [
         "37",
         "jesus was not a jew",
         "['B0944BHKTG', 'B093Z4NT1Y', 'B07VP6PKV1', 'B093ZZB234', 'B0060MU5W0', 'B0008BXK4Y', '1514226596', '1164486608']"
        ],
        [
         "38",
         "elite bmx bikes 20 inch",
         "['B09F9RN2R9', 'B0924NSD1N', 'B08Q7PSXXD', 'B08LPPTZ9L', 'B088NQJZWR', 'B085G637VQ', 'B07WYJF4L5', 'B07G1CS5QF', 'B07TDHS1L6', 'B07DR28GKQ', 'B07BNXR2YJ', 'B01LVXNPK7', 'B00UQ7RBFE', 'B00J7J40TM', 'B07WSY9WRG']"
        ],
        [
         "39",
         "thermal gloves",
         "['B07YY1RDZ4', 'B07XSK3QYL', 'B07XDQ4V93', 'B07WVX5Q2Y', 'B07WVVZXBC', 'B07WJZZKDX', 'B07JYJM6JT', 'B07HG3LH7B', 'B077JSN56X', 'B073XP2PBB', 'B01M5G6E6Y', 'B007BL26TO', 'B000V5DB1E', 'B07H9T6J3N']"
        ],
        [
         "40",
         "polaris ranger",
         "['B07KLSB4HX']"
        ],
        [
         "41",
         "heavy duty vehicle ramps",
         "['B0874JZ7BK', 'B07ZX5LXGR', 'B07NP5YFW9', 'B07NNSGP7V', 'B07KR2ZL68', 'B07DYGNT5B', 'B01MU89T8V', 'B01LZGQ7JN', 'B011AKMWY0', 'B0117EETEK', 'B0117EESNC']"
        ],
        [
         "42",
         "8ft pool tables for adults",
         "['B07GD7D5YR', 'B07HRD47VX', 'B07HRKPFPB', 'B07HRNB1J5', 'B07JMMVP14', 'B07R1HWS9B', 'B07R8WHQRY', 'B07S246RX4', 'B07S48X6KR', 'B07V7GC88Q', 'B07ZBVRRT3', 'B07FNTSQBC', 'B08CLSMSX6', 'B08JCZGMF3', 'B08JH5MVTL', 'B08KPSPPC4', 'B09G4KWVQK', 'B07S4B8W9X', 'B0769X69ZZ', 'B08KW5RW9L', 'B0754LZL3Q', 'B0756Q45W6', 'B002Q6DT0Y', 'B073J1G6CW', 'B07P7Z7HZY', 'B000T06MVW', 'B000VUDC22', 'B001CCHHX8', 'B001L2IBE8', 'B005IX37WC', 'B0010EGV7G', 'B008U6SCSI', 'B071WF6N9F', 'B008U6S3FU', 'B018E2LLTY', 'B016D3ZTR6', 'B00OZZKJS4', 'B00923WFJK', 'B015AHRE9C']"
        ],
        [
         "43",
         "sugar scrub origins",
         "['B083F6JJ2Q', 'B07VW3YSWH', 'B07JH3YY6M', 'B07H7YZ13H', 'B07GJR4KXM', 'B07G8PDKY2', 'B07M5PJHRN', 'B071W6WF37', 'B01K8PEZMU', 'B018H32LHQ', 'B00IH0AU1O', 'B004XPDRHQ', 'B004NA1GRO', 'B07G7QVSZT']"
        ],
        [
         "44",
         "grand opening ribbon",
         "['B07GDBV3YD', 'B07CG7TJ1F', 'B079K9R4KK', 'B0777L281D', 'B01G6VRLHG', 'B01EH012AK', 'B007Z20AJW', 'B007Z0YG62', 'B007Z0LV24', 'B007Z0LFFM']"
        ],
        [
         "45",
         "inflatable gag",
         "['B08936FTY5', 'B088CTCM2B', 'B083B94GDQ', 'B07VH8N49J', 'B07NTVBVGC']"
        ],
        [
         "46",
         "king dedede chrisymas",
         "['B08DXMHF82', 'B08DXJYZ7T', 'B08BZMJPZL', 'B08BZL5R34', 'B082FP9FPD', 'B081CWFF8B', 'B071XM6B3D', 'B01N9543XK', 'B01J4K3QJS', 'B01CG8UIJG', 'B00US7BXRY', 'B00PG6ZDPK', 'B00FMIZL8Q', 'B01CKGI0XA']"
        ],
        [
         "47",
         "park power 30 amp inlet",
         "['B083KBJRTD', 'B07TJJQP1S', 'B07JZ44ZKZ', 'B078XJFZK5', 'B0785N6B8Y', 'B077ZDMY46', 'B01N813C1O', 'B01N4V0YZR', 'B00KTS1T0S', 'B00KTS1RNW', 'B002QALLOQ', 'B002QAC66I', 'B000NUYZQC', 'B000NUXTD2', 'B000E3V9R6', 'B01MUF3NRF']"
        ],
        [
         "48",
         "powell peralta",
         "['B07X2STV57', 'B07GLNDSML', 'B077MKGL7D', 'B07842C5GF', 'B005DPGXZ8', 'B005DPGAOC', 'B005DPFUUW', 'B005DPFT3U', 'B005DPFK9S', 'B01MYF8M9P']"
        ],
        [
         "49",
         "pink and purple cat shirt",
         "['B07ZB9LBFG', 'B07SZ43CG4', 'B07PJM7Q1Q', 'B07PDHY58H', 'B07NH34DBC', 'B07TWFVBDF', 'B074QV3R1P', 'B01M6C5SJ2', 'B01LXKHYC5', 'B01DZX0B5W', 'B01CJND55C', 'B075416VJQ']"
        ]
       ],
       "shape": {
        "columns": 2,
        "rows": 500
       }
      },
      "text/html": [
       "<div>\n",
       "<style scoped>\n",
       "    .dataframe tbody tr th:only-of-type {\n",
       "        vertical-align: middle;\n",
       "    }\n",
       "\n",
       "    .dataframe tbody tr th {\n",
       "        vertical-align: top;\n",
       "    }\n",
       "\n",
       "    .dataframe thead th {\n",
       "        text-align: right;\n",
       "    }\n",
       "</style>\n",
       "<table border=\"1\" class=\"dataframe\">\n",
       "  <thead>\n",
       "    <tr style=\"text-align: right;\">\n",
       "      <th></th>\n",
       "      <th>query</th>\n",
       "      <th>relevant_product_ids</th>\n",
       "    </tr>\n",
       "  </thead>\n",
       "  <tbody>\n",
       "    <tr>\n",
       "      <th>0</th>\n",
       "      <td>boys christmas shirt</td>\n",
       "      <td>[B07TZN5M43, B07KWVFV5C, B07J55N9NL, B07G7R2X6...</td>\n",
       "    </tr>\n",
       "    <tr>\n",
       "      <th>1</th>\n",
       "      <td>mickey mouse photo booth frame</td>\n",
       "      <td>[B086L111MD, B07DJXBTZC, B01GRVRNKK, B07DCNBFL1]</td>\n",
       "    </tr>\n",
       "    <tr>\n",
       "      <th>2</th>\n",
       "      <td>0.5cc syringe without needle</td>\n",
       "      <td>[B08QFGYYPH, B08L1KD91R, B08FFR6L7K, B07SFK6Z5...</td>\n",
       "    </tr>\n",
       "    <tr>\n",
       "      <th>3</th>\n",
       "      <td>wig for prom for balc</td>\n",
       "      <td>[B07V26NHHC, B07T2WMMVG, B07SVD5SHZ, B07LBJ1K9...</td>\n",
       "    </tr>\n",
       "    <tr>\n",
       "      <th>4</th>\n",
       "      <td>gray black green grey khaki bdu</td>\n",
       "      <td>[B077PSR3Z4, B077YQKJ8S, B07BH3LV7P, B07FXJCT1...</td>\n",
       "    </tr>\n",
       "    <tr>\n",
       "      <th>...</th>\n",
       "      <td>...</td>\n",
       "      <td>...</td>\n",
       "    </tr>\n",
       "    <tr>\n",
       "      <th>495</th>\n",
       "      <td>bull boxer mens shoes</td>\n",
       "      <td>[B07PGZXD4W, B07PGHBC6X, B07PDHHKCC, B07NDFL8Z...</td>\n",
       "    </tr>\n",
       "    <tr>\n",
       "      <th>496</th>\n",
       "      <td>spark plug well seals</td>\n",
       "      <td>[B07519CZDJ, B087RJ37PT, B07HRZC8FV, B07BT1XMJ...</td>\n",
       "    </tr>\n",
       "    <tr>\n",
       "      <th>497</th>\n",
       "      <td>whose line is it anyway</td>\n",
       "      <td>[B07THGVFHC, B07S5252D3, B07J56GQDK, B075G15PY...</td>\n",
       "    </tr>\n",
       "    <tr>\n",
       "      <th>498</th>\n",
       "      <td>vintage shoes for women</td>\n",
       "      <td>[B07RMNHV65, B07QF9P362, B07H55QQ1C, B07D63W2J...</td>\n",
       "    </tr>\n",
       "    <tr>\n",
       "      <th>499</th>\n",
       "      <td>mary kay gel moisturizer</td>\n",
       "      <td>[B079XNWK1M, B079K69ZYJ, B079C2SFN8, B01FQ166K...</td>\n",
       "    </tr>\n",
       "  </tbody>\n",
       "</table>\n",
       "<p>500 rows × 2 columns</p>\n",
       "</div>"
      ],
      "text/plain": [
       "                               query  \\\n",
       "0               boys christmas shirt   \n",
       "1     mickey mouse photo booth frame   \n",
       "2       0.5cc syringe without needle   \n",
       "3              wig for prom for balc   \n",
       "4    gray black green grey khaki bdu   \n",
       "..                               ...   \n",
       "495            bull boxer mens shoes   \n",
       "496            spark plug well seals   \n",
       "497          whose line is it anyway   \n",
       "498          vintage shoes for women   \n",
       "499         mary kay gel moisturizer   \n",
       "\n",
       "                                  relevant_product_ids  \n",
       "0    [B07TZN5M43, B07KWVFV5C, B07J55N9NL, B07G7R2X6...  \n",
       "1     [B086L111MD, B07DJXBTZC, B01GRVRNKK, B07DCNBFL1]  \n",
       "2    [B08QFGYYPH, B08L1KD91R, B08FFR6L7K, B07SFK6Z5...  \n",
       "3    [B07V26NHHC, B07T2WMMVG, B07SVD5SHZ, B07LBJ1K9...  \n",
       "4    [B077PSR3Z4, B077YQKJ8S, B07BH3LV7P, B07FXJCT1...  \n",
       "..                                                 ...  \n",
       "495  [B07PGZXD4W, B07PGHBC6X, B07PDHHKCC, B07NDFL8Z...  \n",
       "496  [B07519CZDJ, B087RJ37PT, B07HRZC8FV, B07BT1XMJ...  \n",
       "497  [B07THGVFHC, B07S5252D3, B07J56GQDK, B075G15PY...  \n",
       "498  [B07RMNHV65, B07QF9P362, B07H55QQ1C, B07D63W2J...  \n",
       "499  [B079XNWK1M, B079K69ZYJ, B079C2SFN8, B01FQ166K...  \n",
       "\n",
       "[500 rows x 2 columns]"
      ]
     },
     "execution_count": 12,
     "metadata": {},
     "output_type": "execute_result"
    }
   ],
   "source": [
    "df_query_test"
   ]
  },
  {
   "cell_type": "code",
   "execution_count": null,
   "id": "cce46255",
   "metadata": {},
   "outputs": [
    {
     "data": {
      "image/png": "[encoded data removed]",
      "text/plain": [
       "<Figure size 800x500 with 1 Axes>"
      ]
     },
     "metadata": {},
     "output_type": "display_data"
    }
   ],
   "source": [
    "\n",
    "\n",
    "# === Load datasets ===\n",
    "df_full = pd.read_csv(\"data/processed_small_cleaned.csv\")\n",
    "df_train = pd.read_csv(\"data/train_balanced_25k.csv\")\n",
    "\n",
    "# === Count label distribution ===\n",
    "full_counts = df_full['relevance'].value_counts().sort_index()\n",
    "train_counts = df_train['relevance'].value_counts().sort_index()\n",
    "\n",
    "# === Align both for consistent plotting ===\n",
    "labels = sorted(set(full_counts.index).union(train_counts.index))\n",
    "full_vals = [full_counts.get(label, 0) for label in labels]\n",
    "train_vals = [train_counts.get(label, 0) for label in labels]\n",
    "\n",
    "# === Plot bar chart ===\n",
    "x = range(len(labels))\n",
    "plt.figure(figsize=(8, 5))\n",
    "plt.bar(x, full_vals, width=0.4, label='Full Dataset', align='center')\n",
    "plt.bar([i + 0.4 for i in x], train_vals, width=0.4, label='Train 25k Sample', align='center')\n",
    "plt.xticks([i + 0.2 for i in x], labels)\n",
    "plt.xlabel(\"ESCI Relevance Label\")\n",
    "plt.ylabel(\"Number of Samples\")\n",
    "plt.title(\"Distribution of Relevance Labels\")\n",
    "plt.legend()\n",
    "plt.tight_layout()\n",
    "plt.show()\n"
   ]
  },
  {
   "cell_type": "code",
   "execution_count": null,
   "id": "90bbb7cd",
   "metadata": {},
   "outputs": [
    {
     "data": {
      "image/png": "[encoded data removed]",
      "text/plain": [
       "<Figure size 600x400 with 1 Axes>"
      ]
     },
     "metadata": {},
     "output_type": "display_data"
    }
   ],
   "source": [
    "\n",
    "\n",
    "# Count and normalize\n",
    "full_counts = df_full['relevance'].value_counts().sort_index()\n",
    "full_percent = full_counts / full_counts.sum()\n",
    "\n",
    "# Plot\n",
    "plt.figure(figsize=(6, 4))\n",
    "bars = plt.bar(full_counts.index.astype(str), full_counts.values, color='skyblue')\n",
    "plt.title(\"Full Dataset Label Distribution\")\n",
    "plt.xlabel(\"ESCI Label\")\n",
    "plt.ylabel(\"Count\")\n",
    "\n",
    "# Add percentage labels\n",
    "for bar, pct in zip(bars, full_percent):\n",
    "    plt.text(bar.get_x() + bar.get_width() / 2, bar.get_height(), f\"{pct:.2%}\", \n",
    "             ha='center', va='bottom', fontsize=9)\n",
    "\n",
    "plt.tight_layout()\n",
    "plt.show()\n"
   ]
  },
  {
   "cell_type": "code",
   "execution_count": 11,
   "id": "ceef99af",
   "metadata": {},
   "outputs": [
    {
     "data": {
      "image/png": "[encoded data removed]",
      "text/plain": [
       "<Figure size 600x400 with 1 Axes>"
      ]
     },
     "metadata": {},
     "output_type": "display_data"
    }
   ],
   "source": [
    "\n",
    "# Count and normalize\n",
    "train_counts = df_train['relevance'].value_counts().sort_index()\n",
    "train_percent = train_counts / train_counts.sum()\n",
    "\n",
    "# Plot\n",
    "plt.figure(figsize=(6, 4))\n",
    "bars = plt.bar(train_counts.index.astype(str), train_counts.values, color='salmon')\n",
    "plt.title(\"25k Sampled Training Set Label Distribution\")\n",
    "plt.xlabel(\"ESCI Label\")\n",
    "plt.ylabel(\"Count\")\n",
    "\n",
    "# Add percentage labels\n",
    "for bar, pct in zip(bars, train_percent):\n",
    "    plt.text(bar.get_x() + bar.get_width() / 2, bar.get_height(), f\"{pct:.2%}\", \n",
    "             ha='center', va='bottom', fontsize=9)\n",
    "\n",
    "plt.tight_layout()\n",
    "plt.show()"
   ]
  },
  {
   "cell_type": "code",
   "execution_count": 11,
   "id": "b2f2d4fa",
   "metadata": {},
   "outputs": [
    {
     "name": "stdout",
     "output_type": "stream",
     "text": [
      "📊 Average number of relevant products per query: 15.15\n"
     ]
    }
   ],
   "source": [
    "import pandas as pd\n",
    "from ast import literal_eval\n",
    "\n",
    "# Load the test set\n",
    "df_query_test = pd.read_csv(\"data/test_4k_query_only.csv\")\n",
    "\n",
    "# Convert stringified list to actual list\n",
    "df_query_test[\"relevant_product_ids\"] = df_query_test[\"relevant_product_ids\"].apply(literal_eval)\n",
    "\n",
    "# Compute average number of relevant products per query\n",
    "avg_relevant_per_query = df_query_test[\"relevant_product_ids\"].apply(len).mean()\n",
    "\n",
    "print(f\"📊 Average number of relevant products per query: {avg_relevant_per_query:.2f}\")\n"
   ]
  },
  {
   "cell_type": "code",
   "execution_count": null,
   "id": "2137b2f1",
   "metadata": {},
   "outputs": [],
   "source": []
  }
 ],
 "metadata": {
  "kernelspec": {
   "display_name": "base",
   "language": "python",
   "name": "python3"
  },
  "language_info": {
   "codemirror_mode": {
    "name": "ipython",
    "version": 3
   },
   "file_extension": ".py",
   "mimetype": "text/x-python",
   "name": "python",
   "nbconvert_exporter": "python",
   "pygments_lexer": "ipython3",
   "version": "3.12.7"
  }
 },
 "nbformat": 4,
 "nbformat_minor": 5
}
