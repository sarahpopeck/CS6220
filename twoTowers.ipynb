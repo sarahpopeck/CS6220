{
 "cells": [
  {
   "cell_type": "code",
   "execution_count": 1,
   "id": "632822fd",
   "metadata": {},
   "outputs": [
    {
     "name": "stdout",
     "output_type": "stream",
     "text": [
      "✅ Training set saved: 25000 rows → data/processed_small_25k.csv\n",
      "✅ Test set saved:     4000 rows → data/processed_small_4k_test.csv\n"
     ]
    }
   ],
   "source": [
    "import pandas as pd\n",
    "\n",
    "# === Load fully preprocessed full dataset ===\n",
    "df_full = pd.read_csv(\"data/processed_small.csv\")\n",
    "\n",
    "# === Sanity check: drop duplicates (query, product_id) ===\n",
    "df_full = df_full.drop_duplicates(subset=[\"query\", \"product_id\"]).reset_index(drop=True)\n",
    "\n",
    "# === Sample 25k for training ===\n",
    "df_train = df_full.sample(n=25000, random_state=42).reset_index(drop=True)\n",
    "\n",
    "# === Remove training rows from full set to form the test pool ===\n",
    "df_test_pool = df_full.merge(\n",
    "    df_train[['query', 'product_id']],\n",
    "    on=['query', 'product_id'],\n",
    "    how='left',\n",
    "    indicator=True\n",
    ")\n",
    "df_test_pool = df_test_pool[df_test_pool['_merge'] == 'left_only'].drop(columns=['_merge'])\n",
    "\n",
    "# === Sample 4k for testing ===\n",
    "df_test = df_test_pool.sample(n=4000, random_state=123).reset_index(drop=True)\n",
    "\n",
    "# === Save both sets ===\n",
    "df_train.to_csv(\"data/processed_small_25k.csv\", index=False)\n",
    "df_test.to_csv(\"data/processed_small_4k_test.csv\", index=False)\n",
    "\n",
    "print(f\"✅ Training set saved: {len(df_train)} rows → data/processed_small_25k.csv\")\n",
    "print(f\"✅ Test set saved:     {len(df_test)} rows → data/processed_small_4k_test.csv\")"
   ]
  },
  {
   "cell_type": "code",
   "execution_count": 2,
   "id": "25ffd7d2",
   "metadata": {},
   "outputs": [
    {
     "name": "stdout",
     "output_type": "stream",
     "text": [
      "WARNING:tensorflow:From C:\\Users\\Nico Rig\\AppData\\Roaming\\Python\\Python312\\site-packages\\tf_keras\\src\\losses.py:2976: The name tf.losses.sparse_softmax_cross_entropy is deprecated. Please use tf.compat.v1.losses.sparse_softmax_cross_entropy instead.\n",
      "\n"
     ]
    },
    {
     "data": {
      "application/vnd.jupyter.widget-view+json": {
       "model_id": "24b78a817c7141c3a9b612812631ebc4",
       "version_major": 2,
       "version_minor": 0
      },
      "text/plain": [
       "Computing widget examples:   0%|          | 0/1 [00:00<?, ?example/s]"
      ]
     },
     "metadata": {},
     "output_type": "display_data"
    },
    {
     "data": {
      "text/html": [
       "\n",
       "    <div>\n",
       "      \n",
       "      <progress value='6256' max='6256' style='width:300px; height:20px; vertical-align: middle;'></progress>\n",
       "      [6256/6256 4:30:02, Epoch 8/8]\n",
       "    </div>\n",
       "    <table border=\"1\" class=\"dataframe\">\n",
       "  <thead>\n",
       " <tr style=\"text-align: left;\">\n",
       "      <th>Step</th>\n",
       "      <th>Training Loss</th>\n",
       "    </tr>\n",
       "  </thead>\n",
       "  <tbody>\n",
       "    <tr>\n",
       "      <td>500</td>\n",
       "      <td>0.518600</td>\n",
       "    </tr>\n",
       "    <tr>\n",
       "      <td>1000</td>\n",
       "      <td>0.421600</td>\n",
       "    </tr>\n",
       "    <tr>\n",
       "      <td>1500</td>\n",
       "      <td>0.365800</td>\n",
       "    </tr>\n",
       "    <tr>\n",
       "      <td>2000</td>\n",
       "      <td>0.303600</td>\n",
       "    </tr>\n",
       "    <tr>\n",
       "      <td>2500</td>\n",
       "      <td>0.265500</td>\n",
       "    </tr>\n",
       "    <tr>\n",
       "      <td>3000</td>\n",
       "      <td>0.233100</td>\n",
       "    </tr>\n",
       "    <tr>\n",
       "      <td>3500</td>\n",
       "      <td>0.205100</td>\n",
       "    </tr>\n",
       "    <tr>\n",
       "      <td>4000</td>\n",
       "      <td>0.199500</td>\n",
       "    </tr>\n",
       "    <tr>\n",
       "      <td>4500</td>\n",
       "      <td>0.165600</td>\n",
       "    </tr>\n",
       "    <tr>\n",
       "      <td>5000</td>\n",
       "      <td>0.161400</td>\n",
       "    </tr>\n",
       "    <tr>\n",
       "      <td>5500</td>\n",
       "      <td>0.156900</td>\n",
       "    </tr>\n",
       "    <tr>\n",
       "      <td>6000</td>\n",
       "      <td>0.146700</td>\n",
       "    </tr>\n",
       "  </tbody>\n",
       "</table><p>"
      ],
      "text/plain": [
       "<IPython.core.display.HTML object>"
      ]
     },
     "metadata": {},
     "output_type": "display_data"
    },
    {
     "name": "stdout",
     "output_type": "stream",
     "text": [
      "✅ Model saved to: saved_models/two_tower_mnr_25k_v2\n"
     ]
    }
   ],
   "source": [
    "import pandas as pd\n",
    "from sentence_transformers import SentenceTransformer, InputExample, losses\n",
    "from torch.utils.data import DataLoader\n",
    "\n",
    "# === Load training set ===\n",
    "df_train = pd.read_csv(\"data/processed_small_25k.csv\")\n",
    "df_train = df_train.dropna(subset=['query', 'full_product_text']).reset_index(drop=True)\n",
    "\n",
    "# === Create training samples ===\n",
    "train_samples = [\n",
    "    InputExample(texts=[row['query'], row['full_product_text']])\n",
    "    for _, row in df_train.iterrows()\n",
    "]\n",
    "\n",
    "# === Load model and prepare training ===\n",
    "model = SentenceTransformer('all-MiniLM-L6-v2')\n",
    "train_dataloader = DataLoader(train_samples, shuffle=True, batch_size=32)\n",
    "train_loss = losses.MultipleNegativesRankingLoss(model)\n",
    "\n",
    "# === Train the model ===\n",
    "model.fit(\n",
    "    train_objectives=[(train_dataloader, train_loss)],\n",
    "    epochs=8,\n",
    "    warmup_steps=100,\n",
    "    show_progress_bar=True\n",
    ")\n",
    "\n",
    "# === Save trained model ===\n",
    "model_save_path = \"saved_models/two_tower_mnr_25k_v2\"\n",
    "model.save(model_save_path)\n",
    "print(f\"✅ Model saved to: {model_save_path}\")"
   ]
  },
  {
   "cell_type": "code",
   "execution_count": 3,
   "id": "3fdd5f8b",
   "metadata": {},
   "outputs": [
    {
     "data": {
      "application/vnd.jupyter.widget-view+json": {
       "model_id": "cd8b98e451334782b03feaad83d05da0",
       "version_major": 2,
       "version_minor": 0
      },
      "text/plain": [
       "Batches:   0%|          | 0/125 [00:00<?, ?it/s]"
      ]
     },
     "metadata": {},
     "output_type": "display_data"
    },
    {
     "data": {
      "application/vnd.jupyter.widget-view+json": {
       "model_id": "2df0cbd3ffe540e693a83ffde242f21c",
       "version_major": 2,
       "version_minor": 0
      },
      "text/plain": [
       "Batches:   0%|          | 0/782 [00:00<?, ?it/s]"
      ]
     },
     "metadata": {},
     "output_type": "display_data"
    }
   ],
   "source": [
    "from sklearn.metrics.pairwise import cosine_similarity\n",
    "import numpy as np\n",
    "\n",
    "# === Load test set and product pool ===\n",
    "df_test = pd.read_csv(\"data/processed_small_4k_test.csv\")\n",
    "df_products = pd.read_csv(\"data/processed_small_25k.csv\")\n",
    "\n",
    "# === Sanitize rows ===\n",
    "df_test = df_test.dropna(subset=['query', 'full_product_text', 'product_id']).reset_index(drop=True)\n",
    "df_products = df_products.dropna(subset=['full_product_text', 'product_id']).reset_index(drop=True)\n",
    "\n",
    "# === Extract values ===\n",
    "queries = df_test['query'].tolist()\n",
    "true_product_ids = df_test['product_id'].tolist()\n",
    "products = df_products['full_product_text'].tolist()\n",
    "product_ids = df_products['product_id'].tolist()\n",
    "\n",
    "# === Load trained model ===\n",
    "model = SentenceTransformer(\"saved_models/two_tower_mnr_25k_v2\")\n",
    "\n",
    "# === Encode queries and products ===\n",
    "query_vecs = model.encode(queries, convert_to_numpy=True, show_progress_bar=True)\n",
    "product_vecs = model.encode(products, convert_to_numpy=True, show_progress_bar=True)\n",
    "\n",
    "# === Build ground truth map ===\n",
    "ground_truth = {i: true_product_ids[i] for i in range(len(queries))}"
   ]
  },
  {
   "cell_type": "code",
   "execution_count": 4,
   "id": "bb857b34",
   "metadata": {},
   "outputs": [
    {
     "name": "stdout",
     "output_type": "stream",
     "text": [
      "✅ Recall@10: 0.0118\n",
      "✅ MRR@10:    0.0052\n"
     ]
    }
   ],
   "source": [
    "def evaluate_recall_mrr(query_vecs, product_vecs, product_ids, ground_truth, K=10):\n",
    "    correct_at_k = 0\n",
    "    reciprocal_ranks = []\n",
    "\n",
    "    sim_matrix = cosine_similarity(query_vecs, product_vecs)\n",
    "\n",
    "    for i, sims in enumerate(sim_matrix):\n",
    "        top_k_idx = np.argsort(sims)[::-1][:K]\n",
    "        top_k_ids = [product_ids[j] for j in top_k_idx]\n",
    "\n",
    "        true_pid = ground_truth[i]\n",
    "\n",
    "        if true_pid in top_k_ids:\n",
    "            correct_at_k += 1\n",
    "            rank = top_k_ids.index(true_pid) + 1\n",
    "            reciprocal_ranks.append(1 / rank)\n",
    "        else:\n",
    "            reciprocal_ranks.append(0)\n",
    "\n",
    "    recall_at_k = correct_at_k / len(query_vecs)\n",
    "    mrr_at_k = sum(reciprocal_ranks) / len(query_vecs)\n",
    "\n",
    "    return recall_at_k, mrr_at_k\n",
    "\n",
    "# === Run evaluation\n",
    "recall, mrr = evaluate_recall_mrr(query_vecs, product_vecs, product_ids, ground_truth, K=10)\n",
    "print(f\"✅ Recall@10: {recall:.4f}\")\n",
    "print(f\"✅ MRR@10:    {mrr:.4f}\")"
   ]
  },
  {
   "cell_type": "code",
   "execution_count": 5,
   "id": "51e26fc2",
   "metadata": {},
   "outputs": [
    {
     "name": "stdout",
     "output_type": "stream",
     "text": [
      "\n",
      "🔍 Query: new balance mens orange\n",
      "\n",
      "📈 Top 10 Products Retrieved:\n",
      "\n",
      "🔹 Rank 1 | Product ID: B0751V26P5\n",
      "New Balance Running 990V4 Green\n",
      "——————————————————————————————————————————————————\n",
      "\n",
      "🔹 Rank 2 | Product ID: B01N43LBWS\n",
      "New Balance Men's Made 990 V4 Sneaker, Black/Grey, 12.5 D US\n",
      "——————————————————————————————————————————————————\n",
      "\n",
      "🔹 Rank 3 | Product ID: B072LDRR3X\n",
      "New Balance Men's Tenacity Short Sleeve, Athletic Grey , Small\n",
      "——————————————————————————————————————————————————\n",
      "\n",
      "🔹 Rank 4 | Product ID: B07HG4439Z\n",
      "New Balance Women's 574 V2 Sneaker, White/Veg Tan, 8.5\n",
      "——————————————————————————————————————————————————\n",
      "\n",
      "🔹 Rank 5 | Product ID: B07DL7SYP8\n",
      "New Balance Men's Fortitech 7 Inch 2 in 1 Short, Black, Large\n",
      "——————————————————————————————————————————————————\n",
      "\n",
      "🔹 Rank 6 | Product ID: B086KW7HQX\n",
      "New Balance Men's Standard Boxer Brief, Black/Vision Blue/Marnet/Team Royal, Large\n",
      "——————————————————————————————————————————————————\n",
      "\n",
      "🔹 Rank 7 | Product ID: B07G25639W\n",
      "New Balance Men's 1540 V3 Running Shoe, Marblehead/Black, 9\n",
      "——————————————————————————————————————————————————\n",
      "\n",
      "🔹 Rank 8 | Product ID: B001NOL0A6\n",
      "Neckties By Scott Allan - Geometric Burnt Orange Men's Tie\n",
      "——————————————————————————————————————————————————\n",
      "\n",
      "🔹 Rank 9 | Product ID: B07V5JVF68\n",
      "New Balance Men's Standard Boxer Brief, Black/Dynomite/Steel/Orca, Medium\n",
      "——————————————————————————————————————————————————\n",
      "\n",
      "🔹 Rank 10 | Product ID: B081S94T81\n",
      "Hey Dude Wally Chalet Men | Titanium (112024900) (8, Titanium)\n",
      "——————————————————————————————————————————————————\n"
     ]
    }
   ],
   "source": [
    "from sklearn.metrics.pairwise import cosine_similarity\n",
    "import numpy as np\n",
    "import pandas as pd\n",
    "\n",
    "# === Choose a query index from the test set\n",
    "query_index = 0  # You can change this to test other queries\n",
    "\n",
    "# === Get the query text\n",
    "query_text = queries[query_index]\n",
    "print(f\"\\n🔍 Query: {query_text}\")\n",
    "\n",
    "# === Get embedding for the query\n",
    "query_vec = model.encode([query_text], convert_to_numpy=True)\n",
    "\n",
    "# === Compute cosine similarity with all product vectors\n",
    "scores = cosine_similarity(query_vec, product_vecs)[0]\n",
    "\n",
    "# === Get top 10 product indices\n",
    "top_k = 10\n",
    "top_k_indices = np.argsort(scores)[::-1][:top_k]\n",
    "\n",
    "# === Display the top 10 matches\n",
    "print(f\"\\n📈 Top {top_k} Products Retrieved:\")\n",
    "\n",
    "for rank, idx in enumerate(top_k_indices, 1):\n",
    "    print(f\"\\n🔹 Rank {rank} | Product ID: {product_ids[idx]}\")\n",
    "    print(df_products.iloc[idx]['product_title'])\n",
    "    print(\"—\" * 50)"
   ]
  },
  {
   "cell_type": "code",
   "execution_count": 6,
   "id": "cf1b56aa",
   "metadata": {},
   "outputs": [],
   "source": [
    "df_check = pd.read_csv(\"data/processed_small.csv\")"
   ]
  },
  {
   "cell_type": "code",
   "execution_count": 7,
   "id": "d8ff200b",
   "metadata": {},
   "outputs": [
    {
     "data": {
      "application/vnd.microsoft.datawrangler.viewer.v0+json": {
       "columns": [
        {
         "name": "index",
         "rawType": "int64",
         "type": "integer"
        },
        {
         "name": "example_id",
         "rawType": "int64",
         "type": "integer"
        },
        {
         "name": "query",
         "rawType": "object",
         "type": "string"
        },
        {
         "name": "query_id",
         "rawType": "int64",
         "type": "integer"
        },
        {
         "name": "product_id",
         "rawType": "object",
         "type": "string"
        },
        {
         "name": "product_locale",
         "rawType": "object",
         "type": "string"
        },
        {
         "name": "esci_label",
         "rawType": "object",
         "type": "string"
        },
        {
         "name": "small_version",
         "rawType": "int64",
         "type": "integer"
        },
        {
         "name": "large_version",
         "rawType": "int64",
         "type": "integer"
        },
        {
         "name": "split",
         "rawType": "object",
         "type": "string"
        },
        {
         "name": "product_title",
         "rawType": "object",
         "type": "string"
        },
        {
         "name": "product_description",
         "rawType": "object",
         "type": "unknown"
        },
        {
         "name": "product_bullet_point",
         "rawType": "object",
         "type": "unknown"
        },
        {
         "name": "product_brand",
         "rawType": "object",
         "type": "string"
        },
        {
         "name": "product_color",
         "rawType": "object",
         "type": "unknown"
        },
        {
         "name": "full_product_text",
         "rawType": "object",
         "type": "string"
        },
        {
         "name": "relevance",
         "rawType": "int64",
         "type": "integer"
        }
       ],
       "ref": "b514a878-5816-4698-8e6b-a9eb090edbcb",
       "rows": [
        [
         "0",
         "16",
         "!awnmower tires without rims",
         "1",
         "B075SCHMPY",
         "us",
         "I",
         "1",
         "1",
         "train",
         "RamPro 10\" All Purpose Utility Air Tires/Wheels with a 5/8\" Diameter Hole with Double Sealed Bearings (Pack of 2)",
         "<b>About The Ram-Pro All Purpose Utility 10\" Air Tires Wheels Pack of 2.</b></p> <b>The Problem:</b><br> Your handtrucks tires are flat but why should you spend so much money to buy a compete new handtruck?</p> <b>Our Solution:</b><br> The Ram-Pro All Purpose 10\" Air Tires Wheels that will replace and fit your hand truck old tires properly with very easy installations and will be even better and more comfortable than the originals.</p> <b>Double Sealed Bearings:</b><br> The Double Bearings will help to balance your loud evenly thereby make you push lass and easier.</p> <b>Sporty Raised Grips:</b><br> The Sporty Look Raised Grips will help you get an extreme smooth drive while giving you a easy grip on almost all type of surfaces.</p> <b>Ready To Install:</b><br> No need to install the tire into the rim or inflating the tire or installing the hob or bearings etc. everything is assembled ready to use.</p> <b>Size Checking:</b>.<br> Make sure to check your axel size it should match the bearing size from the Air Tire Wheels before buying to avoid any mistakes and inconveniences.</p> <b>How To Install:</b><br> Just slide the wheels onto the axle and with the ends of the axle (clips, nuts or cotter pins) keep the wheels from falling off.</p> <b>Easy Installation:</b><br> All you have to do is just taking off the old ones and slide in the new ones and closing them with clips, nuts or cotter pins and they are installed ready to work properly.</p> <b>Use for:</b><br> Lawn Mowers<br> Yard Wagons<br> Air Compressors<br> Power Washers<br> Hand Trucks<br> Child's Wagons<br> Shopping Carts<br> Wood Chippers<br> Snow Blowers<br> Dolly’s<br> Go Carts<br> Golf Carts<br> Tricycles<br> Etc.</p> <b><i>Without Wheels It’s Not Moving!</b></i>",
         "✓ The Ram-Pro Ten Inch ready to install Air Tire Wheels will be the best replacement for your hand truck (or anything similar) tires and wheels with easy installation and great performance.\n✓ SPECS: The 2 Ram-Pro Air Tires sizes are: High: 10\" - Wide: 3\" - Hole Diameter: 5/8\" - Hub Depth: 1-3/4\" with Double Sealed Bearings. Load Capacity: 300 lbs. (136 KG) - P.S.I. Rating: 30 per tire - Tube type: 2 ply 4.10/3.5-4.\n✓ QUALITY: The high quality heavy-duty rubber will last very long. The Air stem is on the outside so you can always inflate the tires easy if needed - The Double Sealed Bearings will evenly distribute your loud on your vehicle.\n✓ DESIGN: This air filled tires are designed with sporty look raised grips to drive the smoothest possible, and is the 4 bolt hole’s double rim tube type design for best performance and more sturdiness.\n✓ USES: Used for handtrucks, lawn mowers, yard wagons, air compressors, power washers, child's wagons, shopping carts, wood chippers, Snow Blowers, dolly’s, go carts, golf carts, try cycles, and much more.",
         "RamPro",
         "10 Inch",
         "RamPro 10\" All Purpose Utility Air Tires/Wheels with a 5/8\" Diameter Hole with Double Sealed Bearings (Pack of 2) <b>About The Ram-Pro All Purpose Utility 10\" Air Tires Wheels Pack of 2.</b></p> <b>The Problem:</b><br> Your handtrucks tires are flat but why should you spend so much money to buy a compete new handtruck?</p> <b>Our Solution:</b><br> The Ram-Pro All Purpose 10\" Air Tires Wheels that will replace and fit your hand truck old tires properly with very easy installations and will be even better and more comfortable than the originals.</p> <b>Double Sealed Bearings:</b><br> The Double Bearings will help to balance your loud evenly thereby make you push lass and easier.</p> <b>Sporty Raised Grips:</b><br> The Sporty Look Raised Grips will help you get an extreme smooth drive while giving you a easy grip on almost all type of surfaces.</p> <b>Ready To Install:</b><br> No need to install the tire into the rim or inflating the tire or installing the hob or bearings etc. everything is assembled ready to use.</p> <b>Size Checking:</b>.<br> Make sure to check your axel size it should match the bearing size from the Air Tire Wheels before buying to avoid any mistakes and inconveniences.</p> <b>How To Install:</b><br> Just slide the wheels onto the axle and with the ends of the axle (clips, nuts or cotter pins) keep the wheels from falling off.</p> <b>Easy Installation:</b><br> All you have to do is just taking off the old ones and slide in the new ones and closing them with clips, nuts or cotter pins and they are installed ready to work properly.</p> <b>Use for:</b><br> Lawn Mowers<br> Yard Wagons<br> Air Compressors<br> Power Washers<br> Hand Trucks<br> Child's Wagons<br> Shopping Carts<br> Wood Chippers<br> Snow Blowers<br> Dolly’s<br> Go Carts<br> Golf Carts<br> Tricycles<br> Etc.</p> <b><i>Without Wheels It’s Not Moving!</b></i> RamPro ✓ The Ram-Pro Ten Inch ready to install Air Tire Wheels will be the best replacement for your hand truck (or anything similar) tires and wheels with easy installation and great performance.\n✓ SPECS: The 2 Ram-Pro Air Tires sizes are: High: 10\" - Wide: 3\" - Hole Diameter: 5/8\" - Hub Depth: 1-3/4\" with Double Sealed Bearings. Load Capacity: 300 lbs. (136 KG) - P.S.I. Rating: 30 per tire - Tube type: 2 ply 4.10/3.5-4.\n✓ QUALITY: The high quality heavy-duty rubber will last very long. The Air stem is on the outside so you can always inflate the tires easy if needed - The Double Sealed Bearings will evenly distribute your loud on your vehicle.\n✓ DESIGN: This air filled tires are designed with sporty look raised grips to drive the smoothest possible, and is the 4 bolt hole’s double rim tube type design for best performance and more sturdiness.\n✓ USES: Used for handtrucks, lawn mowers, yard wagons, air compressors, power washers, child's wagons, shopping carts, wood chippers, Snow Blowers, dolly’s, go carts, golf carts, try cycles, and much more.",
         "0"
        ],
        [
         "1",
         "17",
         "!awnmower tires without rims",
         "1",
         "B08L3B9B9P",
         "us",
         "E",
         "1",
         "1",
         "train",
         "MaxAuto 2-Pack 13x5.00-6 2PLY Turf Mower Tractor Tire with Yellow Rim, (3\" Centered Hub, 3/4\" Bushings )",
         "MaxAuto 2-Pack 13x5.00-6 2PLY Turf Mower Tractor Tire with Yellow Rim, 3\" Centered Hub, 3/4\" Bearings<br>",
         "Please check your existing tire Sidewall for tire, hub and Bushing size to ensure proper replacement fit.\n3\" Centered Hub(two sides symmetrical);3/4\" Bushings;300 lb load capacity.\nTire size:13x5.00-6;Tire Type:Pneumatic Tires;Tire Diameter inch:13.09\";Tire Width inch:4.56\";Load Capacity:300lbs\nRim Diameter:6\";Bearing size:3/4\";Hub Length:3\" Centered Hub with grease fitting\nPopular Applications：Wheelbarrows,Garden carts,Hand trucks,Pressure washers,Generators,Air compressors,Lawn mower and other types of outdoor power equipment.",
         "MaxAuto",
         null,
         "MaxAuto 2-Pack 13x5.00-6 2PLY Turf Mower Tractor Tire with Yellow Rim, (3\" Centered Hub, 3/4\" Bushings ) MaxAuto 2-Pack 13x5.00-6 2PLY Turf Mower Tractor Tire with Yellow Rim, 3\" Centered Hub, 3/4\" Bearings<br> MaxAuto Please check your existing tire Sidewall for tire, hub and Bushing size to ensure proper replacement fit.\n3\" Centered Hub(two sides symmetrical);3/4\" Bushings;300 lb load capacity.\nTire size:13x5.00-6;Tire Type:Pneumatic Tires;Tire Diameter inch:13.09\";Tire Width inch:4.56\";Load Capacity:300lbs\nRim Diameter:6\";Bearing size:3/4\";Hub Length:3\" Centered Hub with grease fitting\nPopular Applications：Wheelbarrows,Garden carts,Hand trucks,Pressure washers,Generators,Air compressors,Lawn mower and other types of outdoor power equipment.",
         "3"
        ],
        [
         "2",
         "18",
         "!awnmower tires without rims",
         "1",
         "B082K7V2GZ",
         "us",
         "I",
         "1",
         "1",
         "train",
         "NEIKO 20601A 14.5 inch Steel Tire Spoon Lever Iron Tool Kit | Professional Tire Changing Tool for Motorcycle, Dirt Bike, Lawn Mower | 3 pcs Tire Spoons | 3 Rim Protector | Valve Tool | 6 Valve Cores",
         null,
         "[QUALITY]: Hardened Steel-Iron construction with curved tips provide strong and reliable durability.\n[PROTECTION]: Three highly durable Polypropylene Rim Protector to prevent damage to the rims.\n[POWER]: Extra long lever at 14.5\" offers more leverage and torque power.\n[CONVENIENT]: 4 Point Valve Tool allows for quick and easy deflation of tires and valve core replacement.\n[UNIVERSAL]: This tool is perfect for motorcycles, bikes, dirt bikes, ATV, lawn tractors, garden tractors, cars and many more vehicle types.",
         "Neiko",
         null,
         "NEIKO 20601A 14.5 inch Steel Tire Spoon Lever Iron Tool Kit | Professional Tire Changing Tool for Motorcycle, Dirt Bike, Lawn Mower | 3 pcs Tire Spoons | 3 Rim Protector | Valve Tool | 6 Valve Cores  Neiko [QUALITY]: Hardened Steel-Iron construction with curved tips provide strong and reliable durability.\n[PROTECTION]: Three highly durable Polypropylene Rim Protector to prevent damage to the rims.\n[POWER]: Extra long lever at 14.5\" offers more leverage and torque power.\n[CONVENIENT]: 4 Point Valve Tool allows for quick and easy deflation of tires and valve core replacement.\n[UNIVERSAL]: This tool is perfect for motorcycles, bikes, dirt bikes, ATV, lawn tractors, garden tractors, cars and many more vehicle types.",
         "0"
        ],
        [
         "3",
         "19",
         "!awnmower tires without rims",
         "1",
         "B07P4CF3DP",
         "us",
         "S",
         "1",
         "1",
         "train",
         "2PK 13x5.00-6 13x5.00x6 13x5x6 13x5-6 2PLY Turf Mower Tractor Tire with Gray Rim",
         "Tire Size: 13 x 5.00 - 6 Axle: 3/4\" inside diameter Hub Length: 3\" Offset hub *Please make sure wheel size(axle, hub, offset) is same as item replacing. Just because tire size is the same, does not mean it will work. Shipping is costly to return and usually not worth returning!*",
         null,
         "Russo",
         null,
         "2PK 13x5.00-6 13x5.00x6 13x5x6 13x5-6 2PLY Turf Mower Tractor Tire with Gray Rim Tire Size: 13 x 5.00 - 6 Axle: 3/4\" inside diameter Hub Length: 3\" Offset hub *Please make sure wheel size(axle, hub, offset) is same as item replacing. Just because tire size is the same, does not mean it will work. Shipping is costly to return and usually not worth returning!* Russo",
         "2"
        ],
        [
         "4",
         "20",
         "!awnmower tires without rims",
         "1",
         "B07C1WZG12",
         "us",
         "E",
         "1",
         "1",
         "train",
         "(Set of 2) 15x6.00-6 Husqvarna/Poulan Tire Wheel Assy .75\" Bearing",
         "No fuss. Just take off your old assembly and replace with this. No need for tubes or tire shops. No messing around with mounting these yourself. Perfect replacement for your machine. Will make your machine look and feel new. **** .75 precision ball bearings ****.",
         "Tire size:15x6.00-6 Ply: 4 Tubeless\n6x4.5 Wheel with 3/4\" Precision bearings; Hub is 3\" Long with .75\" precision ball bearings. No grease required. Color: Husqvarna Silver\nHusqvarna wheel number: 532106732 replaces 106732x645, 106732x643, 106732x417, 532141446, 532138336, 5321383-36 532125102; Husqvarna tire number 5321122073\nATW-001\nTire OD: 14.96; Tire SW: 6.3; PSI: 30; Max Load: 570 lbs.",
         "Antego Tire & Wheel",
         "Husqvarna Silver",
         "(Set of 2) 15x6.00-6 Husqvarna/Poulan Tire Wheel Assy .75\" Bearing No fuss. Just take off your old assembly and replace with this. No need for tubes or tire shops. No messing around with mounting these yourself. Perfect replacement for your machine. Will make your machine look and feel new. **** .75 precision ball bearings ****. Antego Tire & Wheel Tire size:15x6.00-6 Ply: 4 Tubeless\n6x4.5 Wheel with 3/4\" Precision bearings; Hub is 3\" Long with .75\" precision ball bearings. No grease required. Color: Husqvarna Silver\nHusqvarna wheel number: 532106732 replaces 106732x645, 106732x643, 106732x417, 532141446, 532138336, 5321383-36 532125102; Husqvarna tire number 5321122073\nATW-001\nTire OD: 14.96; Tire SW: 6.3; PSI: 30; Max Load: 570 lbs.",
         "3"
        ]
       ],
       "shape": {
        "columns": 16,
        "rows": 5
       }
      },
      "text/html": [
       "<div>\n",
       "<style scoped>\n",
       "    .dataframe tbody tr th:only-of-type {\n",
       "        vertical-align: middle;\n",
       "    }\n",
       "\n",
       "    .dataframe tbody tr th {\n",
       "        vertical-align: top;\n",
       "    }\n",
       "\n",
       "    .dataframe thead th {\n",
       "        text-align: right;\n",
       "    }\n",
       "</style>\n",
       "<table border=\"1\" class=\"dataframe\">\n",
       "  <thead>\n",
       "    <tr style=\"text-align: right;\">\n",
       "      <th></th>\n",
       "      <th>example_id</th>\n",
       "      <th>query</th>\n",
       "      <th>query_id</th>\n",
       "      <th>product_id</th>\n",
       "      <th>product_locale</th>\n",
       "      <th>esci_label</th>\n",
       "      <th>small_version</th>\n",
       "      <th>large_version</th>\n",
       "      <th>split</th>\n",
       "      <th>product_title</th>\n",
       "      <th>product_description</th>\n",
       "      <th>product_bullet_point</th>\n",
       "      <th>product_brand</th>\n",
       "      <th>product_color</th>\n",
       "      <th>full_product_text</th>\n",
       "      <th>relevance</th>\n",
       "    </tr>\n",
       "  </thead>\n",
       "  <tbody>\n",
       "    <tr>\n",
       "      <th>0</th>\n",
       "      <td>16</td>\n",
       "      <td>!awnmower tires without rims</td>\n",
       "      <td>1</td>\n",
       "      <td>B075SCHMPY</td>\n",
       "      <td>us</td>\n",
       "      <td>I</td>\n",
       "      <td>1</td>\n",
       "      <td>1</td>\n",
       "      <td>train</td>\n",
       "      <td>RamPro 10\" All Purpose Utility Air Tires/Wheel...</td>\n",
       "      <td>&lt;b&gt;About The Ram-Pro All Purpose Utility 10\" A...</td>\n",
       "      <td>✓ The Ram-Pro Ten Inch ready to install Air Ti...</td>\n",
       "      <td>RamPro</td>\n",
       "      <td>10 Inch</td>\n",
       "      <td>RamPro 10\" All Purpose Utility Air Tires/Wheel...</td>\n",
       "      <td>0</td>\n",
       "    </tr>\n",
       "    <tr>\n",
       "      <th>1</th>\n",
       "      <td>17</td>\n",
       "      <td>!awnmower tires without rims</td>\n",
       "      <td>1</td>\n",
       "      <td>B08L3B9B9P</td>\n",
       "      <td>us</td>\n",
       "      <td>E</td>\n",
       "      <td>1</td>\n",
       "      <td>1</td>\n",
       "      <td>train</td>\n",
       "      <td>MaxAuto 2-Pack 13x5.00-6 2PLY Turf Mower Tract...</td>\n",
       "      <td>MaxAuto 2-Pack 13x5.00-6 2PLY Turf Mower Tract...</td>\n",
       "      <td>Please check your existing tire Sidewall for t...</td>\n",
       "      <td>MaxAuto</td>\n",
       "      <td>NaN</td>\n",
       "      <td>MaxAuto 2-Pack 13x5.00-6 2PLY Turf Mower Tract...</td>\n",
       "      <td>3</td>\n",
       "    </tr>\n",
       "    <tr>\n",
       "      <th>2</th>\n",
       "      <td>18</td>\n",
       "      <td>!awnmower tires without rims</td>\n",
       "      <td>1</td>\n",
       "      <td>B082K7V2GZ</td>\n",
       "      <td>us</td>\n",
       "      <td>I</td>\n",
       "      <td>1</td>\n",
       "      <td>1</td>\n",
       "      <td>train</td>\n",
       "      <td>NEIKO 20601A 14.5 inch Steel Tire Spoon Lever ...</td>\n",
       "      <td>NaN</td>\n",
       "      <td>[QUALITY]: Hardened Steel-Iron construction wi...</td>\n",
       "      <td>Neiko</td>\n",
       "      <td>NaN</td>\n",
       "      <td>NEIKO 20601A 14.5 inch Steel Tire Spoon Lever ...</td>\n",
       "      <td>0</td>\n",
       "    </tr>\n",
       "    <tr>\n",
       "      <th>3</th>\n",
       "      <td>19</td>\n",
       "      <td>!awnmower tires without rims</td>\n",
       "      <td>1</td>\n",
       "      <td>B07P4CF3DP</td>\n",
       "      <td>us</td>\n",
       "      <td>S</td>\n",
       "      <td>1</td>\n",
       "      <td>1</td>\n",
       "      <td>train</td>\n",
       "      <td>2PK 13x5.00-6 13x5.00x6 13x5x6 13x5-6 2PLY Tur...</td>\n",
       "      <td>Tire Size: 13 x 5.00 - 6 Axle: 3/4\" inside dia...</td>\n",
       "      <td>NaN</td>\n",
       "      <td>Russo</td>\n",
       "      <td>NaN</td>\n",
       "      <td>2PK 13x5.00-6 13x5.00x6 13x5x6 13x5-6 2PLY Tur...</td>\n",
       "      <td>2</td>\n",
       "    </tr>\n",
       "    <tr>\n",
       "      <th>4</th>\n",
       "      <td>20</td>\n",
       "      <td>!awnmower tires without rims</td>\n",
       "      <td>1</td>\n",
       "      <td>B07C1WZG12</td>\n",
       "      <td>us</td>\n",
       "      <td>E</td>\n",
       "      <td>1</td>\n",
       "      <td>1</td>\n",
       "      <td>train</td>\n",
       "      <td>(Set of 2) 15x6.00-6 Husqvarna/Poulan Tire Whe...</td>\n",
       "      <td>No fuss. Just take off your old assembly and r...</td>\n",
       "      <td>Tire size:15x6.00-6 Ply: 4 Tubeless\\n6x4.5 Whe...</td>\n",
       "      <td>Antego Tire &amp; Wheel</td>\n",
       "      <td>Husqvarna Silver</td>\n",
       "      <td>(Set of 2) 15x6.00-6 Husqvarna/Poulan Tire Whe...</td>\n",
       "      <td>3</td>\n",
       "    </tr>\n",
       "  </tbody>\n",
       "</table>\n",
       "</div>"
      ],
      "text/plain": [
       "   example_id                         query  query_id  product_id  \\\n",
       "0          16  !awnmower tires without rims         1  B075SCHMPY   \n",
       "1          17  !awnmower tires without rims         1  B08L3B9B9P   \n",
       "2          18  !awnmower tires without rims         1  B082K7V2GZ   \n",
       "3          19  !awnmower tires without rims         1  B07P4CF3DP   \n",
       "4          20  !awnmower tires without rims         1  B07C1WZG12   \n",
       "\n",
       "  product_locale esci_label  small_version  large_version  split  \\\n",
       "0             us          I              1              1  train   \n",
       "1             us          E              1              1  train   \n",
       "2             us          I              1              1  train   \n",
       "3             us          S              1              1  train   \n",
       "4             us          E              1              1  train   \n",
       "\n",
       "                                       product_title  \\\n",
       "0  RamPro 10\" All Purpose Utility Air Tires/Wheel...   \n",
       "1  MaxAuto 2-Pack 13x5.00-6 2PLY Turf Mower Tract...   \n",
       "2  NEIKO 20601A 14.5 inch Steel Tire Spoon Lever ...   \n",
       "3  2PK 13x5.00-6 13x5.00x6 13x5x6 13x5-6 2PLY Tur...   \n",
       "4  (Set of 2) 15x6.00-6 Husqvarna/Poulan Tire Whe...   \n",
       "\n",
       "                                 product_description  \\\n",
       "0  <b>About The Ram-Pro All Purpose Utility 10\" A...   \n",
       "1  MaxAuto 2-Pack 13x5.00-6 2PLY Turf Mower Tract...   \n",
       "2                                                NaN   \n",
       "3  Tire Size: 13 x 5.00 - 6 Axle: 3/4\" inside dia...   \n",
       "4  No fuss. Just take off your old assembly and r...   \n",
       "\n",
       "                                product_bullet_point        product_brand  \\\n",
       "0  ✓ The Ram-Pro Ten Inch ready to install Air Ti...               RamPro   \n",
       "1  Please check your existing tire Sidewall for t...              MaxAuto   \n",
       "2  [QUALITY]: Hardened Steel-Iron construction wi...                Neiko   \n",
       "3                                                NaN                Russo   \n",
       "4  Tire size:15x6.00-6 Ply: 4 Tubeless\\n6x4.5 Whe...  Antego Tire & Wheel   \n",
       "\n",
       "      product_color                                  full_product_text  \\\n",
       "0           10 Inch  RamPro 10\" All Purpose Utility Air Tires/Wheel...   \n",
       "1               NaN  MaxAuto 2-Pack 13x5.00-6 2PLY Turf Mower Tract...   \n",
       "2               NaN  NEIKO 20601A 14.5 inch Steel Tire Spoon Lever ...   \n",
       "3               NaN  2PK 13x5.00-6 13x5.00x6 13x5x6 13x5-6 2PLY Tur...   \n",
       "4  Husqvarna Silver  (Set of 2) 15x6.00-6 Husqvarna/Poulan Tire Whe...   \n",
       "\n",
       "   relevance  \n",
       "0          0  \n",
       "1          3  \n",
       "2          0  \n",
       "3          2  \n",
       "4          3  "
      ]
     },
     "execution_count": 7,
     "metadata": {},
     "output_type": "execute_result"
    }
   ],
   "source": [
    "df_check.head()"
   ]
  },
  {
   "cell_type": "code",
   "execution_count": 8,
   "id": "616891ef",
   "metadata": {},
   "outputs": [
    {
     "data": {
      "application/vnd.microsoft.datawrangler.viewer.v0+json": {
       "columns": [
        {
         "name": "index",
         "rawType": "int64",
         "type": "integer"
        },
        {
         "name": "example_id",
         "rawType": "int64",
         "type": "integer"
        },
        {
         "name": "query",
         "rawType": "object",
         "type": "string"
        },
        {
         "name": "query_id",
         "rawType": "int64",
         "type": "integer"
        },
        {
         "name": "product_id",
         "rawType": "object",
         "type": "string"
        },
        {
         "name": "product_locale",
         "rawType": "object",
         "type": "string"
        },
        {
         "name": "esci_label",
         "rawType": "object",
         "type": "string"
        },
        {
         "name": "small_version",
         "rawType": "int64",
         "type": "integer"
        },
        {
         "name": "large_version",
         "rawType": "int64",
         "type": "integer"
        },
        {
         "name": "split",
         "rawType": "object",
         "type": "string"
        },
        {
         "name": "product_title",
         "rawType": "object",
         "type": "string"
        },
        {
         "name": "product_description",
         "rawType": "object",
         "type": "unknown"
        },
        {
         "name": "product_bullet_point",
         "rawType": "object",
         "type": "unknown"
        },
        {
         "name": "product_brand",
         "rawType": "object",
         "type": "string"
        },
        {
         "name": "product_color",
         "rawType": "object",
         "type": "string"
        },
        {
         "name": "full_product_text",
         "rawType": "object",
         "type": "string"
        },
        {
         "name": "relevance",
         "rawType": "int64",
         "type": "integer"
        }
       ],
       "ref": "32c25873-2e59-47a5-9847-9a6d2a776f79",
       "rows": [
        [
         "389564",
         "1438348",
         "new balance mens orange",
         "73095",
         "B07F1QT54H",
         "us",
         "S",
         "1",
         "1",
         "test",
         "New Balance Men's 410 V6 Trail Running Shoe, Team Royal/Alpha Orange, 18 M US",
         null,
         "ACTEVA midsole cushioning delivers versatile, flexible support\nSynthetic/mesh upper\nNB Comfort Insert offers additional cushioning\nLightweight injection-molded EVA foam midsole provides lightweight cushioning\nAT Tread outsole provides versatile traction during both on and off-road activities",
         "New Balance",
         "Team Royal/Alpha Orange",
         "New Balance Men's 410 V6 Trail Running Shoe, Team Royal/Alpha Orange, 18 M US  New Balance ACTEVA midsole cushioning delivers versatile, flexible support\nSynthetic/mesh upper\nNB Comfort Insert offers additional cushioning\nLightweight injection-molded EVA foam midsole provides lightweight cushioning\nAT Tread outsole provides versatile traction during both on and off-road activities",
         "2"
        ],
        [
         "389565",
         "1438349",
         "new balance mens orange",
         "73095",
         "B07HMVMT8N",
         "us",
         "E",
         "1",
         "1",
         "test",
         "New Balance Men's 4040 V5 Metal Baseball Shoe, Black | Orange, 10 M US",
         null,
         "Traction You Can Trust: These New Balance baseball cleats are equipped with a flexible-yet-supportive 8-spike metal plate outsole for impressive traction on the field\nAlternative Closure for Easy Wear: Featuring an adjustable bungee closure, these running shoes for kids are easy to secure and adjust to provide no-fuss dressing on school days and weekends\nFlexible Upper Material: These cushioned running shoes for kids sport a flexible textile upper, providing a comfortable fit and feel that lasts from the classroom to the playground\nFull Rubber Outsole: A full rubber outsole provides traction and durability, making these comfortable kids' running shoes the ideal choice for everyday wear\nModern Design: Made for style much as comfort, these New Balance kids' running shoes feature N logo branding and have a no-sew upper construction for a sleek fit and feel that delivers a cool look",
         "New Balance",
         "Black | Orange",
         "New Balance Men's 4040 V5 Metal Baseball Shoe, Black | Orange, 10 M US  New Balance Traction You Can Trust: These New Balance baseball cleats are equipped with a flexible-yet-supportive 8-spike metal plate outsole for impressive traction on the field\nAlternative Closure for Easy Wear: Featuring an adjustable bungee closure, these running shoes for kids are easy to secure and adjust to provide no-fuss dressing on school days and weekends\nFlexible Upper Material: These cushioned running shoes for kids sport a flexible textile upper, providing a comfortable fit and feel that lasts from the classroom to the playground\nFull Rubber Outsole: A full rubber outsole provides traction and durability, making these comfortable kids' running shoes the ideal choice for everyday wear\nModern Design: Made for style much as comfort, these New Balance kids' running shoes feature N logo branding and have a no-sew upper construction for a sleek fit and feel that delivers a cool look",
         "3"
        ],
        [
         "389566",
         "1438350",
         "new balance mens orange",
         "73095",
         "B07HMJTJS9",
         "us",
         "E",
         "1",
         "1",
         "test",
         "New Balance Men's 4040 V5 Turf Baseball Shoe, Black/Orange, 10.5 M US",
         null,
         "A Home Run for Versatility: Designed for the elite baseball player, but with a cool lifestyle feel, the 4040v5 Turf baseball shoe can be worn for offseason, pregame, or in-game action\nCushioned Comfort: An innovative REVlite midsole in these baseball turf shoes helps you round the bases in comfort with incredibly lightweight cushioning and premium responsiveness\nTraction You Can Trust: These New Balance baseball shoes are equipped with a nubby turf outsole for reliable traction when playing on synthetic grass and other firm surfaces\nSupport for Your Sport: The lightweight synthetic and mesh upper of these New Balance baseball turf shoes features TPU overlays and extra reinforcements in the toe for added support\nSecure Fit: A traditional lace-up system and strategically placed cushioning in these baseball shoes help create a snug, comfortable fit so you can keep your mind on your game, not your footwear",
         "New Balance",
         "Black/Orange",
         "New Balance Men's 4040 V5 Turf Baseball Shoe, Black/Orange, 10.5 M US  New Balance A Home Run for Versatility: Designed for the elite baseball player, but with a cool lifestyle feel, the 4040v5 Turf baseball shoe can be worn for offseason, pregame, or in-game action\nCushioned Comfort: An innovative REVlite midsole in these baseball turf shoes helps you round the bases in comfort with incredibly lightweight cushioning and premium responsiveness\nTraction You Can Trust: These New Balance baseball shoes are equipped with a nubby turf outsole for reliable traction when playing on synthetic grass and other firm surfaces\nSupport for Your Sport: The lightweight synthetic and mesh upper of these New Balance baseball turf shoes features TPU overlays and extra reinforcements in the toe for added support\nSecure Fit: A traditional lace-up system and strategically placed cushioning in these baseball shoes help create a snug, comfortable fit so you can keep your mind on your game, not your footwear",
         "3"
        ],
        [
         "389567",
         "1438351",
         "new balance mens orange",
         "73095",
         "B01NA8VF0F",
         "us",
         "E",
         "1",
         "1",
         "test",
         "New Balance Men's 4040 V4 Metal Mid-Cut Baseball Shoe, Black/Orange, 11 D US",
         null,
         "Full-length REVlite RC&reg; midsole\nMetal cleats\nMid-cut silhouette\nNB Baseball data driven platform",
         "New Balance",
         "Black/Orange",
         "New Balance Men's 4040 V4 Metal Mid-Cut Baseball Shoe, Black/Orange, 11 D US  New Balance Full-length REVlite RC&reg; midsole\nMetal cleats\nMid-cut silhouette\nNB Baseball data driven platform",
         "3"
        ],
        [
         "389568",
         "1438352",
         "new balance mens orange",
         "73095",
         "B07PJX2XH1",
         "us",
         "S",
         "1",
         "1",
         "test",
         "New Balance Men's 517 V2 Cross Trainer, Pigment/Varsity Orange, 12",
         null,
         "Advanced Shock Absorption: These comfortable training shoes are equipped with ABZORB midsole technology that absorbs impact through a combination of cushioning and compression resistance\nModern Construction for an Outstanding Fit: The leather/mesh upper on these New Balance kids' running shoes features a stitched-down tip and foxing details to provide flexible support and durability\nSoft Underfoot Cushioning: The ABZORB midsole absorbs impact through a combination of cushioning and compression resistance, giving these kids' running shoes a comfortable feel that lasts all day\nDesigned for Support and Durability: These kids' performance shoes feature a strong rubber outsole to offer long-lasting durability, built to stand up to daily use and playground wear-and-tear\nAvailable in a Range of Colors: From neutral tones to bold hues, these cushioned running shoes for kids are available in a range of shades to suit the style and color preferences of your little one",
         "New Balance",
         "Pigment/Varsity Orange",
         "New Balance Men's 517 V2 Cross Trainer, Pigment/Varsity Orange, 12  New Balance Advanced Shock Absorption: These comfortable training shoes are equipped with ABZORB midsole technology that absorbs impact through a combination of cushioning and compression resistance\nModern Construction for an Outstanding Fit: The leather/mesh upper on these New Balance kids' running shoes features a stitched-down tip and foxing details to provide flexible support and durability\nSoft Underfoot Cushioning: The ABZORB midsole absorbs impact through a combination of cushioning and compression resistance, giving these kids' running shoes a comfortable feel that lasts all day\nDesigned for Support and Durability: These kids' performance shoes feature a strong rubber outsole to offer long-lasting durability, built to stand up to daily use and playground wear-and-tear\nAvailable in a Range of Colors: From neutral tones to bold hues, these cushioned running shoes for kids are available in a range of shades to suit the style and color preferences of your little one",
         "2"
        ],
        [
         "389569",
         "1438353",
         "new balance mens orange",
         "73095",
         "B07BL2MWY6",
         "us",
         "S",
         "1",
         "1",
         "test",
         "New Balance Men's 590 V4 Trail Running Shoe, Serpent Green/Alpha Orange, 11 D US",
         null,
         "All Terrain Outsole\nSynthetic/Mesh Upper\nNB Cushioning Comfort Insert\nToe Protect\nREVlite Midsole",
         "New Balance",
         "Serpent Green/Alpha Orange",
         "New Balance Men's 590 V4 Trail Running Shoe, Serpent Green/Alpha Orange, 11 D US  New Balance All Terrain Outsole\nSynthetic/Mesh Upper\nNB Cushioning Comfort Insert\nToe Protect\nREVlite Midsole",
         "2"
        ],
        [
         "389570",
         "1438354",
         "new balance mens orange",
         "73095",
         "B07HMVN1PZ",
         "us",
         "E",
         "1",
         "1",
         "test",
         "New Balance Men's 4040 V5 TPU Molded Baseball Shoe, Black/Orange, 9 M US",
         null,
         "Kinetic stitch synthetic upper\nFull-length REVlite midsole\nNew TPU studs\nSleek and Sporty: Featuring a low-profile design with a lightweight synthetic upper, the 4040v5 TPU baseball cleat is a stylish and practical addition to your baseball gear this season\nSecure Fit: A traditional lace-up system and strategically placed cushioning in these baseball shoes help create a snug, comfortable fit so you can keep your mind on your game, not your footwear",
         "New Balance",
         "Black/Orange",
         "New Balance Men's 4040 V5 TPU Molded Baseball Shoe, Black/Orange, 9 M US  New Balance Kinetic stitch synthetic upper\nFull-length REVlite midsole\nNew TPU studs\nSleek and Sporty: Featuring a low-profile design with a lightweight synthetic upper, the 4040v5 TPU baseball cleat is a stylish and practical addition to your baseball gear this season\nSecure Fit: A traditional lace-up system and strategically placed cushioning in these baseball shoes help create a snug, comfortable fit so you can keep your mind on your game, not your footwear",
         "3"
        ],
        [
         "389571",
         "1438355",
         "new balance mens orange",
         "73095",
         "B079FHGY54",
         "us",
         "S",
         "1",
         "1",
         "test",
         "New Balance Mens X90 Orange",
         null,
         null,
         "New Balance",
         "Orange",
         "New Balance Mens X90 Orange  New Balance",
         "2"
        ],
        [
         "389572",
         "1438356",
         "new balance mens orange",
         "73095",
         "B01MXNYAEQ",
         "us",
         "S",
         "1",
         "1",
         "test",
         "New Balance Men's 481 V3 Trail Running Shoe, Team Away Grey/Magnet/Black, 9.5 M US",
         null,
         "Cush+ midsole cushioning delivers ultra-soft, all-day comfort without sacrificing support\nLeather and mesh upper\nComfort Collar helps prevent irritation and hugs the ankle for a superior fit\nNB Ultra Soft Comfort Insert\nAll-terrain rubber outsole",
         "New Balance",
         "Team Away Grey/Magnet/Black",
         "New Balance Men's 481 V3 Trail Running Shoe, Team Away Grey/Magnet/Black, 9.5 M US  New Balance Cush+ midsole cushioning delivers ultra-soft, all-day comfort without sacrificing support\nLeather and mesh upper\nComfort Collar helps prevent irritation and hugs the ankle for a superior fit\nNB Ultra Soft Comfort Insert\nAll-terrain rubber outsole",
         "2"
        ],
        [
         "389573",
         "1438357",
         "new balance mens orange",
         "73095",
         "B075R6VGZK",
         "us",
         "E",
         "1",
         "1",
         "test",
         "New Balance Men's 3000 V4 Turf Baseball Shoe, Black/Orange, 13 D US",
         null,
         "Designed for Comfort: This turf version of the New Balance 3000v4 baseball cleat is designed for comfort first, featuring super-soft Fresh Foam midsole cushioning and a synthetic/mesh upper\nFresh Foam Technology: These baseball turf shoes bring the extraordinary softness of Fresh Foam to the diamond. The Fresh Foam midsole is precision-engineered to deliver an ultra-cushioned ride\nMaterials Inspired by Runners: These men's baseball shoes feature a traditional upper made of mesh and synthetic materials, creating a look and feel to remind you of your favorite running shoes\nVersatile for Elite Players: These baseball shoes function well on gym floors, carpet turf, field turf and dirt. They boast a nubby rubber outsole that mimics the spike placement of the 3000v4 cleat\nBuilt-In Lace Cage: These baseball turf shoes for men feature a lace cage on the tongue that lets you tuck in those laces for a cleaner look and a game-ready feel",
         "New Balance",
         "Black/Orange",
         "New Balance Men's 3000 V4 Turf Baseball Shoe, Black/Orange, 13 D US  New Balance Designed for Comfort: This turf version of the New Balance 3000v4 baseball cleat is designed for comfort first, featuring super-soft Fresh Foam midsole cushioning and a synthetic/mesh upper\nFresh Foam Technology: These baseball turf shoes bring the extraordinary softness of Fresh Foam to the diamond. The Fresh Foam midsole is precision-engineered to deliver an ultra-cushioned ride\nMaterials Inspired by Runners: These men's baseball shoes feature a traditional upper made of mesh and synthetic materials, creating a look and feel to remind you of your favorite running shoes\nVersatile for Elite Players: These baseball shoes function well on gym floors, carpet turf, field turf and dirt. They boast a nubby rubber outsole that mimics the spike placement of the 3000v4 cleat\nBuilt-In Lace Cage: These baseball turf shoes for men feature a lace cage on the tongue that lets you tuck in those laces for a cleaner look and a game-ready feel",
         "3"
        ],
        [
         "389574",
         "1438358",
         "new balance mens orange",
         "73095",
         "B075D95T44",
         "us",
         "E",
         "1",
         "1",
         "test",
         "New Balance Men's 990v4 Sneaker, Orange, 11.5 D US",
         "The New Balance Men's M990v4 is a classic men's running shoe with an inimitable look. A combination of lightweight pigskin leather and mesh uppers and premium cushioning and stability deliver the New Balance 990 feeling that you've come to know and love. There are however some subtle updates to the 4th generation 990: more breathability lace keepers to keep the tongue in place and a more streamlined \"N\" logo.<br><br> New Balance is proud to be the only major company to make or assemble more than 4 million pairs of athletic footwear per year in the USAwhich represents a limited portion of our US sales. Where the domestic value is at least 70%shoes are labeled Made in the USA.",
         "Pigskin leather and mesh uppers\nENCAP midsole technology and Encap PU ring with EVA core\nDual density collar foam\nApproximate 12 mm drop\nBlown rubber outsole",
         "New Balance",
         "Orange",
         "New Balance Men's 990v4 Sneaker, Orange, 11.5 D US The New Balance Men's M990v4 is a classic men's running shoe with an inimitable look. A combination of lightweight pigskin leather and mesh uppers and premium cushioning and stability deliver the New Balance 990 feeling that you've come to know and love. There are however some subtle updates to the 4th generation 990: more breathability lace keepers to keep the tongue in place and a more streamlined \"N\" logo.<br><br> New Balance is proud to be the only major company to make or assemble more than 4 million pairs of athletic footwear per year in the USAwhich represents a limited portion of our US sales. Where the domestic value is at least 70%shoes are labeled Made in the USA. New Balance Pigskin leather and mesh uppers\nENCAP midsole technology and Encap PU ring with EVA core\nDual density collar foam\nApproximate 12 mm drop\nBlown rubber outsole",
         "3"
        ],
        [
         "389575",
         "1438359",
         "new balance mens orange",
         "73095",
         "B0751SXTRG",
         "us",
         "E",
         "1",
         "1",
         "test",
         "New Balance Men's Fresh Foam Zante V4 Running Shoe, Orange/Black, 13 D US",
         null,
         "Fresh Foam midsole\nBootie Construction\nNo-sew material applicatiom\nRemovable insert\nLightweight solid rubber outsole",
         "New Balance",
         "Orange/Black",
         "New Balance Men's Fresh Foam Zante V4 Running Shoe, Orange/Black, 13 D US  New Balance Fresh Foam midsole\nBootie Construction\nNo-sew material applicatiom\nRemovable insert\nLightweight solid rubber outsole",
         "3"
        ],
        [
         "389576",
         "1438360",
         "new balance mens orange",
         "73095",
         "B0751SWMT5",
         "us",
         "E",
         "1",
         "1",
         "test",
         "New Balance Men's Summit Unknown V1 Trail Running Shoe, Orange/Black, 13 Wide",
         null,
         "FantomFit is a skeletally engineered upper that provides ultra-light support and fit. It is created by fusing two extremely thin materials with a no-sew process.\nInnovative REVlite midsole provides premium responsiveness and durability at a 30% lighter weight than other foams with comparable performance\nNo-sew material application\nSynthetic/mesh upper\nForefoot Rock Stop Plate",
         "New Balance",
         "Orange/Black",
         "New Balance Men's Summit Unknown V1 Trail Running Shoe, Orange/Black, 13 Wide  New Balance FantomFit is a skeletally engineered upper that provides ultra-light support and fit. It is created by fusing two extremely thin materials with a no-sew process.\nInnovative REVlite midsole provides premium responsiveness and durability at a 30% lighter weight than other foams with comparable performance\nNo-sew material application\nSynthetic/mesh upper\nForefoot Rock Stop Plate",
         "3"
        ],
        [
         "389577",
         "1438361",
         "new balance mens orange",
         "73095",
         "B0751RDTVZ",
         "us",
         "E",
         "1",
         "1",
         "test",
         "New Balance Men's 574 V2 Essential Sneaker, Varsity Orange, 17 XW US",
         null,
         "Iconic: The New Balance 574v2 sneakers boast the best of retro style and modern design elements. Featuring the signature silhouette sneakerheads have loved since the '80s, these iconic kicks are a must-have in your shoe closet.\nHigh-Tech: These aren't your typical lifestyle shoes. They have built-in technology for long-term wearability. ENCAP midsole cushioning combines soft foam with a durable polyurethane rim to deliver all-day support.\nComfortable Construction: These sneakers are crafted for your comfort. They feature a lightweight upper so your foot won't feel constricted and a foam cushioned heel for a cloud-like feel. The rubber outsole is built to last wear after wear.\nNB Heritage: Put on these retro sneakers and feel the New Balance craftsmanship that made them a street style favorite. The bold color blocking and large N logo remain in this modern version of a classic shoe.\nWear with Anything: In true New Balance form, the 574v2 can be worn with anything from jeans and a tee to sweats and a tank. These casual shoes can add a sporty touch to your more dressed-up looks or show off your style when you're looking laid-back.",
         "New Balance",
         "Varsity Orange/",
         "New Balance Men's 574 V2 Essential Sneaker, Varsity Orange, 17 XW US  New Balance Iconic: The New Balance 574v2 sneakers boast the best of retro style and modern design elements. Featuring the signature silhouette sneakerheads have loved since the '80s, these iconic kicks are a must-have in your shoe closet.\nHigh-Tech: These aren't your typical lifestyle shoes. They have built-in technology for long-term wearability. ENCAP midsole cushioning combines soft foam with a durable polyurethane rim to deliver all-day support.\nComfortable Construction: These sneakers are crafted for your comfort. They feature a lightweight upper so your foot won't feel constricted and a foam cushioned heel for a cloud-like feel. The rubber outsole is built to last wear after wear.\nNB Heritage: Put on these retro sneakers and feel the New Balance craftsmanship that made them a street style favorite. The bold color blocking and large N logo remain in this modern version of a classic shoe.\nWear with Anything: In true New Balance form, the 574v2 can be worn with anything from jeans and a tee to sweats and a tank. These casual shoes can add a sporty touch to your more dressed-up looks or show off your style when you're looking laid-back.",
         "3"
        ],
        [
         "389578",
         "1438362",
         "new balance mens orange",
         "73095",
         "B01MQLS3C2",
         "us",
         "S",
         "1",
         "1",
         "test",
         "New Balance Men's 481 V3 Trail Running Shoe, Chocolate Brown/Black/Tigers Eye, 12 M US",
         null,
         "Cush+ midsole cushioning delivers ultra-soft, all-day comfort without sacrificing support\nLeather and mesh upper\nComfort Collar helps prevent irritation and hugs the ankle for a superior fit\nNB Ultra Soft Comfort Insert\nAll-terrain rubber outsole",
         "New Balance",
         "Chocolate Brown/Black/Tigers Eye",
         "New Balance Men's 481 V3 Trail Running Shoe, Chocolate Brown/Black/Tigers Eye, 12 M US  New Balance Cush+ midsole cushioning delivers ultra-soft, all-day comfort without sacrificing support\nLeather and mesh upper\nComfort Collar helps prevent irritation and hugs the ankle for a superior fit\nNB Ultra Soft Comfort Insert\nAll-terrain rubber outsole",
         "2"
        ],
        [
         "389579",
         "1438363",
         "new balance mens orange",
         "73095",
         "B075R863FT",
         "us",
         "E",
         "1",
         "1",
         "test",
         "New Balance Men's 3000 V4 Metal Baseball Shoe, Black/Orange, 10 D US",
         null,
         "Full-length Fresh Foam comfort midsole\nLace Cage tongue to keep laces tucked away\nUltra Heel for plush heel comfort",
         "New Balance",
         "Black/Orange",
         "New Balance Men's 3000 V4 Metal Baseball Shoe, Black/Orange, 10 D US  New Balance Full-length Fresh Foam comfort midsole\nLace Cage tongue to keep laces tucked away\nUltra Heel for plush heel comfort",
         "3"
        ]
       ],
       "shape": {
        "columns": 16,
        "rows": 16
       }
      },
      "text/html": [
       "<div>\n",
       "<style scoped>\n",
       "    .dataframe tbody tr th:only-of-type {\n",
       "        vertical-align: middle;\n",
       "    }\n",
       "\n",
       "    .dataframe tbody tr th {\n",
       "        vertical-align: top;\n",
       "    }\n",
       "\n",
       "    .dataframe thead th {\n",
       "        text-align: right;\n",
       "    }\n",
       "</style>\n",
       "<table border=\"1\" class=\"dataframe\">\n",
       "  <thead>\n",
       "    <tr style=\"text-align: right;\">\n",
       "      <th></th>\n",
       "      <th>example_id</th>\n",
       "      <th>query</th>\n",
       "      <th>query_id</th>\n",
       "      <th>product_id</th>\n",
       "      <th>product_locale</th>\n",
       "      <th>esci_label</th>\n",
       "      <th>small_version</th>\n",
       "      <th>large_version</th>\n",
       "      <th>split</th>\n",
       "      <th>product_title</th>\n",
       "      <th>product_description</th>\n",
       "      <th>product_bullet_point</th>\n",
       "      <th>product_brand</th>\n",
       "      <th>product_color</th>\n",
       "      <th>full_product_text</th>\n",
       "      <th>relevance</th>\n",
       "    </tr>\n",
       "  </thead>\n",
       "  <tbody>\n",
       "    <tr>\n",
       "      <th>389564</th>\n",
       "      <td>1438348</td>\n",
       "      <td>new balance mens orange</td>\n",
       "      <td>73095</td>\n",
       "      <td>B07F1QT54H</td>\n",
       "      <td>us</td>\n",
       "      <td>S</td>\n",
       "      <td>1</td>\n",
       "      <td>1</td>\n",
       "      <td>test</td>\n",
       "      <td>New Balance Men's 410 V6 Trail Running Shoe, T...</td>\n",
       "      <td>NaN</td>\n",
       "      <td>ACTEVA midsole cushioning delivers versatile, ...</td>\n",
       "      <td>New Balance</td>\n",
       "      <td>Team Royal/Alpha Orange</td>\n",
       "      <td>New Balance Men's 410 V6 Trail Running Shoe, T...</td>\n",
       "      <td>2</td>\n",
       "    </tr>\n",
       "    <tr>\n",
       "      <th>389565</th>\n",
       "      <td>1438349</td>\n",
       "      <td>new balance mens orange</td>\n",
       "      <td>73095</td>\n",
       "      <td>B07HMVMT8N</td>\n",
       "      <td>us</td>\n",
       "      <td>E</td>\n",
       "      <td>1</td>\n",
       "      <td>1</td>\n",
       "      <td>test</td>\n",
       "      <td>New Balance Men's 4040 V5 Metal Baseball Shoe,...</td>\n",
       "      <td>NaN</td>\n",
       "      <td>Traction You Can Trust: These New Balance base...</td>\n",
       "      <td>New Balance</td>\n",
       "      <td>Black | Orange</td>\n",
       "      <td>New Balance Men's 4040 V5 Metal Baseball Shoe,...</td>\n",
       "      <td>3</td>\n",
       "    </tr>\n",
       "    <tr>\n",
       "      <th>389566</th>\n",
       "      <td>1438350</td>\n",
       "      <td>new balance mens orange</td>\n",
       "      <td>73095</td>\n",
       "      <td>B07HMJTJS9</td>\n",
       "      <td>us</td>\n",
       "      <td>E</td>\n",
       "      <td>1</td>\n",
       "      <td>1</td>\n",
       "      <td>test</td>\n",
       "      <td>New Balance Men's 4040 V5 Turf Baseball Shoe, ...</td>\n",
       "      <td>NaN</td>\n",
       "      <td>A Home Run for Versatility: Designed for the e...</td>\n",
       "      <td>New Balance</td>\n",
       "      <td>Black/Orange</td>\n",
       "      <td>New Balance Men's 4040 V5 Turf Baseball Shoe, ...</td>\n",
       "      <td>3</td>\n",
       "    </tr>\n",
       "    <tr>\n",
       "      <th>389567</th>\n",
       "      <td>1438351</td>\n",
       "      <td>new balance mens orange</td>\n",
       "      <td>73095</td>\n",
       "      <td>B01NA8VF0F</td>\n",
       "      <td>us</td>\n",
       "      <td>E</td>\n",
       "      <td>1</td>\n",
       "      <td>1</td>\n",
       "      <td>test</td>\n",
       "      <td>New Balance Men's 4040 V4 Metal Mid-Cut Baseba...</td>\n",
       "      <td>NaN</td>\n",
       "      <td>Full-length REVlite RC&amp;reg; midsole\\nMetal cle...</td>\n",
       "      <td>New Balance</td>\n",
       "      <td>Black/Orange</td>\n",
       "      <td>New Balance Men's 4040 V4 Metal Mid-Cut Baseba...</td>\n",
       "      <td>3</td>\n",
       "    </tr>\n",
       "    <tr>\n",
       "      <th>389568</th>\n",
       "      <td>1438352</td>\n",
       "      <td>new balance mens orange</td>\n",
       "      <td>73095</td>\n",
       "      <td>B07PJX2XH1</td>\n",
       "      <td>us</td>\n",
       "      <td>S</td>\n",
       "      <td>1</td>\n",
       "      <td>1</td>\n",
       "      <td>test</td>\n",
       "      <td>New Balance Men's 517 V2 Cross Trainer, Pigmen...</td>\n",
       "      <td>NaN</td>\n",
       "      <td>Advanced Shock Absorption: These comfortable t...</td>\n",
       "      <td>New Balance</td>\n",
       "      <td>Pigment/Varsity Orange</td>\n",
       "      <td>New Balance Men's 517 V2 Cross Trainer, Pigmen...</td>\n",
       "      <td>2</td>\n",
       "    </tr>\n",
       "    <tr>\n",
       "      <th>389569</th>\n",
       "      <td>1438353</td>\n",
       "      <td>new balance mens orange</td>\n",
       "      <td>73095</td>\n",
       "      <td>B07BL2MWY6</td>\n",
       "      <td>us</td>\n",
       "      <td>S</td>\n",
       "      <td>1</td>\n",
       "      <td>1</td>\n",
       "      <td>test</td>\n",
       "      <td>New Balance Men's 590 V4 Trail Running Shoe, S...</td>\n",
       "      <td>NaN</td>\n",
       "      <td>All Terrain Outsole\\nSynthetic/Mesh Upper\\nNB ...</td>\n",
       "      <td>New Balance</td>\n",
       "      <td>Serpent Green/Alpha Orange</td>\n",
       "      <td>New Balance Men's 590 V4 Trail Running Shoe, S...</td>\n",
       "      <td>2</td>\n",
       "    </tr>\n",
       "    <tr>\n",
       "      <th>389570</th>\n",
       "      <td>1438354</td>\n",
       "      <td>new balance mens orange</td>\n",
       "      <td>73095</td>\n",
       "      <td>B07HMVN1PZ</td>\n",
       "      <td>us</td>\n",
       "      <td>E</td>\n",
       "      <td>1</td>\n",
       "      <td>1</td>\n",
       "      <td>test</td>\n",
       "      <td>New Balance Men's 4040 V5 TPU Molded Baseball ...</td>\n",
       "      <td>NaN</td>\n",
       "      <td>Kinetic stitch synthetic upper\\nFull-length RE...</td>\n",
       "      <td>New Balance</td>\n",
       "      <td>Black/Orange</td>\n",
       "      <td>New Balance Men's 4040 V5 TPU Molded Baseball ...</td>\n",
       "      <td>3</td>\n",
       "    </tr>\n",
       "    <tr>\n",
       "      <th>389571</th>\n",
       "      <td>1438355</td>\n",
       "      <td>new balance mens orange</td>\n",
       "      <td>73095</td>\n",
       "      <td>B079FHGY54</td>\n",
       "      <td>us</td>\n",
       "      <td>S</td>\n",
       "      <td>1</td>\n",
       "      <td>1</td>\n",
       "      <td>test</td>\n",
       "      <td>New Balance Mens X90 Orange</td>\n",
       "      <td>NaN</td>\n",
       "      <td>NaN</td>\n",
       "      <td>New Balance</td>\n",
       "      <td>Orange</td>\n",
       "      <td>New Balance Mens X90 Orange  New Balance</td>\n",
       "      <td>2</td>\n",
       "    </tr>\n",
       "    <tr>\n",
       "      <th>389572</th>\n",
       "      <td>1438356</td>\n",
       "      <td>new balance mens orange</td>\n",
       "      <td>73095</td>\n",
       "      <td>B01MXNYAEQ</td>\n",
       "      <td>us</td>\n",
       "      <td>S</td>\n",
       "      <td>1</td>\n",
       "      <td>1</td>\n",
       "      <td>test</td>\n",
       "      <td>New Balance Men's 481 V3 Trail Running Shoe, T...</td>\n",
       "      <td>NaN</td>\n",
       "      <td>Cush+ midsole cushioning delivers ultra-soft, ...</td>\n",
       "      <td>New Balance</td>\n",
       "      <td>Team Away Grey/Magnet/Black</td>\n",
       "      <td>New Balance Men's 481 V3 Trail Running Shoe, T...</td>\n",
       "      <td>2</td>\n",
       "    </tr>\n",
       "    <tr>\n",
       "      <th>389573</th>\n",
       "      <td>1438357</td>\n",
       "      <td>new balance mens orange</td>\n",
       "      <td>73095</td>\n",
       "      <td>B075R6VGZK</td>\n",
       "      <td>us</td>\n",
       "      <td>E</td>\n",
       "      <td>1</td>\n",
       "      <td>1</td>\n",
       "      <td>test</td>\n",
       "      <td>New Balance Men's 3000 V4 Turf Baseball Shoe, ...</td>\n",
       "      <td>NaN</td>\n",
       "      <td>Designed for Comfort: This turf version of the...</td>\n",
       "      <td>New Balance</td>\n",
       "      <td>Black/Orange</td>\n",
       "      <td>New Balance Men's 3000 V4 Turf Baseball Shoe, ...</td>\n",
       "      <td>3</td>\n",
       "    </tr>\n",
       "    <tr>\n",
       "      <th>389574</th>\n",
       "      <td>1438358</td>\n",
       "      <td>new balance mens orange</td>\n",
       "      <td>73095</td>\n",
       "      <td>B075D95T44</td>\n",
       "      <td>us</td>\n",
       "      <td>E</td>\n",
       "      <td>1</td>\n",
       "      <td>1</td>\n",
       "      <td>test</td>\n",
       "      <td>New Balance Men's 990v4 Sneaker, Orange, 11.5 ...</td>\n",
       "      <td>The New Balance Men's M990v4 is a classic men'...</td>\n",
       "      <td>Pigskin leather and mesh uppers\\nENCAP midsole...</td>\n",
       "      <td>New Balance</td>\n",
       "      <td>Orange</td>\n",
       "      <td>New Balance Men's 990v4 Sneaker, Orange, 11.5 ...</td>\n",
       "      <td>3</td>\n",
       "    </tr>\n",
       "    <tr>\n",
       "      <th>389575</th>\n",
       "      <td>1438359</td>\n",
       "      <td>new balance mens orange</td>\n",
       "      <td>73095</td>\n",
       "      <td>B0751SXTRG</td>\n",
       "      <td>us</td>\n",
       "      <td>E</td>\n",
       "      <td>1</td>\n",
       "      <td>1</td>\n",
       "      <td>test</td>\n",
       "      <td>New Balance Men's Fresh Foam Zante V4 Running ...</td>\n",
       "      <td>NaN</td>\n",
       "      <td>Fresh Foam midsole\\nBootie Construction\\nNo-se...</td>\n",
       "      <td>New Balance</td>\n",
       "      <td>Orange/Black</td>\n",
       "      <td>New Balance Men's Fresh Foam Zante V4 Running ...</td>\n",
       "      <td>3</td>\n",
       "    </tr>\n",
       "    <tr>\n",
       "      <th>389576</th>\n",
       "      <td>1438360</td>\n",
       "      <td>new balance mens orange</td>\n",
       "      <td>73095</td>\n",
       "      <td>B0751SWMT5</td>\n",
       "      <td>us</td>\n",
       "      <td>E</td>\n",
       "      <td>1</td>\n",
       "      <td>1</td>\n",
       "      <td>test</td>\n",
       "      <td>New Balance Men's Summit Unknown V1 Trail Runn...</td>\n",
       "      <td>NaN</td>\n",
       "      <td>FantomFit is a skeletally engineered upper tha...</td>\n",
       "      <td>New Balance</td>\n",
       "      <td>Orange/Black</td>\n",
       "      <td>New Balance Men's Summit Unknown V1 Trail Runn...</td>\n",
       "      <td>3</td>\n",
       "    </tr>\n",
       "    <tr>\n",
       "      <th>389577</th>\n",
       "      <td>1438361</td>\n",
       "      <td>new balance mens orange</td>\n",
       "      <td>73095</td>\n",
       "      <td>B0751RDTVZ</td>\n",
       "      <td>us</td>\n",
       "      <td>E</td>\n",
       "      <td>1</td>\n",
       "      <td>1</td>\n",
       "      <td>test</td>\n",
       "      <td>New Balance Men's 574 V2 Essential Sneaker, Va...</td>\n",
       "      <td>NaN</td>\n",
       "      <td>Iconic: The New Balance 574v2 sneakers boast t...</td>\n",
       "      <td>New Balance</td>\n",
       "      <td>Varsity Orange/</td>\n",
       "      <td>New Balance Men's 574 V2 Essential Sneaker, Va...</td>\n",
       "      <td>3</td>\n",
       "    </tr>\n",
       "    <tr>\n",
       "      <th>389578</th>\n",
       "      <td>1438362</td>\n",
       "      <td>new balance mens orange</td>\n",
       "      <td>73095</td>\n",
       "      <td>B01MQLS3C2</td>\n",
       "      <td>us</td>\n",
       "      <td>S</td>\n",
       "      <td>1</td>\n",
       "      <td>1</td>\n",
       "      <td>test</td>\n",
       "      <td>New Balance Men's 481 V3 Trail Running Shoe, C...</td>\n",
       "      <td>NaN</td>\n",
       "      <td>Cush+ midsole cushioning delivers ultra-soft, ...</td>\n",
       "      <td>New Balance</td>\n",
       "      <td>Chocolate Brown/Black/Tigers Eye</td>\n",
       "      <td>New Balance Men's 481 V3 Trail Running Shoe, C...</td>\n",
       "      <td>2</td>\n",
       "    </tr>\n",
       "    <tr>\n",
       "      <th>389579</th>\n",
       "      <td>1438363</td>\n",
       "      <td>new balance mens orange</td>\n",
       "      <td>73095</td>\n",
       "      <td>B075R863FT</td>\n",
       "      <td>us</td>\n",
       "      <td>E</td>\n",
       "      <td>1</td>\n",
       "      <td>1</td>\n",
       "      <td>test</td>\n",
       "      <td>New Balance Men's 3000 V4 Metal Baseball Shoe,...</td>\n",
       "      <td>NaN</td>\n",
       "      <td>Full-length Fresh Foam comfort midsole\\nLace C...</td>\n",
       "      <td>New Balance</td>\n",
       "      <td>Black/Orange</td>\n",
       "      <td>New Balance Men's 3000 V4 Metal Baseball Shoe,...</td>\n",
       "      <td>3</td>\n",
       "    </tr>\n",
       "  </tbody>\n",
       "</table>\n",
       "</div>"
      ],
      "text/plain": [
       "        example_id                    query  query_id  product_id  \\\n",
       "389564     1438348  new balance mens orange     73095  B07F1QT54H   \n",
       "389565     1438349  new balance mens orange     73095  B07HMVMT8N   \n",
       "389566     1438350  new balance mens orange     73095  B07HMJTJS9   \n",
       "389567     1438351  new balance mens orange     73095  B01NA8VF0F   \n",
       "389568     1438352  new balance mens orange     73095  B07PJX2XH1   \n",
       "389569     1438353  new balance mens orange     73095  B07BL2MWY6   \n",
       "389570     1438354  new balance mens orange     73095  B07HMVN1PZ   \n",
       "389571     1438355  new balance mens orange     73095  B079FHGY54   \n",
       "389572     1438356  new balance mens orange     73095  B01MXNYAEQ   \n",
       "389573     1438357  new balance mens orange     73095  B075R6VGZK   \n",
       "389574     1438358  new balance mens orange     73095  B075D95T44   \n",
       "389575     1438359  new balance mens orange     73095  B0751SXTRG   \n",
       "389576     1438360  new balance mens orange     73095  B0751SWMT5   \n",
       "389577     1438361  new balance mens orange     73095  B0751RDTVZ   \n",
       "389578     1438362  new balance mens orange     73095  B01MQLS3C2   \n",
       "389579     1438363  new balance mens orange     73095  B075R863FT   \n",
       "\n",
       "       product_locale esci_label  small_version  large_version split  \\\n",
       "389564             us          S              1              1  test   \n",
       "389565             us          E              1              1  test   \n",
       "389566             us          E              1              1  test   \n",
       "389567             us          E              1              1  test   \n",
       "389568             us          S              1              1  test   \n",
       "389569             us          S              1              1  test   \n",
       "389570             us          E              1              1  test   \n",
       "389571             us          S              1              1  test   \n",
       "389572             us          S              1              1  test   \n",
       "389573             us          E              1              1  test   \n",
       "389574             us          E              1              1  test   \n",
       "389575             us          E              1              1  test   \n",
       "389576             us          E              1              1  test   \n",
       "389577             us          E              1              1  test   \n",
       "389578             us          S              1              1  test   \n",
       "389579             us          E              1              1  test   \n",
       "\n",
       "                                            product_title  \\\n",
       "389564  New Balance Men's 410 V6 Trail Running Shoe, T...   \n",
       "389565  New Balance Men's 4040 V5 Metal Baseball Shoe,...   \n",
       "389566  New Balance Men's 4040 V5 Turf Baseball Shoe, ...   \n",
       "389567  New Balance Men's 4040 V4 Metal Mid-Cut Baseba...   \n",
       "389568  New Balance Men's 517 V2 Cross Trainer, Pigmen...   \n",
       "389569  New Balance Men's 590 V4 Trail Running Shoe, S...   \n",
       "389570  New Balance Men's 4040 V5 TPU Molded Baseball ...   \n",
       "389571                        New Balance Mens X90 Orange   \n",
       "389572  New Balance Men's 481 V3 Trail Running Shoe, T...   \n",
       "389573  New Balance Men's 3000 V4 Turf Baseball Shoe, ...   \n",
       "389574  New Balance Men's 990v4 Sneaker, Orange, 11.5 ...   \n",
       "389575  New Balance Men's Fresh Foam Zante V4 Running ...   \n",
       "389576  New Balance Men's Summit Unknown V1 Trail Runn...   \n",
       "389577  New Balance Men's 574 V2 Essential Sneaker, Va...   \n",
       "389578  New Balance Men's 481 V3 Trail Running Shoe, C...   \n",
       "389579  New Balance Men's 3000 V4 Metal Baseball Shoe,...   \n",
       "\n",
       "                                      product_description  \\\n",
       "389564                                                NaN   \n",
       "389565                                                NaN   \n",
       "389566                                                NaN   \n",
       "389567                                                NaN   \n",
       "389568                                                NaN   \n",
       "389569                                                NaN   \n",
       "389570                                                NaN   \n",
       "389571                                                NaN   \n",
       "389572                                                NaN   \n",
       "389573                                                NaN   \n",
       "389574  The New Balance Men's M990v4 is a classic men'...   \n",
       "389575                                                NaN   \n",
       "389576                                                NaN   \n",
       "389577                                                NaN   \n",
       "389578                                                NaN   \n",
       "389579                                                NaN   \n",
       "\n",
       "                                     product_bullet_point product_brand  \\\n",
       "389564  ACTEVA midsole cushioning delivers versatile, ...   New Balance   \n",
       "389565  Traction You Can Trust: These New Balance base...   New Balance   \n",
       "389566  A Home Run for Versatility: Designed for the e...   New Balance   \n",
       "389567  Full-length REVlite RC&reg; midsole\\nMetal cle...   New Balance   \n",
       "389568  Advanced Shock Absorption: These comfortable t...   New Balance   \n",
       "389569  All Terrain Outsole\\nSynthetic/Mesh Upper\\nNB ...   New Balance   \n",
       "389570  Kinetic stitch synthetic upper\\nFull-length RE...   New Balance   \n",
       "389571                                                NaN   New Balance   \n",
       "389572  Cush+ midsole cushioning delivers ultra-soft, ...   New Balance   \n",
       "389573  Designed for Comfort: This turf version of the...   New Balance   \n",
       "389574  Pigskin leather and mesh uppers\\nENCAP midsole...   New Balance   \n",
       "389575  Fresh Foam midsole\\nBootie Construction\\nNo-se...   New Balance   \n",
       "389576  FantomFit is a skeletally engineered upper tha...   New Balance   \n",
       "389577  Iconic: The New Balance 574v2 sneakers boast t...   New Balance   \n",
       "389578  Cush+ midsole cushioning delivers ultra-soft, ...   New Balance   \n",
       "389579  Full-length Fresh Foam comfort midsole\\nLace C...   New Balance   \n",
       "\n",
       "                           product_color  \\\n",
       "389564           Team Royal/Alpha Orange   \n",
       "389565                    Black | Orange   \n",
       "389566                      Black/Orange   \n",
       "389567                      Black/Orange   \n",
       "389568            Pigment/Varsity Orange   \n",
       "389569        Serpent Green/Alpha Orange   \n",
       "389570                      Black/Orange   \n",
       "389571                            Orange   \n",
       "389572       Team Away Grey/Magnet/Black   \n",
       "389573                      Black/Orange   \n",
       "389574                            Orange   \n",
       "389575                      Orange/Black   \n",
       "389576                      Orange/Black   \n",
       "389577                   Varsity Orange/   \n",
       "389578  Chocolate Brown/Black/Tigers Eye   \n",
       "389579                      Black/Orange   \n",
       "\n",
       "                                        full_product_text  relevance  \n",
       "389564  New Balance Men's 410 V6 Trail Running Shoe, T...          2  \n",
       "389565  New Balance Men's 4040 V5 Metal Baseball Shoe,...          3  \n",
       "389566  New Balance Men's 4040 V5 Turf Baseball Shoe, ...          3  \n",
       "389567  New Balance Men's 4040 V4 Metal Mid-Cut Baseba...          3  \n",
       "389568  New Balance Men's 517 V2 Cross Trainer, Pigmen...          2  \n",
       "389569  New Balance Men's 590 V4 Trail Running Shoe, S...          2  \n",
       "389570  New Balance Men's 4040 V5 TPU Molded Baseball ...          3  \n",
       "389571           New Balance Mens X90 Orange  New Balance          2  \n",
       "389572  New Balance Men's 481 V3 Trail Running Shoe, T...          2  \n",
       "389573  New Balance Men's 3000 V4 Turf Baseball Shoe, ...          3  \n",
       "389574  New Balance Men's 990v4 Sneaker, Orange, 11.5 ...          3  \n",
       "389575  New Balance Men's Fresh Foam Zante V4 Running ...          3  \n",
       "389576  New Balance Men's Summit Unknown V1 Trail Runn...          3  \n",
       "389577  New Balance Men's 574 V2 Essential Sneaker, Va...          3  \n",
       "389578  New Balance Men's 481 V3 Trail Running Shoe, C...          2  \n",
       "389579  New Balance Men's 3000 V4 Metal Baseball Shoe,...          3  "
      ]
     },
     "execution_count": 8,
     "metadata": {},
     "output_type": "execute_result"
    }
   ],
   "source": [
    "df_check[df_check['query']=='new balance mens orange']"
   ]
  },
  {
   "cell_type": "code",
   "execution_count": 12,
   "id": "c54b8356",
   "metadata": {},
   "outputs": [
    {
     "data": {
      "application/vnd.microsoft.datawrangler.viewer.v0+json": {
       "columns": [
        {
         "name": "index",
         "rawType": "int64",
         "type": "integer"
        },
        {
         "name": "example_id",
         "rawType": "int64",
         "type": "integer"
        },
        {
         "name": "query",
         "rawType": "object",
         "type": "string"
        },
        {
         "name": "query_id",
         "rawType": "int64",
         "type": "integer"
        },
        {
         "name": "product_id",
         "rawType": "object",
         "type": "string"
        },
        {
         "name": "product_locale",
         "rawType": "object",
         "type": "string"
        },
        {
         "name": "esci_label",
         "rawType": "object",
         "type": "string"
        },
        {
         "name": "small_version",
         "rawType": "int64",
         "type": "integer"
        },
        {
         "name": "large_version",
         "rawType": "int64",
         "type": "integer"
        },
        {
         "name": "split",
         "rawType": "object",
         "type": "string"
        },
        {
         "name": "product_title",
         "rawType": "object",
         "type": "string"
        },
        {
         "name": "product_description",
         "rawType": "object",
         "type": "string"
        },
        {
         "name": "product_bullet_point",
         "rawType": "object",
         "type": "string"
        },
        {
         "name": "product_brand",
         "rawType": "object",
         "type": "string"
        },
        {
         "name": "product_color",
         "rawType": "object",
         "type": "string"
        },
        {
         "name": "full_product_text",
         "rawType": "object",
         "type": "string"
        },
        {
         "name": "relevance",
         "rawType": "int64",
         "type": "integer"
        }
       ],
       "ref": "7dd943ce-0da2-4e9a-aec7-628d32df2ba3",
       "rows": [],
       "shape": {
        "columns": 16,
        "rows": 0
       }
      },
      "text/html": [
       "<div>\n",
       "<style scoped>\n",
       "    .dataframe tbody tr th:only-of-type {\n",
       "        vertical-align: middle;\n",
       "    }\n",
       "\n",
       "    .dataframe tbody tr th {\n",
       "        vertical-align: top;\n",
       "    }\n",
       "\n",
       "    .dataframe thead th {\n",
       "        text-align: right;\n",
       "    }\n",
       "</style>\n",
       "<table border=\"1\" class=\"dataframe\">\n",
       "  <thead>\n",
       "    <tr style=\"text-align: right;\">\n",
       "      <th></th>\n",
       "      <th>example_id</th>\n",
       "      <th>query</th>\n",
       "      <th>query_id</th>\n",
       "      <th>product_id</th>\n",
       "      <th>product_locale</th>\n",
       "      <th>esci_label</th>\n",
       "      <th>small_version</th>\n",
       "      <th>large_version</th>\n",
       "      <th>split</th>\n",
       "      <th>product_title</th>\n",
       "      <th>product_description</th>\n",
       "      <th>product_bullet_point</th>\n",
       "      <th>product_brand</th>\n",
       "      <th>product_color</th>\n",
       "      <th>full_product_text</th>\n",
       "      <th>relevance</th>\n",
       "    </tr>\n",
       "  </thead>\n",
       "  <tbody>\n",
       "  </tbody>\n",
       "</table>\n",
       "</div>"
      ],
      "text/plain": [
       "Empty DataFrame\n",
       "Columns: [example_id, query, query_id, product_id, product_locale, esci_label, small_version, large_version, split, product_title, product_description, product_bullet_point, product_brand, product_color, full_product_text, relevance]\n",
       "Index: []"
      ]
     },
     "execution_count": 12,
     "metadata": {},
     "output_type": "execute_result"
    }
   ],
   "source": [
    "df_train[df_train['product_id']=='B075D95T44']"
   ]
  },
  {
   "cell_type": "code",
   "execution_count": 11,
   "id": "1fda4dc1",
   "metadata": {},
   "outputs": [
    {
     "data": {
      "application/vnd.microsoft.datawrangler.viewer.v0+json": {
       "columns": [
        {
         "name": "index",
         "rawType": "int64",
         "type": "integer"
        },
        {
         "name": "example_id",
         "rawType": "int64",
         "type": "integer"
        },
        {
         "name": "query",
         "rawType": "object",
         "type": "string"
        },
        {
         "name": "query_id",
         "rawType": "int64",
         "type": "integer"
        },
        {
         "name": "product_id",
         "rawType": "object",
         "type": "string"
        },
        {
         "name": "product_locale",
         "rawType": "object",
         "type": "string"
        },
        {
         "name": "esci_label",
         "rawType": "object",
         "type": "string"
        },
        {
         "name": "small_version",
         "rawType": "int64",
         "type": "integer"
        },
        {
         "name": "large_version",
         "rawType": "int64",
         "type": "integer"
        },
        {
         "name": "split",
         "rawType": "object",
         "type": "string"
        },
        {
         "name": "product_title",
         "rawType": "object",
         "type": "string"
        },
        {
         "name": "product_description",
         "rawType": "object",
         "type": "string"
        },
        {
         "name": "product_bullet_point",
         "rawType": "object",
         "type": "string"
        },
        {
         "name": "product_brand",
         "rawType": "object",
         "type": "string"
        },
        {
         "name": "product_color",
         "rawType": "object",
         "type": "string"
        },
        {
         "name": "full_product_text",
         "rawType": "object",
         "type": "string"
        },
        {
         "name": "relevance",
         "rawType": "int64",
         "type": "integer"
        }
       ],
       "ref": "118ddfbc-2a4e-4209-80d8-20860d72a8b7",
       "rows": [],
       "shape": {
        "columns": 16,
        "rows": 0
       }
      },
      "text/html": [
       "<div>\n",
       "<style scoped>\n",
       "    .dataframe tbody tr th:only-of-type {\n",
       "        vertical-align: middle;\n",
       "    }\n",
       "\n",
       "    .dataframe tbody tr th {\n",
       "        vertical-align: top;\n",
       "    }\n",
       "\n",
       "    .dataframe thead th {\n",
       "        text-align: right;\n",
       "    }\n",
       "</style>\n",
       "<table border=\"1\" class=\"dataframe\">\n",
       "  <thead>\n",
       "    <tr style=\"text-align: right;\">\n",
       "      <th></th>\n",
       "      <th>example_id</th>\n",
       "      <th>query</th>\n",
       "      <th>query_id</th>\n",
       "      <th>product_id</th>\n",
       "      <th>product_locale</th>\n",
       "      <th>esci_label</th>\n",
       "      <th>small_version</th>\n",
       "      <th>large_version</th>\n",
       "      <th>split</th>\n",
       "      <th>product_title</th>\n",
       "      <th>product_description</th>\n",
       "      <th>product_bullet_point</th>\n",
       "      <th>product_brand</th>\n",
       "      <th>product_color</th>\n",
       "      <th>full_product_text</th>\n",
       "      <th>relevance</th>\n",
       "    </tr>\n",
       "  </thead>\n",
       "  <tbody>\n",
       "  </tbody>\n",
       "</table>\n",
       "</div>"
      ],
      "text/plain": [
       "Empty DataFrame\n",
       "Columns: [example_id, query, query_id, product_id, product_locale, esci_label, small_version, large_version, split, product_title, product_description, product_bullet_point, product_brand, product_color, full_product_text, relevance]\n",
       "Index: []"
      ]
     },
     "execution_count": 11,
     "metadata": {},
     "output_type": "execute_result"
    }
   ],
   "source": [
    "df_train[df_train['query']=='new balance mens orange']"
   ]
  },
  {
   "cell_type": "code",
   "execution_count": 14,
   "id": "dc7a275e",
   "metadata": {},
   "outputs": [
    {
     "data": {
      "application/vnd.microsoft.datawrangler.viewer.v0+json": {
       "columns": [
        {
         "name": "index",
         "rawType": "int64",
         "type": "integer"
        },
        {
         "name": "example_id",
         "rawType": "int64",
         "type": "integer"
        },
        {
         "name": "query",
         "rawType": "object",
         "type": "string"
        },
        {
         "name": "query_id",
         "rawType": "int64",
         "type": "integer"
        },
        {
         "name": "product_id",
         "rawType": "object",
         "type": "string"
        },
        {
         "name": "product_locale",
         "rawType": "object",
         "type": "string"
        },
        {
         "name": "esci_label",
         "rawType": "object",
         "type": "string"
        },
        {
         "name": "small_version",
         "rawType": "int64",
         "type": "integer"
        },
        {
         "name": "large_version",
         "rawType": "int64",
         "type": "integer"
        },
        {
         "name": "split",
         "rawType": "object",
         "type": "string"
        },
        {
         "name": "product_title",
         "rawType": "object",
         "type": "string"
        },
        {
         "name": "product_description",
         "rawType": "object",
         "type": "string"
        },
        {
         "name": "product_bullet_point",
         "rawType": "object",
         "type": "string"
        },
        {
         "name": "product_brand",
         "rawType": "object",
         "type": "string"
        },
        {
         "name": "product_color",
         "rawType": "object",
         "type": "string"
        },
        {
         "name": "full_product_text",
         "rawType": "object",
         "type": "string"
        },
        {
         "name": "relevance",
         "rawType": "int64",
         "type": "integer"
        }
       ],
       "ref": "e53d28e3-1778-4757-a5ed-4d92ae300496",
       "rows": [],
       "shape": {
        "columns": 16,
        "rows": 0
       }
      },
      "text/html": [
       "<div>\n",
       "<style scoped>\n",
       "    .dataframe tbody tr th:only-of-type {\n",
       "        vertical-align: middle;\n",
       "    }\n",
       "\n",
       "    .dataframe tbody tr th {\n",
       "        vertical-align: top;\n",
       "    }\n",
       "\n",
       "    .dataframe thead th {\n",
       "        text-align: right;\n",
       "    }\n",
       "</style>\n",
       "<table border=\"1\" class=\"dataframe\">\n",
       "  <thead>\n",
       "    <tr style=\"text-align: right;\">\n",
       "      <th></th>\n",
       "      <th>example_id</th>\n",
       "      <th>query</th>\n",
       "      <th>query_id</th>\n",
       "      <th>product_id</th>\n",
       "      <th>product_locale</th>\n",
       "      <th>esci_label</th>\n",
       "      <th>small_version</th>\n",
       "      <th>large_version</th>\n",
       "      <th>split</th>\n",
       "      <th>product_title</th>\n",
       "      <th>product_description</th>\n",
       "      <th>product_bullet_point</th>\n",
       "      <th>product_brand</th>\n",
       "      <th>product_color</th>\n",
       "      <th>full_product_text</th>\n",
       "      <th>relevance</th>\n",
       "    </tr>\n",
       "  </thead>\n",
       "  <tbody>\n",
       "  </tbody>\n",
       "</table>\n",
       "</div>"
      ],
      "text/plain": [
       "Empty DataFrame\n",
       "Columns: [example_id, query, query_id, product_id, product_locale, esci_label, small_version, large_version, split, product_title, product_description, product_bullet_point, product_brand, product_color, full_product_text, relevance]\n",
       "Index: []"
      ]
     },
     "execution_count": 14,
     "metadata": {},
     "output_type": "execute_result"
    }
   ],
   "source": [
    "df_train[df_train['product_title']==\"New Balance Men's 990v4 Sneaker, Orange, 11.5 D US\"]"
   ]
  },
  {
   "cell_type": "markdown",
   "id": "13b593b7",
   "metadata": {},
   "source": [
    "Try feeding the full product pool to the model"
   ]
  },
  {
   "cell_type": "code",
   "execution_count": 15,
   "id": "429fe0aa",
   "metadata": {},
   "outputs": [
    {
     "data": {
      "application/vnd.jupyter.widget-view+json": {
       "model_id": "8cae1be119a8484dacd779ba2ad3d533",
       "version_major": 2,
       "version_minor": 0
      },
      "text/plain": [
       "Batches:   0%|          | 0/18793 [00:00<?, ?it/s]"
      ]
     },
     "metadata": {},
     "output_type": "display_data"
    }
   ],
   "source": [
    "df_full = pd.read_csv(\"data/processed_small.csv\")\n",
    "df_full = df_full.dropna(subset=['full_product_text', 'product_id']).reset_index(drop=True)\n",
    "\n",
    "all_product_texts = df_full['full_product_text'].tolist()\n",
    "all_product_ids = df_full['product_id'].tolist()\n",
    "\n",
    "# Generate embeddings\n",
    "all_product_vecs = model.encode(all_product_texts, convert_to_numpy=True, show_progress_bar=True)\n"
   ]
  },
  {
   "cell_type": "code",
   "execution_count": 18,
   "id": "81c100d2",
   "metadata": {},
   "outputs": [
    {
     "name": "stdout",
     "output_type": "stream",
     "text": [
      "Collecting faiss-cpu\n",
      "  Downloading faiss_cpu-1.11.0.post1-cp312-cp312-win_amd64.whl.metadata (5.1 kB)\n",
      "Requirement already satisfied: numpy<3.0,>=1.25.0 in d:\\anaconda\\lib\\site-packages (from faiss-cpu) (1.26.4)\n",
      "Requirement already satisfied: packaging in c:\\users\\nico rig\\appdata\\roaming\\python\\python312\\site-packages (from faiss-cpu) (24.2)\n",
      "Downloading faiss_cpu-1.11.0.post1-cp312-cp312-win_amd64.whl (14.9 MB)\n",
      "   ---------------------------------------- 0.0/14.9 MB ? eta -:--:--\n",
      "   -------------- ------------------------- 5.5/14.9 MB 37.2 MB/s eta 0:00:01\n",
      "   ------------------------- -------------- 9.4/14.9 MB 26.7 MB/s eta 0:00:01\n",
      "   ---------------------------------------- 14.9/14.9 MB 26.7 MB/s eta 0:00:00\n",
      "Installing collected packages: faiss-cpu\n",
      "Successfully installed faiss-cpu-1.11.0.post1\n",
      "Note: you may need to restart the kernel to use updated packages.\n"
     ]
    }
   ],
   "source": [
    "pip install faiss-cpu"
   ]
  },
  {
   "cell_type": "code",
   "execution_count": null,
   "id": "56b98285",
   "metadata": {},
   "outputs": [],
   "source": [
    "import numpy as np\n",
    "\n",
    "# Save embeddings and product IDs\n",
    "np.save(\"embeddings/all_product_vecs.npy\", all_product_vecs)\n",
    "np.save(\"embeddings/all_product_ids.npy\", np.array(all_product_ids))\n",
    "\n",
    "print(\"✅ Saved product embeddings and IDs to /embeddings/\")"
   ]
  },
  {
   "cell_type": "code",
   "execution_count": 21,
   "id": "ddfea4ac",
   "metadata": {},
   "outputs": [],
   "source": [
    "import numpy as np\n",
    "\n",
    "np.savez_compressed(\n",
    "    'data/saved_embeddings/product_embeddings.npz',\n",
    "    product_ids=np.array(all_product_ids),\n",
    "    embeddings=all_product_vecs\n",
    ")"
   ]
  },
  {
   "cell_type": "code",
   "execution_count": 25,
   "id": "e9d6beeb",
   "metadata": {},
   "outputs": [],
   "source": [
    "import faiss\n",
    "import numpy as np\n",
    "\n",
    "# Normalize embeddings for cosine similarity\n",
    "faiss.normalize_L2(all_product_vecs)\n",
    "\n",
    "# Create FAISS index\n",
    "index = faiss.IndexFlatIP(all_product_vecs.shape[1])\n",
    "index.add(all_product_vecs)\n",
    "\n",
    "# Encode a query\n",
    "query_vec = model.encode([\"new balance mens orange\"], convert_to_numpy=True)\n",
    "faiss.normalize_L2(query_vec)\n",
    "\n",
    "# Search top 10\n",
    "_, top_k_idx = index.search(query_vec, k=10)\n",
    "top_k_ids = [all_product_ids[i] for i in top_k_idx[0]]"
   ]
  },
  {
   "cell_type": "code",
   "execution_count": 26,
   "id": "15c360a8",
   "metadata": {},
   "outputs": [
    {
     "data": {
      "text/plain": [
       "['B079FHGY54',\n",
       " 'B075D95T44',\n",
       " 'B07W7CWG9F',\n",
       " 'B0751RDTVZ',\n",
       " 'B07J5672LP',\n",
       " 'B07PJX2XH1',\n",
       " 'B07RJWBW5F',\n",
       " 'B07BL3D626',\n",
       " 'B06Y2XLLR6',\n",
       " 'B06Y2ZW6LP']"
      ]
     },
     "execution_count": 26,
     "metadata": {},
     "output_type": "execute_result"
    }
   ],
   "source": [
    "top_k_ids"
   ]
  },
  {
   "cell_type": "code",
   "execution_count": 27,
   "id": "1d2779ff",
   "metadata": {},
   "outputs": [
    {
     "name": "stdout",
     "output_type": "stream",
     "text": [
      "\n",
      "🔍 Query: new balance mens orange\n",
      "\n",
      "📈 Top 10 Retrieved Products:\n",
      "\n",
      "🔹 Rank 1\n",
      "Product ID: B079FHGY54\n",
      "Title     : New Balance Mens X90 Orange\n",
      "——————————————————————————————————————————————————\n",
      "\n",
      "🔹 Rank 2\n",
      "Product ID: B075D95T44\n",
      "Title     : New Balance Men's 990v4 Sneaker, Orange, 11.5 D US\n",
      "——————————————————————————————————————————————————\n",
      "\n",
      "🔹 Rank 3\n",
      "Product ID: B07W7CWG9F\n",
      "Title     : New Balance Iconic Mens 500 V1 (8.5, Navy/Grey/Gum)\n",
      "——————————————————————————————————————————————————\n",
      "\n",
      "🔹 Rank 4\n",
      "Product ID: B0751RDTVZ\n",
      "Title     : New Balance Men's 574 V2 Essential Sneaker, Varsity Orange, 17 XW US\n",
      "——————————————————————————————————————————————————\n",
      "\n",
      "🔹 Rank 5\n",
      "Product ID: B07J5672LP\n",
      "Title     : New Balance Men's 990v5, Burgundy/Navy, 9.5 D US\n",
      "——————————————————————————————————————————————————\n",
      "\n",
      "🔹 Rank 6\n",
      "Product ID: B07PJX2XH1\n",
      "Title     : New Balance Men's 517 V2 Cross Trainer, Pigment/Varsity Orange, 12\n",
      "——————————————————————————————————————————————————\n",
      "\n",
      "🔹 Rank 7\n",
      "Product ID: B07RJWBW5F\n",
      "Title     : New Balance Men's 574 V2 Sneaker, Black/Neo Classic Blue, 12 M US\n",
      "——————————————————————————————————————————————————\n",
      "\n",
      "🔹 Rank 8\n",
      "Product ID: B07BL3D626\n",
      "Title     : New Balance Men's 574 V2 Pebbled Sport Sneaker, Team Royal/Dark, 7 W US\n",
      "——————————————————————————————————————————————————\n",
      "\n",
      "🔹 Rank 9\n",
      "Product ID: B06Y2XLLR6\n",
      "Title     : New Balance Men's 574 V2 Evergreen Sneaker, Grey/Grey, 13\n",
      "——————————————————————————————————————————————————\n",
      "\n",
      "🔹 Rank 10\n",
      "Product ID: B06Y2ZW6LP\n",
      "Title     : New Balance Men's 574 V2 Evergreen Sneaker, Grey/Grey, 11.5 Wide\n",
      "——————————————————————————————————————————————————\n"
     ]
    }
   ],
   "source": [
    "print(f\"\\n🔍 Query: {query_text}\")\n",
    "print(f\"\\n📈 Top 10 Retrieved Products:\")\n",
    "\n",
    "for rank, i in enumerate(top_k_idx[0], 1):\n",
    "    product_id = all_product_ids[i]\n",
    "    product_title = df_full.iloc[i]['product_title']\n",
    "    print(f\"\\n🔹 Rank {rank}\")\n",
    "    print(f\"Product ID: {product_id}\")\n",
    "    print(f\"Title     : {product_title}\")\n",
    "    print(\"—\" * 50)"
   ]
  },
  {
   "cell_type": "markdown",
   "id": "9f6616ee",
   "metadata": {},
   "source": [
    "Retrain with relevant E and S data only "
   ]
  },
  {
   "cell_type": "code",
   "execution_count": 28,
   "id": "6d0b2205",
   "metadata": {},
   "outputs": [
    {
     "name": "stdout",
     "output_type": "stream",
     "text": [
      "✅ Filtered training set: 19872 pairs with relevance ≥ 2\n"
     ]
    },
    {
     "data": {
      "application/vnd.jupyter.widget-view+json": {
       "model_id": "f74c6f0240f045f89cd35909a37fbee5",
       "version_major": 2,
       "version_minor": 0
      },
      "text/plain": [
       "Computing widget examples:   0%|          | 0/1 [00:00<?, ?example/s]"
      ]
     },
     "metadata": {},
     "output_type": "display_data"
    },
    {
     "data": {
      "text/html": [
       "\n",
       "    <div>\n",
       "      \n",
       "      <progress value='4968' max='4968' style='width:300px; height:20px; vertical-align: middle;'></progress>\n",
       "      [4968/4968 3:42:28, Epoch 8/8]\n",
       "    </div>\n",
       "    <table border=\"1\" class=\"dataframe\">\n",
       "  <thead>\n",
       " <tr style=\"text-align: left;\">\n",
       "      <th>Step</th>\n",
       "      <th>Training Loss</th>\n",
       "    </tr>\n",
       "  </thead>\n",
       "  <tbody>\n",
       "    <tr>\n",
       "      <td>500</td>\n",
       "      <td>0.366700</td>\n",
       "    </tr>\n",
       "    <tr>\n",
       "      <td>1000</td>\n",
       "      <td>0.266800</td>\n",
       "    </tr>\n",
       "    <tr>\n",
       "      <td>1500</td>\n",
       "      <td>0.212500</td>\n",
       "    </tr>\n",
       "    <tr>\n",
       "      <td>2000</td>\n",
       "      <td>0.176200</td>\n",
       "    </tr>\n",
       "    <tr>\n",
       "      <td>2500</td>\n",
       "      <td>0.147200</td>\n",
       "    </tr>\n",
       "    <tr>\n",
       "      <td>3000</td>\n",
       "      <td>0.123400</td>\n",
       "    </tr>\n",
       "    <tr>\n",
       "      <td>3500</td>\n",
       "      <td>0.114000</td>\n",
       "    </tr>\n",
       "    <tr>\n",
       "      <td>4000</td>\n",
       "      <td>0.104000</td>\n",
       "    </tr>\n",
       "    <tr>\n",
       "      <td>4500</td>\n",
       "      <td>0.095700</td>\n",
       "    </tr>\n",
       "  </tbody>\n",
       "</table><p>"
      ],
      "text/plain": [
       "<IPython.core.display.HTML object>"
      ]
     },
     "metadata": {},
     "output_type": "display_data"
    },
    {
     "name": "stdout",
     "output_type": "stream",
     "text": [
      "✅ Model saved to: saved_models/two_tower_mnr_25k_E_and_S\n"
     ]
    }
   ],
   "source": [
    "import pandas as pd\n",
    "from sentence_transformers import SentenceTransformer, InputExample, losses\n",
    "from torch.utils.data import DataLoader\n",
    "\n",
    "# === Load the full training set ===\n",
    "df_train = pd.read_csv(\"data/processed_small_25k.csv\")\n",
    "df_train = df_train.dropna(subset=['query', 'full_product_text', 'relevance']).reset_index(drop=True)\n",
    "\n",
    "# === Filter to only high-relevance (E or S) pairs ===\n",
    "df_train = df_train[df_train['relevance'] >= 2]  # Keep only E (3) and S (2)\n",
    "print(f\"✅ Filtered training set: {len(df_train)} pairs with relevance ≥ 2\")\n",
    "\n",
    "# === Create InputExamples (positive pairs only) ===\n",
    "train_samples = [\n",
    "    InputExample(texts=[row['query'], row['full_product_text']])\n",
    "    for _, row in df_train.iterrows()\n",
    "]\n",
    "\n",
    "# === Initialize sentence-transformers model ===\n",
    "model = SentenceTransformer('all-MiniLM-L6-v2')\n",
    "\n",
    "# === Prepare DataLoader and loss ===\n",
    "train_dataloader = DataLoader(train_samples, shuffle=True, batch_size=32)\n",
    "train_loss = losses.MultipleNegativesRankingLoss(model)\n",
    "\n",
    "# === Train the model ===\n",
    "model.fit(\n",
    "    train_objectives=[(train_dataloader, train_loss)],\n",
    "    epochs=8,\n",
    "    warmup_steps=100,\n",
    "    show_progress_bar=True\n",
    ")\n",
    "\n",
    "# === Save trained model ===\n",
    "model_save_path = \"saved_models/two_tower_mnr_25k_E_and_S\"\n",
    "model.save(model_save_path)\n",
    "print(f\"✅ Model saved to: {model_save_path}\")\n"
   ]
  },
  {
   "cell_type": "markdown",
   "id": "cb5b9e3f",
   "metadata": {},
   "source": [
    "Create new embeddings "
   ]
  },
  {
   "cell_type": "code",
   "execution_count": 36,
   "id": "a7e946c3",
   "metadata": {},
   "outputs": [
    {
     "data": {
      "application/vnd.jupyter.widget-view+json": {
       "model_id": "32fa93f478414440b4327c936ca31f52",
       "version_major": 2,
       "version_minor": 0
      },
      "text/plain": [
       "Batches:   0%|          | 0/18793 [00:00<?, ?it/s]"
      ]
     },
     "metadata": {},
     "output_type": "display_data"
    }
   ],
   "source": [
    "# Load your fine-tuned model\n",
    "model = SentenceTransformer(\"saved_models/two_tower_mnr_25k_E_and_S\")\n",
    "\n",
    "# Recreate product embeddings\n",
    "df_full = pd.read_csv(\"data/processed_small.csv\")\n",
    "df_full = df_full.dropna(subset=['full_product_text', 'product_id']).reset_index(drop=True)\n",
    "\n",
    "all_product_texts = df_full['full_product_text'].tolist()\n",
    "all_product_ids = df_full['product_id'].tolist()\n",
    "\n",
    "all_product_vecs = model.encode(all_product_texts, convert_to_numpy=True, show_progress_bar=True)\n",
    "\n",
    "# Optional: save to disk\n",
    "import numpy as np\n",
    "np.savez_compressed(\n",
    "    'data/saved_embeddings/product_embeddings_mnr_25k_ES.npz',\n",
    "    product_ids=np.array(all_product_ids),\n",
    "    embeddings=all_product_vecs\n",
    ")"
   ]
  },
  {
   "cell_type": "markdown",
   "id": "0d328eac",
   "metadata": {},
   "source": [
    "new test set"
   ]
  },
  {
   "cell_type": "markdown",
   "id": "a6c98535",
   "metadata": {},
   "source": [
    "Load model and test set"
   ]
  },
  {
   "cell_type": "code",
   "execution_count": 38,
   "id": "d7f8c642",
   "metadata": {},
   "outputs": [
    {
     "data": {
      "application/vnd.jupyter.widget-view+json": {
       "model_id": "07dd7be4bf1d469d96e507bfff762d75",
       "version_major": 2,
       "version_minor": 0
      },
      "text/plain": [
       "Batches:   0%|          | 0/125 [00:00<?, ?it/s]"
      ]
     },
     "metadata": {},
     "output_type": "display_data"
    }
   ],
   "source": [
    "# Load fine-tuned model\n",
    "model = SentenceTransformer(\"saved_models/two_tower_mnr_25k_E_and_S\")\n",
    "\n",
    "# Load test set\n",
    "df_test = pd.read_csv(\"data/processed_small_4k_test.csv\")\n",
    "df_test = df_test.dropna(subset=['query', 'product_id']).reset_index(drop=True)\n",
    "\n",
    "queries = df_test['query'].tolist()\n",
    "true_product_ids = df_test['product_id'].tolist()\n",
    "query_vecs = model.encode(queries, convert_to_numpy=True, show_progress_bar=True)"
   ]
  },
  {
   "cell_type": "markdown",
   "id": "1f163016",
   "metadata": {},
   "source": [
    "check recall at 10"
   ]
  },
  {
   "cell_type": "code",
   "execution_count": 39,
   "id": "3f3b9d5b",
   "metadata": {},
   "outputs": [],
   "source": [
    "from sklearn.metrics.pairwise import cosine_similarity\n",
    "\n",
    "def recall_at_k(query_vecs, product_vecs, product_ids, true_product_ids, K=10, sample_size=None, seed=42):\n",
    "    if sample_size is not None and sample_size < len(query_vecs):\n",
    "        np.random.seed(seed)\n",
    "        sample_idx = np.random.choice(len(query_vecs), size=sample_size, replace=False)\n",
    "        query_vecs = query_vecs[sample_idx]\n",
    "        true_product_ids = [true_product_ids[i] for i in sample_idx]\n",
    "\n",
    "    sim_matrix = cosine_similarity(query_vecs, product_vecs)\n",
    "    hits = 0\n",
    "\n",
    "    for i, sims in enumerate(sim_matrix):\n",
    "        top_k_idx = np.argsort(sims)[::-1][:K]\n",
    "        top_k_ids = [product_ids[j] for j in top_k_idx]\n",
    "        if true_product_ids[i] in top_k_ids:\n",
    "            hits += 1\n",
    "\n",
    "    return hits / len(true_product_ids)"
   ]
  },
  {
   "cell_type": "code",
   "execution_count": 40,
   "id": "3546dc33",
   "metadata": {},
   "outputs": [
    {
     "name": "stdout",
     "output_type": "stream",
     "text": [
      "✅ Recall@10 (fine-tuned model, 200 queries): 0.1900\n"
     ]
    }
   ],
   "source": [
    "recall_10 = recall_at_k(\n",
    "    query_vecs, all_product_vecs, all_product_ids,\n",
    "    true_product_ids, K=10, sample_size=200\n",
    ")\n",
    "\n",
    "print(f\"✅ Recall@10 (fine-tuned model, 200 queries): {recall_10:.4f}\")"
   ]
  },
  {
   "cell_type": "code",
   "execution_count": 41,
   "id": "999f2c35",
   "metadata": {},
   "outputs": [
    {
     "name": "stdout",
     "output_type": "stream",
     "text": [
      "\n",
      "🔍 Query: new balance mens orange\n",
      "✅ Ground truth: New Balance Men's 4040 V5 Metal Baseball Shoe, Black | Orange, 10 M US\n",
      "\n",
      "📌 Top 10 Matches:\n",
      " 1. New Balance Mens X90 Orange\n",
      " 2. New Balance Iconic Mens 500 V1 (8.5, Navy/Grey/Gum)\n",
      " 3. New Balance Men's 990v4 Sneaker, Orange, 11.5 D US\n",
      " 4. New Balance Men's 574 V2 Essential Sneaker, Varsity Orange, 17 XW US\n",
      " 5. New Balance Men's 990v5, Burgundy/Navy, 9.5 D US\n",
      " 6. New Balance Men's 574 V2 Sneaker, Black/Neo Classic Blue, 12 M US\n",
      " 7. New Balance Men's 574 V2 Pebbled Sport Sneaker, Team Royal/Dark, 7 W US\n",
      " 8. New Balance Men's 574 V2 Evergreen Sneaker, Grey/Grey, 11.5 Wide\n",
      " 9. New Balance Men's 574 V2 Evergreen Sneaker, Grey/Grey, 13\n",
      "10. New Balance Men's 517 V2 Cross Trainer, Pigment/Varsity Orange, 12\n"
     ]
    }
   ],
   "source": [
    "import faiss\n",
    "\n",
    "# Normalize for cosine similarity\n",
    "faiss.normalize_L2(all_product_vecs)\n",
    "faiss.normalize_L2(query_vecs)\n",
    "\n",
    "# Index all products\n",
    "index = faiss.IndexFlatIP(all_product_vecs.shape[1])\n",
    "index.add(all_product_vecs)\n",
    "\n",
    "# Search top 10 for one query\n",
    "_, top_k_idx = index.search(query_vecs[0:1], k=10)\n",
    "top_k_ids = [all_product_ids[i] for i in top_k_idx[0]]\n",
    "\n",
    "# Load product titles\n",
    "df_products = pd.read_csv(\"data/processed_small.csv\")\n",
    "product_lookup = dict(zip(df_products['product_id'], df_products['product_title']))\n",
    "\n",
    "print(f\"\\n🔍 Query: {queries[0]}\")\n",
    "print(f\"✅ Ground truth: {product_lookup.get(true_product_ids[0], '[not found]')}\\n\")\n",
    "print(\"📌 Top 10 Matches:\")\n",
    "for rank, pid in enumerate(top_k_ids, 1):\n",
    "    print(f\"{rank:2d}. {product_lookup.get(pid, '[title not found]')}\")"
   ]
  },
  {
   "cell_type": "code",
   "execution_count": 30,
   "id": "1eac46b2",
   "metadata": {},
   "outputs": [],
   "source": [
    "import pandas as pd\n",
    "\n",
    "df_test = pd.read_csv(\"data/processed_small_4k_test.csv\")\n",
    "df_test = df_test.dropna(subset=['query', 'product_id']).reset_index(drop=True)\n",
    "\n",
    "queries = df_test['query'].tolist()\n",
    "true_product_ids = df_test['product_id'].tolist()\n"
   ]
  },
  {
   "cell_type": "code",
   "execution_count": 31,
   "id": "d1a394bb",
   "metadata": {},
   "outputs": [
    {
     "data": {
      "application/vnd.jupyter.widget-view+json": {
       "model_id": "24fd8506c98d4e9d9bcd133aef86eb2b",
       "version_major": 2,
       "version_minor": 0
      },
      "text/plain": [
       "Batches:   0%|          | 0/125 [00:00<?, ?it/s]"
      ]
     },
     "metadata": {},
     "output_type": "display_data"
    }
   ],
   "source": [
    "query_vecs = model.encode(queries, convert_to_numpy=True, show_progress_bar=True)\n"
   ]
  },
  {
   "cell_type": "code",
   "execution_count": 32,
   "id": "567e6f56",
   "metadata": {},
   "outputs": [],
   "source": [
    "from sklearn.metrics.pairwise import cosine_similarity\n",
    "\n",
    "def recall_at_k(query_vecs, product_vecs, product_ids, true_product_ids, K=10, sample_size=None, seed=42):\n",
    "    if sample_size is not None and sample_size < len(query_vecs):\n",
    "        np.random.seed(seed)\n",
    "        sample_idx = np.random.choice(len(query_vecs), size=sample_size, replace=False)\n",
    "        query_vecs = query_vecs[sample_idx]\n",
    "        true_product_ids = [true_product_ids[i] for i in sample_idx]\n",
    "\n",
    "    sim_matrix = cosine_similarity(query_vecs, product_vecs)\n",
    "    hits = 0\n",
    "\n",
    "    for i, sims in enumerate(sim_matrix):\n",
    "        top_k_idx = np.argsort(sims)[::-1][:K]\n",
    "        top_k_ids = [product_ids[j] for j in top_k_idx]\n",
    "        if true_product_ids[i] in top_k_ids:\n",
    "            hits += 1\n",
    "\n",
    "    return hits / len(true_product_ids)\n"
   ]
  },
  {
   "cell_type": "code",
   "execution_count": 34,
   "id": "f418f8a7",
   "metadata": {},
   "outputs": [
    {
     "name": "stdout",
     "output_type": "stream",
     "text": [
      "✅ Recall@10 (on 200 test queries, new model): 0.0000\n"
     ]
    }
   ],
   "source": [
    "recall_10 = recall_at_k(query_vecs, all_product_vecs, all_product_ids, true_product_ids, K=10, sample_size=1)\n",
    "print(f\"✅ Recall@10 (on 200 test queries, new model): {recall_10:.4f}\")"
   ]
  },
  {
   "cell_type": "code",
   "execution_count": 35,
   "id": "0bf38f6d",
   "metadata": {},
   "outputs": [
    {
     "data": {
      "text/plain": [
       "0.0"
      ]
     },
     "execution_count": 35,
     "metadata": {},
     "output_type": "execute_result"
    }
   ],
   "source": [
    "recall_10"
   ]
  },
  {
   "cell_type": "code",
   "execution_count": null,
   "id": "4723ca8e",
   "metadata": {},
   "outputs": [],
   "source": [
    "print(f\"\\n🔍 Query: {query_text}\")\n",
    "print(f\"\\n📈 Top 10 Retrieved Products:\")\n",
    "\n",
    "for rank, i in enumerate(top_k_idx[0], 1):\n",
    "    product_id = all_product_ids[i]\n",
    "    product_title = df_full.iloc[i]['product_title']\n",
    "    print(f\"\\n🔹 Rank {rank}\")\n",
    "    print(f\"Product ID: {product_id}\")\n",
    "    print(f\"Title     : {product_title}\")\n",
    "    print(\"—\" * 50)"
   ]
  }
 ],
 "metadata": {
  "kernelspec": {
   "display_name": "base",
   "language": "python",
   "name": "python3"
  },
  "language_info": {
   "codemirror_mode": {
    "name": "ipython",
    "version": 3
   },
   "file_extension": ".py",
   "mimetype": "text/x-python",
   "name": "python",
   "nbconvert_exporter": "python",
   "pygments_lexer": "ipython3",
   "version": "3.12.7"
  }
 },
 "nbformat": 4,
 "nbformat_minor": 5
}
